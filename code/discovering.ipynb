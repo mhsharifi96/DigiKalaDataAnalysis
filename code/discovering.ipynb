{
 "cells": [
  {
   "cell_type": "code",
   "execution_count": 1,
   "metadata": {},
   "outputs": [],
   "source": [
    "# import required libraries for dataframe and visualization\n",
    "\n",
    "import numpy as np\n",
    "import pandas as pd\n",
    "import matplotlib.pyplot as plt\n",
    "import seaborn as sns\n",
    "import datetime as dt\n",
    "from matplotlib import colors\n",
    "import seaborn as sns"
   ]
  },
  {
   "cell_type": "code",
   "execution_count": 2,
   "metadata": {},
   "outputs": [],
   "source": [
    "retail = pd.read_excel('dataset/digikala_customer_orders.xlsx', sheet_name=\"orders\")"
   ]
  },
  {
   "cell_type": "code",
   "execution_count": 3,
   "metadata": {},
   "outputs": [
    {
     "data": {
      "text/html": [
       "<div>\n",
       "<style scoped>\n",
       "    .dataframe tbody tr th:only-of-type {\n",
       "        vertical-align: middle;\n",
       "    }\n",
       "\n",
       "    .dataframe tbody tr th {\n",
       "        vertical-align: top;\n",
       "    }\n",
       "\n",
       "    .dataframe thead th {\n",
       "        text-align: right;\n",
       "    }\n",
       "</style>\n",
       "<table border=\"1\" class=\"dataframe\">\n",
       "  <thead>\n",
       "    <tr style=\"text-align: right;\">\n",
       "      <th></th>\n",
       "      <th>order_id</th>\n",
       "      <th>user_id</th>\n",
       "      <th>variant_id</th>\n",
       "      <th>product_id</th>\n",
       "      <th>quantity</th>\n",
       "      <th>price</th>\n",
       "      <th>date</th>\n",
       "      <th>city_id</th>\n",
       "      <th>city_name</th>\n",
       "      <th>state_id</th>\n",
       "      <th>state_name</th>\n",
       "    </tr>\n",
       "  </thead>\n",
       "  <tbody>\n",
       "    <tr>\n",
       "      <th>0</th>\n",
       "      <td>262108413</td>\n",
       "      <td>SlcW7YT835JSzh22o7zRCA==</td>\n",
       "      <td>922274</td>\n",
       "      <td>406523</td>\n",
       "      <td>1</td>\n",
       "      <td>139000</td>\n",
       "      <td>2018-08-20 23:59:02</td>\n",
       "      <td>1698</td>\n",
       "      <td>تهران</td>\n",
       "      <td>9</td>\n",
       "      <td>تهران</td>\n",
       "    </tr>\n",
       "    <tr>\n",
       "      <th>1</th>\n",
       "      <td>262108413</td>\n",
       "      <td>SlcW7YT835JSzh22o7zRCA==</td>\n",
       "      <td>685868</td>\n",
       "      <td>435013</td>\n",
       "      <td>1</td>\n",
       "      <td>890000</td>\n",
       "      <td>2018-08-20 23:59:02</td>\n",
       "      <td>1698</td>\n",
       "      <td>تهران</td>\n",
       "      <td>9</td>\n",
       "      <td>تهران</td>\n",
       "    </tr>\n",
       "    <tr>\n",
       "      <th>2</th>\n",
       "      <td>262108353</td>\n",
       "      <td>NZidrSuPdqoG7RedrFakeA==</td>\n",
       "      <td>275077</td>\n",
       "      <td>163947</td>\n",
       "      <td>1</td>\n",
       "      <td>9890000</td>\n",
       "      <td>2018-08-20 23:58:39</td>\n",
       "      <td>1698</td>\n",
       "      <td>تهران</td>\n",
       "      <td>9</td>\n",
       "      <td>تهران</td>\n",
       "    </tr>\n",
       "    <tr>\n",
       "      <th>3</th>\n",
       "      <td>262108341</td>\n",
       "      <td>dLQImlfXMsgSub4OcfJpGg==</td>\n",
       "      <td>679393</td>\n",
       "      <td>158560</td>\n",
       "      <td>1</td>\n",
       "      <td>349000</td>\n",
       "      <td>2018-08-20 23:58:35</td>\n",
       "      <td>1855</td>\n",
       "      <td>مشهد</td>\n",
       "      <td>12</td>\n",
       "      <td>خراسان رضوی</td>\n",
       "    </tr>\n",
       "    <tr>\n",
       "      <th>4</th>\n",
       "      <td>262108293</td>\n",
       "      <td>O/xo6mGsu7adcgxofe+MdQ==</td>\n",
       "      <td>769096</td>\n",
       "      <td>479854</td>\n",
       "      <td>1</td>\n",
       "      <td>320000</td>\n",
       "      <td>2018-08-20 23:58:28</td>\n",
       "      <td>1698</td>\n",
       "      <td>تهران</td>\n",
       "      <td>9</td>\n",
       "      <td>تهران</td>\n",
       "    </tr>\n",
       "  </tbody>\n",
       "</table>\n",
       "</div>"
      ],
      "text/plain": [
       "    order_id                   user_id  variant_id  product_id  quantity  \\\n",
       "0  262108413  SlcW7YT835JSzh22o7zRCA==      922274      406523         1   \n",
       "1  262108413  SlcW7YT835JSzh22o7zRCA==      685868      435013         1   \n",
       "2  262108353  NZidrSuPdqoG7RedrFakeA==      275077      163947         1   \n",
       "3  262108341  dLQImlfXMsgSub4OcfJpGg==      679393      158560         1   \n",
       "4  262108293  O/xo6mGsu7adcgxofe+MdQ==      769096      479854         1   \n",
       "\n",
       "     price                 date  city_id city_name  state_id   state_name  \n",
       "0   139000  2018-08-20 23:59:02     1698     تهران         9        تهران  \n",
       "1   890000  2018-08-20 23:59:02     1698     تهران         9        تهران  \n",
       "2  9890000  2018-08-20 23:58:39     1698     تهران         9        تهران  \n",
       "3   349000  2018-08-20 23:58:35     1855      مشهد        12  خراسان رضوی  \n",
       "4   320000  2018-08-20 23:58:28     1698     تهران         9        تهران  "
      ]
     },
     "execution_count": 3,
     "metadata": {},
     "output_type": "execute_result"
    }
   ],
   "source": [
    "retail.head()"
   ]
  },
  {
   "cell_type": "code",
   "execution_count": 4,
   "metadata": {},
   "outputs": [
    {
     "name": "stdout",
     "output_type": "stream",
     "text": [
      "length of digikala dataset: 200000\n"
     ]
    }
   ],
   "source": [
    "print(f\"length of digikala dataset: {len(retail)}\")"
   ]
  },
  {
   "cell_type": "code",
   "execution_count": 5,
   "metadata": {},
   "outputs": [
    {
     "name": "stdout",
     "output_type": "stream",
     "text": [
      "<class 'pandas.core.frame.DataFrame'>\n",
      "RangeIndex: 200000 entries, 0 to 199999\n",
      "Data columns (total 11 columns):\n",
      " #   Column      Non-Null Count   Dtype \n",
      "---  ------      --------------   ----- \n",
      " 0   order_id    200000 non-null  int64 \n",
      " 1   user_id     200000 non-null  object\n",
      " 2   variant_id  200000 non-null  int64 \n",
      " 3   product_id  200000 non-null  int64 \n",
      " 4   quantity    200000 non-null  int64 \n",
      " 5   price       200000 non-null  int64 \n",
      " 6   date        200000 non-null  object\n",
      " 7   city_id     200000 non-null  int64 \n",
      " 8   city_name   200000 non-null  object\n",
      " 9   state_id    200000 non-null  int64 \n",
      " 10  state_name  200000 non-null  object\n",
      "dtypes: int64(7), object(4)\n",
      "memory usage: 16.8+ MB\n"
     ]
    }
   ],
   "source": [
    "retail.info()  "
   ]
  },
  {
   "cell_type": "markdown",
   "metadata": {},
   "source": [
    "the dataset don't have null value "
   ]
  },
  {
   "cell_type": "code",
   "execution_count": 6,
   "metadata": {},
   "outputs": [],
   "source": [
    "# Convert to datetime to proper datatype\n",
    "\n",
    "retail['date'] = pd.to_datetime(retail['date'],format='%Y-%m-%d %H:%M:%S')"
   ]
  },
  {
   "cell_type": "code",
   "execution_count": 7,
   "metadata": {},
   "outputs": [
    {
     "name": "stdout",
     "output_type": "stream",
     "text": [
      "Minimum product price : 1\n",
      "Maximum product price : 212000000\n",
      "Avrage product price : 1057299.821535\n"
     ]
    }
   ],
   "source": [
    "print(f'Minimum product price : {retail.price.min()}')\n",
    "print(f'Maximum product price : {retail.price.max()}')\n",
    "print(f'Avrage product price : {retail.price.mean()}')"
   ]
  },
  {
   "cell_type": "code",
   "execution_count": 8,
   "metadata": {},
   "outputs": [
    {
     "data": {
      "text/plain": [
       "70"
      ]
     },
     "execution_count": 8,
     "metadata": {},
     "output_type": "execute_result"
    }
   ],
   "source": [
    "len(retail[retail.price<1000].price)"
   ]
  },
  {
   "cell_type": "code",
   "execution_count": 9,
   "metadata": {},
   "outputs": [
    {
     "data": {
      "text/plain": [
       "<AxesSubplot:>"
      ]
     },
     "execution_count": 9,
     "metadata": {},
     "output_type": "execute_result"
    },
    {
     "data": {
      "image/png": "[encoded data removed]",
      "text/plain": [
       "<Figure size 432x288 with 1 Axes>"
      ]
     },
     "metadata": {
      "needs_background": "light"
     },
     "output_type": "display_data"
    }
   ],
   "source": [
    "retail.price.plot(kind='line')"
   ]
  },
  {
   "cell_type": "markdown",
   "metadata": {},
   "source": [
    "Now we will be exploring the unique values in the categorical features to get a clear idea of the data."
   ]
  },
  {
   "cell_type": "code",
   "execution_count": 10,
   "metadata": {},
   "outputs": [
    {
     "name": "stdout",
     "output_type": "stream",
     "text": [
      "The total number of unique orders: 74529\n"
     ]
    }
   ],
   "source": [
    "print(\"The total number of unique orders:\",len(retail['order_id'].unique()))"
   ]
  },
  {
   "cell_type": "code",
   "execution_count": 11,
   "metadata": {},
   "outputs": [
    {
     "name": "stdout",
     "output_type": "stream",
     "text": [
      "The total number of unique users: 56104\n"
     ]
    }
   ],
   "source": [
    "print(\"The total number of unique users:\",len(retail['user_id'].unique()))"
   ]
  },
  {
   "cell_type": "code",
   "execution_count": 12,
   "metadata": {},
   "outputs": [
    {
     "name": "stdout",
     "output_type": "stream",
     "text": [
      "The total number of unique products: 61734\n"
     ]
    }
   ],
   "source": [
    "print(\"The total number of unique products:\",len(retail['product_id'].unique()))"
   ]
  },
  {
   "cell_type": "code",
   "execution_count": 13,
   "metadata": {},
   "outputs": [
    {
     "name": "stdout",
     "output_type": "stream",
     "text": [
      "The total number of unique cities: 829\n"
     ]
    }
   ],
   "source": [
    "print(\"The total number of unique cities:\",len(retail['city_id'].unique()))"
   ]
  },
  {
   "cell_type": "code",
   "execution_count": 14,
   "metadata": {},
   "outputs": [
    {
     "name": "stdout",
     "output_type": "stream",
     "text": [
      "The total number of unique states: 31\n"
     ]
    }
   ],
   "source": [
    "print(\"The total number of unique states:\",len(retail['state_id'].unique()))"
   ]
  },
  {
   "cell_type": "code",
   "execution_count": 15,
   "metadata": {},
   "outputs": [],
   "source": [
    "b=retail.groupby(['state_id','user_id','order_id']).agg({'order_id':\"count\"})"
   ]
  },
  {
   "cell_type": "code",
   "execution_count": 16,
   "metadata": {},
   "outputs": [
    {
     "data": {
      "text/plain": [
       "<AxesSubplot:>"
      ]
     },
     "execution_count": 16,
     "metadata": {},
     "output_type": "execute_result"
    },
    {
     "data": {
      "image/png": "[encoded data removed]",
      "text/plain": [
       "<Figure size 720x720 with 2 Axes>"
      ]
     },
     "metadata": {
      "needs_background": "light"
     },
     "output_type": "display_data"
    }
   ],
   "source": [
    "corrmat= retail.corr()\n",
    "plt.figure(figsize=(10,10))  \n",
    "sns.heatmap(corrmat,annot=True, center=0)"
   ]
  },
  {
   "cell_type": "code",
   "execution_count": null,
   "metadata": {},
   "outputs": [],
   "source": []
  },
  {
   "cell_type": "code",
   "execution_count": 17,
   "metadata": {},
   "outputs": [
    {
     "data": {
      "text/plain": [
       "Text(0, 0.5, 'count')"
      ]
     },
     "execution_count": 17,
     "metadata": {},
     "output_type": "execute_result"
    },
    {
     "data": {
      "image/png": "[encoded data removed]",
      "text/plain": [
       "<Figure size 1440x360 with 1 Axes>"
      ]
     },
     "metadata": {
      "needs_background": "light"
     },
     "output_type": "display_data"
    }
   ],
   "source": [
    "#data_orders_day = retail.resample('D', on='date').order_id.nunique()\n",
    "retail_orders_day = retail.set_index('date').groupby(pd.Grouper(freq='D')).agg({\n",
    "    'order_id':\"nunique\"\n",
    "})\n",
    "\n",
    "plt.figure(figsize=(20, 5))\n",
    "ax=sns.barplot(x=retail_orders_day.index.date,y=retail_orders_day.order_id)\n",
    "ax.bar_label(ax.containers[0])\n",
    "plt.title(\"day wise orders\")\n",
    "plt.xlabel(\"day\")\n",
    "plt.ylabel(\"count\")"
   ]
  },
  {
   "cell_type": "code",
   "execution_count": 18,
   "metadata": {},
   "outputs": [
    {
     "data": {
      "text/plain": [
       "Text(0, 0.5, 'count states')"
      ]
     },
     "execution_count": 18,
     "metadata": {},
     "output_type": "execute_result"
    },
    {
     "data": {
      "image/png": "[encoded data removed]",
      "text/plain": [
       "<Figure size 1440x360 with 1 Axes>"
      ]
     },
     "metadata": {
      "needs_background": "light"
     },
     "output_type": "display_data"
    }
   ],
   "source": [
    "retail_states_day = retail.set_index('date').groupby(pd.Grouper(freq='D')).agg({\n",
    "    'state_name':\"nunique\"\n",
    "})\n",
    "plt.figure(figsize=(20, 5))\n",
    "ax=sns.lineplot(x=retail_states_day.index,y=retail_states_day.state_name)\n",
    "\n",
    "plt.title(\"all states have order in all days\")\n",
    "plt.xlabel(\"day\")\n",
    "plt.ylabel(\"count states\")"
   ]
  },
  {
   "cell_type": "markdown",
   "metadata": {},
   "source": []
  },
  {
   "cell_type": "code",
   "execution_count": 19,
   "metadata": {},
   "outputs": [
    {
     "data": {
      "image/png": "[encoded data removed]",
      "text/plain": [
       "<Figure size 1440x720 with 1 Axes>"
      ]
     },
     "metadata": {
      "needs_background": "light"
     },
     "output_type": "display_data"
    }
   ],
   "source": [
    "retail_summery_day = retail.set_index('date').groupby(pd.Grouper(freq='D')).agg({\n",
    "    'product_id':\"nunique\",\n",
    "    'variant_id':\"nunique\",\n",
    "    'user_id':\"nunique\",\n",
    "    'order_id':\"nunique\",\n",
    "})\n",
    "\n",
    "ax = retail_summery_day.plot( kind=\"bar\",title='summery',xlabel=\"date\",figsize=(20,10),width=0.9)\n",
    "for container in ax.containers:\n",
    "    ax.bar_label(container)\n"
   ]
  },
  {
   "cell_type": "code",
   "execution_count": 20,
   "metadata": {},
   "outputs": [
    {
     "data": {
      "image/png": "[encoded data removed]",
      "text/plain": [
       "<Figure size 1440x720 with 4 Axes>"
      ]
     },
     "metadata": {
      "needs_background": "light"
     },
     "output_type": "display_data"
    }
   ],
   "source": [
    "fig, axs = plt.subplots(2, 2,figsize=(20, 10))\n",
    "\n",
    "\n",
    "axs[0, 0].bar(retail_summery_day.index.strftime('%m-%d'),retail_summery_day.product_id)\n",
    "# axs[0, 0].bar_label(axs[0,0].containers[0])\n",
    "axs[0, 0].set_title('Number of unique product sold by days')\n",
    "axs[0, 1].bar(retail_summery_day.index.strftime('%m-%d'),retail_summery_day.variant_id,color='orange')\n",
    "axs[0, 1].set_title('Number of unique variant by days')\n",
    "axs[1, 0].bar(retail_summery_day.index.strftime('%m-%d'),retail_summery_day.user_id, color='yellow')\n",
    "axs[1, 0].set_title('Number of unique customer by days')\n",
    "axs[1, 1].bar(retail_summery_day.index.strftime('%m-%d'),retail_summery_day.order_id, color='green')\n",
    "axs[1, 1].set_title('Number of unique orders by days')\n",
    "\n",
    "for ax in axs.flat:\n",
    "    ax.set(xlabel='day', ylabel='count')\n",
    "    # add bar label\n",
    "    for container in ax.containers:\n",
    "        ax.bar_label(container)"
   ]
  },
  {
   "cell_type": "markdown",
   "metadata": {},
   "source": [
    "## The most of "
   ]
  },
  {
   "cell_type": "code",
   "execution_count": 21,
   "metadata": {},
   "outputs": [],
   "source": [
    "t1=retail.groupby('user_id').agg(\n",
    "    order_unique=('order_id','nunique')\n",
    ")\n"
   ]
  },
  {
   "cell_type": "code",
   "execution_count": 22,
   "metadata": {},
   "outputs": [],
   "source": [
    "t2=retail.groupby('user_id').agg(\n",
    "    order_count=('order_id','count')\n",
    ")\n"
   ]
  },
  {
   "cell_type": "code",
   "execution_count": 23,
   "metadata": {},
   "outputs": [
    {
     "data": {
      "text/html": [
       "<div>\n",
       "<style scoped>\n",
       "    .dataframe tbody tr th:only-of-type {\n",
       "        vertical-align: middle;\n",
       "    }\n",
       "\n",
       "    .dataframe tbody tr th {\n",
       "        vertical-align: top;\n",
       "    }\n",
       "\n",
       "    .dataframe thead th {\n",
       "        text-align: right;\n",
       "    }\n",
       "</style>\n",
       "<table border=\"1\" class=\"dataframe\">\n",
       "  <thead>\n",
       "    <tr style=\"text-align: right;\">\n",
       "      <th></th>\n",
       "      <th>order_unique</th>\n",
       "      <th>order_count</th>\n",
       "    </tr>\n",
       "    <tr>\n",
       "      <th>user_id</th>\n",
       "      <th></th>\n",
       "      <th></th>\n",
       "    </tr>\n",
       "  </thead>\n",
       "  <tbody>\n",
       "    <tr>\n",
       "      <th>++2u4Q40bTeC0ZZDau1MIQ==</th>\n",
       "      <td>1</td>\n",
       "      <td>3</td>\n",
       "    </tr>\n",
       "    <tr>\n",
       "      <th>++HwHhPvBHtXEIN36fDT5w==</th>\n",
       "      <td>1</td>\n",
       "      <td>6</td>\n",
       "    </tr>\n",
       "    <tr>\n",
       "      <th>++IfjhhQ33j7i4NHdBUJkQ==</th>\n",
       "      <td>1</td>\n",
       "      <td>1</td>\n",
       "    </tr>\n",
       "    <tr>\n",
       "      <th>++KPSp+1ZC6KXlYAS8VcKg==</th>\n",
       "      <td>1</td>\n",
       "      <td>15</td>\n",
       "    </tr>\n",
       "    <tr>\n",
       "      <th>++XCbp2ChGJyYhM/fYWudg==</th>\n",
       "      <td>1</td>\n",
       "      <td>1</td>\n",
       "    </tr>\n",
       "    <tr>\n",
       "      <th>...</th>\n",
       "      <td>...</td>\n",
       "      <td>...</td>\n",
       "    </tr>\n",
       "    <tr>\n",
       "      <th>zzWZd4QWwB0L4Un+lgk/Wg==</th>\n",
       "      <td>3</td>\n",
       "      <td>8</td>\n",
       "    </tr>\n",
       "    <tr>\n",
       "      <th>zzZseLwyCpzXFtpz4on05Q==</th>\n",
       "      <td>3</td>\n",
       "      <td>3</td>\n",
       "    </tr>\n",
       "    <tr>\n",
       "      <th>zzaH+nGpEGQI2z/KZyT1GA==</th>\n",
       "      <td>1</td>\n",
       "      <td>1</td>\n",
       "    </tr>\n",
       "    <tr>\n",
       "      <th>zzalwv4nhLscJ9Iq+HLYYw==</th>\n",
       "      <td>1</td>\n",
       "      <td>1</td>\n",
       "    </tr>\n",
       "    <tr>\n",
       "      <th>zzyk3mGNsGD2omR8D+znPA==</th>\n",
       "      <td>3</td>\n",
       "      <td>11</td>\n",
       "    </tr>\n",
       "  </tbody>\n",
       "</table>\n",
       "<p>56104 rows × 2 columns</p>\n",
       "</div>"
      ],
      "text/plain": [
       "                          order_unique  order_count\n",
       "user_id                                            \n",
       "++2u4Q40bTeC0ZZDau1MIQ==             1            3\n",
       "++HwHhPvBHtXEIN36fDT5w==             1            6\n",
       "++IfjhhQ33j7i4NHdBUJkQ==             1            1\n",
       "++KPSp+1ZC6KXlYAS8VcKg==             1           15\n",
       "++XCbp2ChGJyYhM/fYWudg==             1            1\n",
       "...                                ...          ...\n",
       "zzWZd4QWwB0L4Un+lgk/Wg==             3            8\n",
       "zzZseLwyCpzXFtpz4on05Q==             3            3\n",
       "zzaH+nGpEGQI2z/KZyT1GA==             1            1\n",
       "zzalwv4nhLscJ9Iq+HLYYw==             1            1\n",
       "zzyk3mGNsGD2omR8D+znPA==             3           11\n",
       "\n",
       "[56104 rows x 2 columns]"
      ]
     },
     "execution_count": 23,
     "metadata": {},
     "output_type": "execute_result"
    }
   ],
   "source": [
    "users_orders = pd.merge(t1,t2,on='user_id')\n",
    "users_orders"
   ]
  },
  {
   "cell_type": "code",
   "execution_count": 24,
   "metadata": {},
   "outputs": [
    {
     "name": "stdout",
     "output_type": "stream",
     "text": [
      "Minimum order users :1\n",
      "Maximum order users :103\n",
      "Avrage order users :1.3284079566519322\n"
     ]
    }
   ],
   "source": [
    "print(f\"Minimum order users :{users_orders.order_unique.min()}\")\n",
    "print(f\"Maximum order users :{users_orders.order_unique.max()}\")\n",
    "print(f\"Avrage order users :{users_orders.order_unique.mean()}\")"
   ]
  },
  {
   "cell_type": "code",
   "execution_count": 25,
   "metadata": {},
   "outputs": [
    {
     "name": "stdout",
     "output_type": "stream",
     "text": [
      "Minimum type product in order :1 \n",
      "Maximum type product in order :250 \n",
      "Avrage type product in order :3.5648082133181234 \n"
     ]
    }
   ],
   "source": [
    "print(f\"Minimum type product in order :{users_orders.order_count.min()} \")\n",
    "print(f\"Maximum type product in order :{users_orders.order_count.max()} \")\n",
    "print(f\"Avrage type product in order :{users_orders.order_count.mean()} \")"
   ]
  },
  {
   "cell_type": "code",
   "execution_count": 166,
   "metadata": {},
   "outputs": [],
   "source": [
    "# list(set(users_orders.order_unique))  #unique order value number"
   ]
  },
  {
   "cell_type": "code",
   "execution_count": 26,
   "metadata": {},
   "outputs": [
    {
     "data": {
      "text/html": [
       "<div>\n",
       "<style scoped>\n",
       "    .dataframe tbody tr th:only-of-type {\n",
       "        vertical-align: middle;\n",
       "    }\n",
       "\n",
       "    .dataframe tbody tr th {\n",
       "        vertical-align: top;\n",
       "    }\n",
       "\n",
       "    .dataframe thead th {\n",
       "        text-align: right;\n",
       "    }\n",
       "</style>\n",
       "<table border=\"1\" class=\"dataframe\">\n",
       "  <thead>\n",
       "    <tr style=\"text-align: right;\">\n",
       "      <th></th>\n",
       "      <th>order_unique</th>\n",
       "      <th>order_count</th>\n",
       "    </tr>\n",
       "    <tr>\n",
       "      <th>user_id</th>\n",
       "      <th></th>\n",
       "      <th></th>\n",
       "    </tr>\n",
       "  </thead>\n",
       "  <tbody>\n",
       "    <tr>\n",
       "      <th>JVeVjivUAHEMQmDOXo2EXA==</th>\n",
       "      <td>36</td>\n",
       "      <td>250</td>\n",
       "    </tr>\n",
       "  </tbody>\n",
       "</table>\n",
       "</div>"
      ],
      "text/plain": [
       "                          order_unique  order_count\n",
       "user_id                                            \n",
       "JVeVjivUAHEMQmDOXo2EXA==            36          250"
      ]
     },
     "execution_count": 26,
     "metadata": {},
     "output_type": "execute_result"
    }
   ],
   "source": [
    "users_orders[users_orders.order_count == 250]\n"
   ]
  },
  {
   "cell_type": "code",
   "execution_count": 27,
   "metadata": {},
   "outputs": [
    {
     "name": "stdout",
     "output_type": "stream",
     "text": [
      "Show the top 30 people : \n"
     ]
    },
    {
     "data": {
      "text/html": [
       "<div>\n",
       "<style scoped>\n",
       "    .dataframe tbody tr th:only-of-type {\n",
       "        vertical-align: middle;\n",
       "    }\n",
       "\n",
       "    .dataframe tbody tr th {\n",
       "        vertical-align: top;\n",
       "    }\n",
       "\n",
       "    .dataframe thead th {\n",
       "        text-align: right;\n",
       "    }\n",
       "</style>\n",
       "<table border=\"1\" class=\"dataframe\">\n",
       "  <thead>\n",
       "    <tr style=\"text-align: right;\">\n",
       "      <th></th>\n",
       "      <th>order_unique</th>\n",
       "      <th>order_count</th>\n",
       "    </tr>\n",
       "    <tr>\n",
       "      <th>user_id</th>\n",
       "      <th></th>\n",
       "      <th></th>\n",
       "    </tr>\n",
       "  </thead>\n",
       "  <tbody>\n",
       "    <tr>\n",
       "      <th>j8Sbh6vAaZBx/CodUxS/vw==</th>\n",
       "      <td>103</td>\n",
       "      <td>143</td>\n",
       "    </tr>\n",
       "    <tr>\n",
       "      <th>nRESEVczO8ehS5wcAC4S4A==</th>\n",
       "      <td>55</td>\n",
       "      <td>80</td>\n",
       "    </tr>\n",
       "    <tr>\n",
       "      <th>iBotj1LNo5cfY0r+phd3Ew==</th>\n",
       "      <td>40</td>\n",
       "      <td>124</td>\n",
       "    </tr>\n",
       "    <tr>\n",
       "      <th>0+ocLc2NAaQpdwJvIts0Gw==</th>\n",
       "      <td>40</td>\n",
       "      <td>108</td>\n",
       "    </tr>\n",
       "    <tr>\n",
       "      <th>JVeVjivUAHEMQmDOXo2EXA==</th>\n",
       "      <td>36</td>\n",
       "      <td>250</td>\n",
       "    </tr>\n",
       "    <tr>\n",
       "      <th>jjdnlkRVm3hgLNbCamQyUw==</th>\n",
       "      <td>36</td>\n",
       "      <td>69</td>\n",
       "    </tr>\n",
       "    <tr>\n",
       "      <th>acVF7HAaXBsFz6siPnPRXA==</th>\n",
       "      <td>33</td>\n",
       "      <td>90</td>\n",
       "    </tr>\n",
       "    <tr>\n",
       "      <th>Xnf/u43seCB45PaO7CpacQ==</th>\n",
       "      <td>33</td>\n",
       "      <td>56</td>\n",
       "    </tr>\n",
       "    <tr>\n",
       "      <th>9AXslhKaI5gWw7VnYVXjDg==</th>\n",
       "      <td>32</td>\n",
       "      <td>110</td>\n",
       "    </tr>\n",
       "    <tr>\n",
       "      <th>SKWlHaZH5FZstjXe/aX6Bw==</th>\n",
       "      <td>32</td>\n",
       "      <td>69</td>\n",
       "    </tr>\n",
       "    <tr>\n",
       "      <th>krsUjtxE6yfbnC08CIkgJg==</th>\n",
       "      <td>29</td>\n",
       "      <td>123</td>\n",
       "    </tr>\n",
       "    <tr>\n",
       "      <th>m9efLz/KFQzXOW/dFkfp1w==</th>\n",
       "      <td>28</td>\n",
       "      <td>37</td>\n",
       "    </tr>\n",
       "    <tr>\n",
       "      <th>2m2R8RxHQe+RwgtbmKXvSQ==</th>\n",
       "      <td>28</td>\n",
       "      <td>52</td>\n",
       "    </tr>\n",
       "    <tr>\n",
       "      <th>W7lKG2WDfIMPhsZ1Plx/Wg==</th>\n",
       "      <td>27</td>\n",
       "      <td>47</td>\n",
       "    </tr>\n",
       "    <tr>\n",
       "      <th>npzlGXrdaKyDCrlh8CJ2zw==</th>\n",
       "      <td>26</td>\n",
       "      <td>65</td>\n",
       "    </tr>\n",
       "    <tr>\n",
       "      <th>eIEiZYvwsQUOHI2wurwZvw==</th>\n",
       "      <td>24</td>\n",
       "      <td>44</td>\n",
       "    </tr>\n",
       "    <tr>\n",
       "      <th>GtAecYt+qg6iF2F+tT86wg==</th>\n",
       "      <td>24</td>\n",
       "      <td>24</td>\n",
       "    </tr>\n",
       "    <tr>\n",
       "      <th>NiCjdWMURaNHQ8Kt/33YNg==</th>\n",
       "      <td>23</td>\n",
       "      <td>64</td>\n",
       "    </tr>\n",
       "    <tr>\n",
       "      <th>l3I9MpmDe9ZQQJ84vq6MmA==</th>\n",
       "      <td>22</td>\n",
       "      <td>28</td>\n",
       "    </tr>\n",
       "    <tr>\n",
       "      <th>o8VWgcY1FWdnC9GV6li4lg==</th>\n",
       "      <td>21</td>\n",
       "      <td>69</td>\n",
       "    </tr>\n",
       "    <tr>\n",
       "      <th>zDuDkSU72eYPw+tAZOuLxQ==</th>\n",
       "      <td>21</td>\n",
       "      <td>21</td>\n",
       "    </tr>\n",
       "    <tr>\n",
       "      <th>VcdS3qRj9DYSJYP1nVjlyQ==</th>\n",
       "      <td>21</td>\n",
       "      <td>53</td>\n",
       "    </tr>\n",
       "    <tr>\n",
       "      <th>xeIBu9PIvfmYJRXW6FuDEg==</th>\n",
       "      <td>21</td>\n",
       "      <td>28</td>\n",
       "    </tr>\n",
       "    <tr>\n",
       "      <th>yncmrgYVHrY7Ybb5v10RNA==</th>\n",
       "      <td>19</td>\n",
       "      <td>37</td>\n",
       "    </tr>\n",
       "    <tr>\n",
       "      <th>4cbqvfdbS9CXOekJ1lz7ZQ==</th>\n",
       "      <td>19</td>\n",
       "      <td>34</td>\n",
       "    </tr>\n",
       "    <tr>\n",
       "      <th>nTYUKcb2hL9GUv9BHm6Zjg==</th>\n",
       "      <td>19</td>\n",
       "      <td>84</td>\n",
       "    </tr>\n",
       "    <tr>\n",
       "      <th>KrPK9f8N0Y01CUmzgVghjg==</th>\n",
       "      <td>19</td>\n",
       "      <td>19</td>\n",
       "    </tr>\n",
       "    <tr>\n",
       "      <th>mj9RC3HJCVpCYJU67VYBbA==</th>\n",
       "      <td>18</td>\n",
       "      <td>49</td>\n",
       "    </tr>\n",
       "    <tr>\n",
       "      <th>IBIvbKS7GVqa25uhvsib1g==</th>\n",
       "      <td>18</td>\n",
       "      <td>23</td>\n",
       "    </tr>\n",
       "    <tr>\n",
       "      <th>5PCn6bTD952OVRMh9feS6A==</th>\n",
       "      <td>18</td>\n",
       "      <td>24</td>\n",
       "    </tr>\n",
       "  </tbody>\n",
       "</table>\n",
       "</div>"
      ],
      "text/plain": [
       "                          order_unique  order_count\n",
       "user_id                                            \n",
       "j8Sbh6vAaZBx/CodUxS/vw==           103          143\n",
       "nRESEVczO8ehS5wcAC4S4A==            55           80\n",
       "iBotj1LNo5cfY0r+phd3Ew==            40          124\n",
       "0+ocLc2NAaQpdwJvIts0Gw==            40          108\n",
       "JVeVjivUAHEMQmDOXo2EXA==            36          250\n",
       "jjdnlkRVm3hgLNbCamQyUw==            36           69\n",
       "acVF7HAaXBsFz6siPnPRXA==            33           90\n",
       "Xnf/u43seCB45PaO7CpacQ==            33           56\n",
       "9AXslhKaI5gWw7VnYVXjDg==            32          110\n",
       "SKWlHaZH5FZstjXe/aX6Bw==            32           69\n",
       "krsUjtxE6yfbnC08CIkgJg==            29          123\n",
       "m9efLz/KFQzXOW/dFkfp1w==            28           37\n",
       "2m2R8RxHQe+RwgtbmKXvSQ==            28           52\n",
       "W7lKG2WDfIMPhsZ1Plx/Wg==            27           47\n",
       "npzlGXrdaKyDCrlh8CJ2zw==            26           65\n",
       "eIEiZYvwsQUOHI2wurwZvw==            24           44\n",
       "GtAecYt+qg6iF2F+tT86wg==            24           24\n",
       "NiCjdWMURaNHQ8Kt/33YNg==            23           64\n",
       "l3I9MpmDe9ZQQJ84vq6MmA==            22           28\n",
       "o8VWgcY1FWdnC9GV6li4lg==            21           69\n",
       "zDuDkSU72eYPw+tAZOuLxQ==            21           21\n",
       "VcdS3qRj9DYSJYP1nVjlyQ==            21           53\n",
       "xeIBu9PIvfmYJRXW6FuDEg==            21           28\n",
       "yncmrgYVHrY7Ybb5v10RNA==            19           37\n",
       "4cbqvfdbS9CXOekJ1lz7ZQ==            19           34\n",
       "nTYUKcb2hL9GUv9BHm6Zjg==            19           84\n",
       "KrPK9f8N0Y01CUmzgVghjg==            19           19\n",
       "mj9RC3HJCVpCYJU67VYBbA==            18           49\n",
       "IBIvbKS7GVqa25uhvsib1g==            18           23\n",
       "5PCn6bTD952OVRMh9feS6A==            18           24"
      ]
     },
     "execution_count": 27,
     "metadata": {},
     "output_type": "execute_result"
    }
   ],
   "source": [
    "print(\"Show the top 30 people : \")\n",
    "users_orders.sort_values('order_unique',ascending=False).head(30)"
   ]
  },
  {
   "cell_type": "code",
   "execution_count": 28,
   "metadata": {},
   "outputs": [
    {
     "data": {
      "text/plain": [
       "6.00313703122772"
      ]
     },
     "execution_count": 28,
     "metadata": {},
     "output_type": "execute_result"
    }
   ],
   "source": [
    "len(users_orders[users_orders.order_unique>=3])/len(users_orders)*100"
   ]
  },
  {
   "cell_type": "code",
   "execution_count": 29,
   "metadata": {},
   "outputs": [
    {
     "name": "stdout",
     "output_type": "stream",
     "text": [
      "percentage of users have 1 orders are: 100.0 and total is: 56104\n",
      "percentage of users have 2 orders are: 18.850705832026236 and total is: 10576\n",
      "percentage of users have 3 orders are: 6.00313703122772 and total is: 3368\n",
      "percentage of users have 4 orders are: 2.673606159988593 and total is: 1500\n",
      "percentage of users have 5 orders are: 1.4259232853272494 and total is: 800\n",
      "percentage of users have 6 orders are: 0.8502067588763724 and total is: 477\n",
      "percentage of users have 7 orders or more than, are: 0.575716526450877 and total is: 323\n",
      "percentage of users have 7 orders are: 0.575716526450877 and total is: 323\n"
     ]
    }
   ],
   "source": [
    "for i in range(8):\n",
    "    if i==0: continue\n",
    "    if i==1:\n",
    "        order_count= len(users_orders[users_orders.order_unique==i])\n",
    "        result= order_count/len(users_orders)*100\n",
    "    if i>=7:\n",
    "        order_count= len(users_orders[users_orders.order_unique>=i])\n",
    "        result= order_count/len(users_orders)*100\n",
    "        print(f\"percentage of users have {i} orders or more than, are: {result} and total is: {order_count}\")\n",
    "    else:\n",
    "        order_count= len(users_orders[users_orders.order_unique>=i])\n",
    "        result= order_count/len(users_orders)*100\n",
    "    print(f\"percentage of users have {i} orders are: {result} and total is: {order_count}\")"
   ]
  },
  {
   "cell_type": "code",
   "execution_count": 197,
   "metadata": {},
   "outputs": [
    {
     "data": {
      "text/plain": [
       "<AxesSubplot:xlabel='user_id'>"
      ]
     },
     "execution_count": 197,
     "metadata": {},
     "output_type": "execute_result"
    },
    {
     "data": {
      "image/png": "[encoded data removed]",
      "text/plain": [
       "<Figure size 432x288 with 1 Axes>"
      ]
     },
     "metadata": {
      "needs_background": "light"
     },
     "output_type": "display_data"
    }
   ],
   "source": [
    "users_orders.sort_values('order_unique',ascending=False).order_unique.plot()"
   ]
  },
  {
   "cell_type": "code",
   "execution_count": 199,
   "metadata": {},
   "outputs": [
    {
     "data": {
      "text/plain": [
       "0.25    1.0\n",
       "0.50    1.0\n",
       "0.75    1.0\n",
       "Name: order_unique, dtype: float64"
      ]
     },
     "execution_count": 199,
     "metadata": {},
     "output_type": "execute_result"
    }
   ],
   "source": [
    "users_orders.order_unique.quantile([.25, .5, .75])"
   ]
  },
  {
   "cell_type": "code",
   "execution_count": 203,
   "metadata": {},
   "outputs": [
    {
     "data": {
      "text/plain": [
       "<AxesSubplot:ylabel='Density'>"
      ]
     },
     "execution_count": 203,
     "metadata": {},
     "output_type": "execute_result"
    },
    {
     "data": {
      "image/png": "[encoded data removed]",
      "text/plain": [
       "<Figure size 432x288 with 1 Axes>"
      ]
     },
     "metadata": {
      "needs_background": "light"
     },
     "output_type": "display_data"
    }
   ],
   "source": [
    "users_orders.order_unique.plot.kde()"
   ]
  },
  {
   "cell_type": "code",
   "execution_count": 207,
   "metadata": {},
   "outputs": [
    {
     "data": {
      "text/html": [
       "<div>\n",
       "<style scoped>\n",
       "    .dataframe tbody tr th:only-of-type {\n",
       "        vertical-align: middle;\n",
       "    }\n",
       "\n",
       "    .dataframe tbody tr th {\n",
       "        vertical-align: top;\n",
       "    }\n",
       "\n",
       "    .dataframe thead th {\n",
       "        text-align: right;\n",
       "    }\n",
       "</style>\n",
       "<table border=\"1\" class=\"dataframe\">\n",
       "  <thead>\n",
       "    <tr style=\"text-align: right;\">\n",
       "      <th></th>\n",
       "      <th>order_unique</th>\n",
       "      <th>order_count</th>\n",
       "    </tr>\n",
       "  </thead>\n",
       "  <tbody>\n",
       "    <tr>\n",
       "      <th>0.25</th>\n",
       "      <td>2.0</td>\n",
       "      <td>3.0</td>\n",
       "    </tr>\n",
       "    <tr>\n",
       "      <th>0.50</th>\n",
       "      <td>2.0</td>\n",
       "      <td>5.0</td>\n",
       "    </tr>\n",
       "    <tr>\n",
       "      <th>0.75</th>\n",
       "      <td>3.0</td>\n",
       "      <td>9.0</td>\n",
       "    </tr>\n",
       "  </tbody>\n",
       "</table>\n",
       "</div>"
      ],
      "text/plain": [
       "      order_unique  order_count\n",
       "0.25           2.0          3.0\n",
       "0.50           2.0          5.0\n",
       "0.75           3.0          9.0"
      ]
     },
     "execution_count": 207,
     "metadata": {},
     "output_type": "execute_result"
    },
    {
     "data": {
      "image/png": "[encoded data removed]",
      "text/plain": [
       "<Figure size 432x288 with 1 Axes>"
      ]
     },
     "metadata": {
      "needs_background": "light"
     },
     "output_type": "display_data"
    }
   ],
   "source": [
    "users_orders[users_orders.order_unique>=2].order_unique.plot.kde()\n",
    "users_orders[users_orders.order_unique>=2].quantile([.25, .5, .75])"
   ]
  },
  {
   "cell_type": "code",
   "execution_count": 208,
   "metadata": {},
   "outputs": [
    {
     "data": {
      "text/html": [
       "<div>\n",
       "<style scoped>\n",
       "    .dataframe tbody tr th:only-of-type {\n",
       "        vertical-align: middle;\n",
       "    }\n",
       "\n",
       "    .dataframe tbody tr th {\n",
       "        vertical-align: top;\n",
       "    }\n",
       "\n",
       "    .dataframe thead th {\n",
       "        text-align: right;\n",
       "    }\n",
       "</style>\n",
       "<table border=\"1\" class=\"dataframe\">\n",
       "  <thead>\n",
       "    <tr style=\"text-align: right;\">\n",
       "      <th></th>\n",
       "      <th>order_unique</th>\n",
       "      <th>order_count</th>\n",
       "    </tr>\n",
       "  </thead>\n",
       "  <tbody>\n",
       "    <tr>\n",
       "      <th>0.25</th>\n",
       "      <td>3.0</td>\n",
       "      <td>5.0</td>\n",
       "    </tr>\n",
       "    <tr>\n",
       "      <th>0.50</th>\n",
       "      <td>3.0</td>\n",
       "      <td>8.0</td>\n",
       "    </tr>\n",
       "    <tr>\n",
       "      <th>0.75</th>\n",
       "      <td>4.0</td>\n",
       "      <td>14.0</td>\n",
       "    </tr>\n",
       "  </tbody>\n",
       "</table>\n",
       "</div>"
      ],
      "text/plain": [
       "      order_unique  order_count\n",
       "0.25           3.0          5.0\n",
       "0.50           3.0          8.0\n",
       "0.75           4.0         14.0"
      ]
     },
     "execution_count": 208,
     "metadata": {},
     "output_type": "execute_result"
    },
    {
     "data": {
      "image/png": "[encoded data removed]",
      "text/plain": [
       "<Figure size 432x288 with 1 Axes>"
      ]
     },
     "metadata": {
      "needs_background": "light"
     },
     "output_type": "display_data"
    }
   ],
   "source": [
    "users_orders[users_orders.order_unique>=3].order_unique.plot.kde()\n",
    "users_orders[users_orders.order_unique>=3].quantile([.25, .5, .75])"
   ]
  },
  {
   "cell_type": "code",
   "execution_count": 209,
   "metadata": {},
   "outputs": [
    {
     "data": {
      "text/html": [
       "<div>\n",
       "<style scoped>\n",
       "    .dataframe tbody tr th:only-of-type {\n",
       "        vertical-align: middle;\n",
       "    }\n",
       "\n",
       "    .dataframe tbody tr th {\n",
       "        vertical-align: top;\n",
       "    }\n",
       "\n",
       "    .dataframe thead th {\n",
       "        text-align: right;\n",
       "    }\n",
       "</style>\n",
       "<table border=\"1\" class=\"dataframe\">\n",
       "  <thead>\n",
       "    <tr style=\"text-align: right;\">\n",
       "      <th></th>\n",
       "      <th>order_unique</th>\n",
       "      <th>order_count</th>\n",
       "    </tr>\n",
       "  </thead>\n",
       "  <tbody>\n",
       "    <tr>\n",
       "      <th>0.25</th>\n",
       "      <td>4.0</td>\n",
       "      <td>7.0</td>\n",
       "    </tr>\n",
       "    <tr>\n",
       "      <th>0.50</th>\n",
       "      <td>5.0</td>\n",
       "      <td>12.0</td>\n",
       "    </tr>\n",
       "    <tr>\n",
       "      <th>0.75</th>\n",
       "      <td>6.0</td>\n",
       "      <td>19.0</td>\n",
       "    </tr>\n",
       "  </tbody>\n",
       "</table>\n",
       "</div>"
      ],
      "text/plain": [
       "      order_unique  order_count\n",
       "0.25           4.0          7.0\n",
       "0.50           5.0         12.0\n",
       "0.75           6.0         19.0"
      ]
     },
     "execution_count": 209,
     "metadata": {},
     "output_type": "execute_result"
    },
    {
     "data": {
      "image/png": "[encoded data removed]",
      "text/plain": [
       "<Figure size 432x288 with 1 Axes>"
      ]
     },
     "metadata": {
      "needs_background": "light"
     },
     "output_type": "display_data"
    }
   ],
   "source": [
    "users_orders[users_orders.order_unique>=4].order_unique.plot.kde()\n",
    "users_orders[users_orders.order_unique>=4].quantile([.25, .5, .75])"
   ]
  },
  {
   "cell_type": "markdown",
   "metadata": {},
   "source": [
    "# suggestions Title\n",
    "\n",
    "- find maximum category that have been sold\n",
    "- find maximum product that have been sold\n",
    "- which time the shop have max/min order\n",
    "- which product or category are favratie users\n",
    "- LRFMP\n",
    "- time series clustering\n",
    "- recommendation (which recommendations are sutable for customer convert to loyal customer)\n",
    "- which time is sutable for send notification for loyal customer and what should be sent ?\n",
    "- prediction price by image (use digikala api)\n"
   ]
  },
  {
   "cell_type": "code",
   "execution_count": 277,
   "metadata": {},
   "outputs": [
    {
     "name": "stdout",
     "output_type": "stream",
     "text": [
      "number of unique products :  61734\n",
      "maximux count sell product is : user_sell_count    1430\n",
      "dtype: int64\n",
      "maximux count sell product is : user_sell_count    1\n",
      "dtype: int64\n"
     ]
    },
    {
     "data": {
      "text/html": [
       "<div>\n",
       "<style scoped>\n",
       "    .dataframe tbody tr th:only-of-type {\n",
       "        vertical-align: middle;\n",
       "    }\n",
       "\n",
       "    .dataframe tbody tr th {\n",
       "        vertical-align: top;\n",
       "    }\n",
       "\n",
       "    .dataframe thead th {\n",
       "        text-align: right;\n",
       "    }\n",
       "</style>\n",
       "<table border=\"1\" class=\"dataframe\">\n",
       "  <thead>\n",
       "    <tr style=\"text-align: right;\">\n",
       "      <th></th>\n",
       "      <th>user_sell_count</th>\n",
       "    </tr>\n",
       "    <tr>\n",
       "      <th>product_id</th>\n",
       "      <th></th>\n",
       "    </tr>\n",
       "  </thead>\n",
       "  <tbody>\n",
       "    <tr>\n",
       "      <th>111178</th>\n",
       "      <td>1430</td>\n",
       "    </tr>\n",
       "    <tr>\n",
       "      <th>458032</th>\n",
       "      <td>683</td>\n",
       "    </tr>\n",
       "    <tr>\n",
       "      <th>20557</th>\n",
       "      <td>611</td>\n",
       "    </tr>\n",
       "    <tr>\n",
       "      <th>254346</th>\n",
       "      <td>537</td>\n",
       "    </tr>\n",
       "    <tr>\n",
       "      <th>20558</th>\n",
       "      <td>505</td>\n",
       "    </tr>\n",
       "    <tr>\n",
       "      <th>...</th>\n",
       "      <td>...</td>\n",
       "    </tr>\n",
       "    <tr>\n",
       "      <th>570576</th>\n",
       "      <td>108</td>\n",
       "    </tr>\n",
       "    <tr>\n",
       "      <th>305153</th>\n",
       "      <td>108</td>\n",
       "    </tr>\n",
       "    <tr>\n",
       "      <th>93654</th>\n",
       "      <td>108</td>\n",
       "    </tr>\n",
       "    <tr>\n",
       "      <th>403053</th>\n",
       "      <td>106</td>\n",
       "    </tr>\n",
       "    <tr>\n",
       "      <th>275197</th>\n",
       "      <td>105</td>\n",
       "    </tr>\n",
       "  </tbody>\n",
       "</table>\n",
       "<p>100 rows × 1 columns</p>\n",
       "</div>"
      ],
      "text/plain": [
       "            user_sell_count\n",
       "product_id                 \n",
       "111178                 1430\n",
       "458032                  683\n",
       "20557                   611\n",
       "254346                  537\n",
       "20558                   505\n",
       "...                     ...\n",
       "570576                  108\n",
       "305153                  108\n",
       "93654                   108\n",
       "403053                  106\n",
       "275197                  105\n",
       "\n",
       "[100 rows x 1 columns]"
      ]
     },
     "execution_count": 277,
     "metadata": {},
     "output_type": "execute_result"
    }
   ],
   "source": [
    "retail_product= retail.groupby('product_id').agg(user_sell_count=('user_id','count'))\n",
    "print('number of unique products : ',retail.product_id.nunique()) # number of unique product\n",
    "print(f'maximux count sell product is : {retail_product.max()}')\n",
    "print(f'maximux count sell product is : {retail_product.min()}')\n",
    "retail_product.sort_values('user_sell_count',ascending=False).head(100)\n",
    "\n",
    "\n",
    "\n",
    "# ax = retail_product.plot( kind=\"bar\",title='summery',xlabel=\"datee\",figsize=(20,10),width=0.9)\n",
    "# for container in ax.containers:\n",
    "#     ax.bar_label(container)"
   ]
  },
  {
   "cell_type": "code",
   "execution_count": 284,
   "metadata": {},
   "outputs": [
    {
     "name": "stdout",
     "output_type": "stream",
     "text": [
      "number of unique products :  78575\n",
      "maximux count sell product is : user_sell_count    671\n",
      "dtype: int64\n",
      "maximux count sell product is : user_sell_count    1\n",
      "dtype: int64\n"
     ]
    },
    {
     "data": {
      "text/html": [
       "<div>\n",
       "<style scoped>\n",
       "    .dataframe tbody tr th:only-of-type {\n",
       "        vertical-align: middle;\n",
       "    }\n",
       "\n",
       "    .dataframe tbody tr th {\n",
       "        vertical-align: top;\n",
       "    }\n",
       "\n",
       "    .dataframe thead th {\n",
       "        text-align: right;\n",
       "    }\n",
       "</style>\n",
       "<table border=\"1\" class=\"dataframe\">\n",
       "  <thead>\n",
       "    <tr style=\"text-align: right;\">\n",
       "      <th></th>\n",
       "      <th>user_sell_count</th>\n",
       "    </tr>\n",
       "    <tr>\n",
       "      <th>variant_id</th>\n",
       "      <th></th>\n",
       "    </tr>\n",
       "  </thead>\n",
       "  <tbody>\n",
       "    <tr>\n",
       "      <th>716376</th>\n",
       "      <td>671</td>\n",
       "    </tr>\n",
       "    <tr>\n",
       "      <th>138296</th>\n",
       "      <td>641</td>\n",
       "    </tr>\n",
       "    <tr>\n",
       "      <th>9537</th>\n",
       "      <td>606</td>\n",
       "    </tr>\n",
       "    <tr>\n",
       "      <th>118375</th>\n",
       "      <td>603</td>\n",
       "    </tr>\n",
       "    <tr>\n",
       "      <th>128133</th>\n",
       "      <td>436</td>\n",
       "    </tr>\n",
       "    <tr>\n",
       "      <th>...</th>\n",
       "      <td>...</td>\n",
       "    </tr>\n",
       "    <tr>\n",
       "      <th>1328920</th>\n",
       "      <td>89</td>\n",
       "    </tr>\n",
       "    <tr>\n",
       "      <th>43420</th>\n",
       "      <td>88</td>\n",
       "    </tr>\n",
       "    <tr>\n",
       "      <th>173670</th>\n",
       "      <td>88</td>\n",
       "    </tr>\n",
       "    <tr>\n",
       "      <th>711781</th>\n",
       "      <td>87</td>\n",
       "    </tr>\n",
       "    <tr>\n",
       "      <th>235184</th>\n",
       "      <td>87</td>\n",
       "    </tr>\n",
       "  </tbody>\n",
       "</table>\n",
       "<p>100 rows × 1 columns</p>\n",
       "</div>"
      ],
      "text/plain": [
       "            user_sell_count\n",
       "variant_id                 \n",
       "716376                  671\n",
       "138296                  641\n",
       "9537                    606\n",
       "118375                  603\n",
       "128133                  436\n",
       "...                     ...\n",
       "1328920                  89\n",
       "43420                    88\n",
       "173670                   88\n",
       "711781                   87\n",
       "235184                   87\n",
       "\n",
       "[100 rows x 1 columns]"
      ]
     },
     "execution_count": 284,
     "metadata": {},
     "output_type": "execute_result"
    }
   ],
   "source": [
    "retail_variant= retail.groupby('variant_id').agg(user_sell_count=('user_id','count'))\n",
    "print('number of unique products : ',retail.variant_id.nunique()) # number of unique product\n",
    "print(f'maximux count sell product is : {retail_variant.max()}')\n",
    "print(f'maximux count sell product is : {retail_variant.min()}')\n",
    "retail_variant.sort_values('user_sell_count',ascending=False).head(100)"
   ]
  },
  {
   "cell_type": "code",
   "execution_count": 289,
   "metadata": {},
   "outputs": [],
   "source": [
    "date_order_detail = retail.groupby('user_id').agg(date_order=('date','nunique'))"
   ]
  },
  {
   "cell_type": "code",
   "execution_count": 306,
   "metadata": {},
   "outputs": [],
   "source": [
    "t1 = retail.set_index('date').groupby([pd.Grouper(freq='D')]).nunique()"
   ]
  },
  {
   "cell_type": "code",
   "execution_count": 335,
   "metadata": {},
   "outputs": [],
   "source": [
    "range_date = t1.index\n"
   ]
  },
  {
   "cell_type": "code",
   "execution_count": 540,
   "metadata": {},
   "outputs": [],
   "source": [
    "date_df = pd.DataFrame(\n",
    "retail.user_id.unique(),\n",
    "columns=['user_id'])\n"
   ]
  },
  {
   "cell_type": "code",
   "execution_count": 541,
   "metadata": {},
   "outputs": [
    {
     "name": "stdout",
     "output_type": "stream",
     "text": [
      "2018-08-12 00:00:00\n",
      "2018-08-13 00:00:00\n",
      "2018-08-14 00:00:00\n",
      "2018-08-15 00:00:00\n",
      "2018-08-16 00:00:00\n",
      "2018-08-17 00:00:00\n",
      "2018-08-18 00:00:00\n",
      "2018-08-19 00:00:00\n",
      "2018-08-20 00:00:00\n",
      "Wall time: 26min 14s\n"
     ]
    }
   ],
   "source": [
    "%%time\n",
    "day=1\n",
    "for d in range_date:\n",
    "    print(d)\n",
    "    date_df['day_'+str(day)]=False\n",
    "    temp = retail[(retail['day_date'].apply(lambda x: x==d))]\n",
    "    result = pd.merge(date_df,temp[['day_date','user_id']], on=\"user_id\")\n",
    "    #print(result)\n",
    "    for index,row in result.iterrows():\n",
    "        #print(row['user_id'] in date_df['user_id'].values)\n",
    "#         if row['user_id'] in date_df['user_id'].values:\n",
    "        date_df.loc[date_df['user_id']==row['user_id'],'day_'+str(day)]=True\n",
    "        \n",
    "    \n",
    "    day+=1\n"
   ]
  },
  {
   "cell_type": "code",
   "execution_count": 549,
   "metadata": {},
   "outputs": [],
   "source": [
    "date_df.to_pickle('users_date_df.pkl')"
   ]
  },
  {
   "cell_type": "code",
   "execution_count": 548,
   "metadata": {},
   "outputs": [
    {
     "data": {
      "text/html": [
       "<div>\n",
       "<style scoped>\n",
       "    .dataframe tbody tr th:only-of-type {\n",
       "        vertical-align: middle;\n",
       "    }\n",
       "\n",
       "    .dataframe tbody tr th {\n",
       "        vertical-align: top;\n",
       "    }\n",
       "\n",
       "    .dataframe thead th {\n",
       "        text-align: right;\n",
       "    }\n",
       "</style>\n",
       "<table border=\"1\" class=\"dataframe\">\n",
       "  <thead>\n",
       "    <tr style=\"text-align: right;\">\n",
       "      <th></th>\n",
       "      <th>user_id</th>\n",
       "      <th>day_1</th>\n",
       "      <th>day_2</th>\n",
       "      <th>day_3</th>\n",
       "      <th>day_4</th>\n",
       "      <th>day_5</th>\n",
       "      <th>day_6</th>\n",
       "      <th>day_7</th>\n",
       "      <th>day_8</th>\n",
       "      <th>day_9</th>\n",
       "    </tr>\n",
       "  </thead>\n",
       "  <tbody>\n",
       "    <tr>\n",
       "      <th>945</th>\n",
       "      <td>acVF7HAaXBsFz6siPnPRXA==</td>\n",
       "      <td>True</td>\n",
       "      <td>True</td>\n",
       "      <td>True</td>\n",
       "      <td>True</td>\n",
       "      <td>True</td>\n",
       "      <td>True</td>\n",
       "      <td>True</td>\n",
       "      <td>True</td>\n",
       "      <td>True</td>\n",
       "    </tr>\n",
       "    <tr>\n",
       "      <th>1930</th>\n",
       "      <td>JVeVjivUAHEMQmDOXo2EXA==</td>\n",
       "      <td>True</td>\n",
       "      <td>True</td>\n",
       "      <td>True</td>\n",
       "      <td>True</td>\n",
       "      <td>True</td>\n",
       "      <td>True</td>\n",
       "      <td>True</td>\n",
       "      <td>True</td>\n",
       "      <td>True</td>\n",
       "    </tr>\n",
       "    <tr>\n",
       "      <th>2116</th>\n",
       "      <td>j8Sbh6vAaZBx/CodUxS/vw==</td>\n",
       "      <td>True</td>\n",
       "      <td>True</td>\n",
       "      <td>True</td>\n",
       "      <td>True</td>\n",
       "      <td>True</td>\n",
       "      <td>False</td>\n",
       "      <td>True</td>\n",
       "      <td>True</td>\n",
       "      <td>True</td>\n",
       "    </tr>\n",
       "    <tr>\n",
       "      <th>4310</th>\n",
       "      <td>cPML1aygCALHfefq78wEgw==</td>\n",
       "      <td>True</td>\n",
       "      <td>True</td>\n",
       "      <td>True</td>\n",
       "      <td>True</td>\n",
       "      <td>True</td>\n",
       "      <td>False</td>\n",
       "      <td>False</td>\n",
       "      <td>True</td>\n",
       "      <td>True</td>\n",
       "    </tr>\n",
       "    <tr>\n",
       "      <th>5290</th>\n",
       "      <td>0+ocLc2NAaQpdwJvIts0Gw==</td>\n",
       "      <td>True</td>\n",
       "      <td>True</td>\n",
       "      <td>True</td>\n",
       "      <td>True</td>\n",
       "      <td>True</td>\n",
       "      <td>True</td>\n",
       "      <td>True</td>\n",
       "      <td>True</td>\n",
       "      <td>True</td>\n",
       "    </tr>\n",
       "    <tr>\n",
       "      <th>5918</th>\n",
       "      <td>mCi9evyaCWILWYVRpWTXgQ==</td>\n",
       "      <td>True</td>\n",
       "      <td>True</td>\n",
       "      <td>True</td>\n",
       "      <td>True</td>\n",
       "      <td>True</td>\n",
       "      <td>True</td>\n",
       "      <td>True</td>\n",
       "      <td>True</td>\n",
       "      <td>True</td>\n",
       "    </tr>\n",
       "    <tr>\n",
       "      <th>6339</th>\n",
       "      <td>chbca7XuHDG/7OJPls3fNA==</td>\n",
       "      <td>True</td>\n",
       "      <td>True</td>\n",
       "      <td>True</td>\n",
       "      <td>True</td>\n",
       "      <td>True</td>\n",
       "      <td>True</td>\n",
       "      <td>True</td>\n",
       "      <td>False</td>\n",
       "      <td>True</td>\n",
       "    </tr>\n",
       "    <tr>\n",
       "      <th>11225</th>\n",
       "      <td>Ccg4eL39xybhrVJkK8Y5Mw==</td>\n",
       "      <td>True</td>\n",
       "      <td>True</td>\n",
       "      <td>True</td>\n",
       "      <td>True</td>\n",
       "      <td>True</td>\n",
       "      <td>False</td>\n",
       "      <td>False</td>\n",
       "      <td>True</td>\n",
       "      <td>False</td>\n",
       "    </tr>\n",
       "    <tr>\n",
       "      <th>11757</th>\n",
       "      <td>lP6LFWD70d7MPLMdoGLhpA==</td>\n",
       "      <td>True</td>\n",
       "      <td>True</td>\n",
       "      <td>True</td>\n",
       "      <td>True</td>\n",
       "      <td>True</td>\n",
       "      <td>False</td>\n",
       "      <td>False</td>\n",
       "      <td>True</td>\n",
       "      <td>False</td>\n",
       "    </tr>\n",
       "    <tr>\n",
       "      <th>12101</th>\n",
       "      <td>51j43hNt1/aEgoHJQe+qQg==</td>\n",
       "      <td>True</td>\n",
       "      <td>True</td>\n",
       "      <td>True</td>\n",
       "      <td>True</td>\n",
       "      <td>True</td>\n",
       "      <td>True</td>\n",
       "      <td>True</td>\n",
       "      <td>True</td>\n",
       "      <td>False</td>\n",
       "    </tr>\n",
       "    <tr>\n",
       "      <th>12997</th>\n",
       "      <td>TPlN0sMUfp1UcUuLbqfNdw==</td>\n",
       "      <td>True</td>\n",
       "      <td>True</td>\n",
       "      <td>True</td>\n",
       "      <td>True</td>\n",
       "      <td>True</td>\n",
       "      <td>False</td>\n",
       "      <td>True</td>\n",
       "      <td>True</td>\n",
       "      <td>False</td>\n",
       "    </tr>\n",
       "    <tr>\n",
       "      <th>15498</th>\n",
       "      <td>UK353+25a3neIDgumNTygw==</td>\n",
       "      <td>True</td>\n",
       "      <td>True</td>\n",
       "      <td>True</td>\n",
       "      <td>True</td>\n",
       "      <td>True</td>\n",
       "      <td>False</td>\n",
       "      <td>False</td>\n",
       "      <td>True</td>\n",
       "      <td>False</td>\n",
       "    </tr>\n",
       "    <tr>\n",
       "      <th>19771</th>\n",
       "      <td>c84xkF9m0m/+TlTH+t2i+Q==</td>\n",
       "      <td>True</td>\n",
       "      <td>True</td>\n",
       "      <td>True</td>\n",
       "      <td>True</td>\n",
       "      <td>True</td>\n",
       "      <td>True</td>\n",
       "      <td>True</td>\n",
       "      <td>False</td>\n",
       "      <td>False</td>\n",
       "    </tr>\n",
       "    <tr>\n",
       "      <th>32689</th>\n",
       "      <td>Mbf+Zl+4lJO9BIfwePgRZw==</td>\n",
       "      <td>True</td>\n",
       "      <td>True</td>\n",
       "      <td>True</td>\n",
       "      <td>True</td>\n",
       "      <td>True</td>\n",
       "      <td>False</td>\n",
       "      <td>False</td>\n",
       "      <td>False</td>\n",
       "      <td>False</td>\n",
       "    </tr>\n",
       "  </tbody>\n",
       "</table>\n",
       "</div>"
      ],
      "text/plain": [
       "                        user_id  day_1  day_2  day_3  day_4  day_5  day_6  \\\n",
       "945    acVF7HAaXBsFz6siPnPRXA==   True   True   True   True   True   True   \n",
       "1930   JVeVjivUAHEMQmDOXo2EXA==   True   True   True   True   True   True   \n",
       "2116   j8Sbh6vAaZBx/CodUxS/vw==   True   True   True   True   True  False   \n",
       "4310   cPML1aygCALHfefq78wEgw==   True   True   True   True   True  False   \n",
       "5290   0+ocLc2NAaQpdwJvIts0Gw==   True   True   True   True   True   True   \n",
       "5918   mCi9evyaCWILWYVRpWTXgQ==   True   True   True   True   True   True   \n",
       "6339   chbca7XuHDG/7OJPls3fNA==   True   True   True   True   True   True   \n",
       "11225  Ccg4eL39xybhrVJkK8Y5Mw==   True   True   True   True   True  False   \n",
       "11757  lP6LFWD70d7MPLMdoGLhpA==   True   True   True   True   True  False   \n",
       "12101  51j43hNt1/aEgoHJQe+qQg==   True   True   True   True   True   True   \n",
       "12997  TPlN0sMUfp1UcUuLbqfNdw==   True   True   True   True   True  False   \n",
       "15498  UK353+25a3neIDgumNTygw==   True   True   True   True   True  False   \n",
       "19771  c84xkF9m0m/+TlTH+t2i+Q==   True   True   True   True   True   True   \n",
       "32689  Mbf+Zl+4lJO9BIfwePgRZw==   True   True   True   True   True  False   \n",
       "\n",
       "       day_7  day_8  day_9  \n",
       "945     True   True   True  \n",
       "1930    True   True   True  \n",
       "2116    True   True   True  \n",
       "4310   False   True   True  \n",
       "5290    True   True   True  \n",
       "5918    True   True   True  \n",
       "6339    True  False   True  \n",
       "11225  False   True  False  \n",
       "11757  False   True  False  \n",
       "12101   True   True  False  \n",
       "12997   True   True  False  \n",
       "15498  False   True  False  \n",
       "19771   True  False  False  \n",
       "32689  False  False  False  "
      ]
     },
     "execution_count": 548,
     "metadata": {},
     "output_type": "execute_result"
    }
   ],
   "source": [
    "date_df[(date_df['day_1']==True)&(date_df['day_2']==True)&(date_df['day_3']==True)&(date_df['day_4']==True)&(date_df['day_5']==True)]\n"
   ]
  },
  {
   "cell_type": "code",
   "execution_count": 543,
   "metadata": {},
   "outputs": [
    {
     "data": {
      "text/html": [
       "<div>\n",
       "<style scoped>\n",
       "    .dataframe tbody tr th:only-of-type {\n",
       "        vertical-align: middle;\n",
       "    }\n",
       "\n",
       "    .dataframe tbody tr th {\n",
       "        vertical-align: top;\n",
       "    }\n",
       "\n",
       "    .dataframe thead th {\n",
       "        text-align: right;\n",
       "    }\n",
       "</style>\n",
       "<table border=\"1\" class=\"dataframe\">\n",
       "  <thead>\n",
       "    <tr style=\"text-align: right;\">\n",
       "      <th></th>\n",
       "      <th>product_id</th>\n",
       "      <th>variant_id</th>\n",
       "      <th>user_id</th>\n",
       "      <th>order_id</th>\n",
       "    </tr>\n",
       "    <tr>\n",
       "      <th>date</th>\n",
       "      <th></th>\n",
       "      <th></th>\n",
       "      <th></th>\n",
       "      <th></th>\n",
       "    </tr>\n",
       "  </thead>\n",
       "  <tbody>\n",
       "    <tr>\n",
       "      <th>2018-08-12</th>\n",
       "      <td>12286</td>\n",
       "      <td>13407</td>\n",
       "      <td>6958</td>\n",
       "      <td>7599</td>\n",
       "    </tr>\n",
       "    <tr>\n",
       "      <th>2018-08-13</th>\n",
       "      <td>14001</td>\n",
       "      <td>15279</td>\n",
       "      <td>8165</td>\n",
       "      <td>8901</td>\n",
       "    </tr>\n",
       "    <tr>\n",
       "      <th>2018-08-14</th>\n",
       "      <td>13089</td>\n",
       "      <td>14346</td>\n",
       "      <td>7458</td>\n",
       "      <td>8197</td>\n",
       "    </tr>\n",
       "    <tr>\n",
       "      <th>2018-08-15</th>\n",
       "      <td>12690</td>\n",
       "      <td>13958</td>\n",
       "      <td>7446</td>\n",
       "      <td>8146</td>\n",
       "    </tr>\n",
       "    <tr>\n",
       "      <th>2018-08-16</th>\n",
       "      <td>10766</td>\n",
       "      <td>11731</td>\n",
       "      <td>5728</td>\n",
       "      <td>6237</td>\n",
       "    </tr>\n",
       "    <tr>\n",
       "      <th>2018-08-17</th>\n",
       "      <td>11323</td>\n",
       "      <td>12362</td>\n",
       "      <td>5758</td>\n",
       "      <td>6195</td>\n",
       "    </tr>\n",
       "    <tr>\n",
       "      <th>2018-08-18</th>\n",
       "      <td>15959</td>\n",
       "      <td>17921</td>\n",
       "      <td>9718</td>\n",
       "      <td>11104</td>\n",
       "    </tr>\n",
       "    <tr>\n",
       "      <th>2018-08-19</th>\n",
       "      <td>14477</td>\n",
       "      <td>16051</td>\n",
       "      <td>8607</td>\n",
       "      <td>9445</td>\n",
       "    </tr>\n",
       "    <tr>\n",
       "      <th>2018-08-20</th>\n",
       "      <td>13378</td>\n",
       "      <td>14729</td>\n",
       "      <td>7790</td>\n",
       "      <td>8705</td>\n",
       "    </tr>\n",
       "  </tbody>\n",
       "</table>\n",
       "</div>"
      ],
      "text/plain": [
       "            product_id  variant_id  user_id  order_id\n",
       "date                                                 \n",
       "2018-08-12       12286       13407     6958      7599\n",
       "2018-08-13       14001       15279     8165      8901\n",
       "2018-08-14       13089       14346     7458      8197\n",
       "2018-08-15       12690       13958     7446      8146\n",
       "2018-08-16       10766       11731     5728      6237\n",
       "2018-08-17       11323       12362     5758      6195\n",
       "2018-08-18       15959       17921     9718     11104\n",
       "2018-08-19       14477       16051     8607      9445\n",
       "2018-08-20       13378       14729     7790      8705"
      ]
     },
     "execution_count": 543,
     "metadata": {},
     "output_type": "execute_result"
    }
   ],
   "source": [
    "dd =retail.set_index('date').groupby(pd.Grouper(freq='D')).agg({\n",
    "    'product_id':\"nunique\",\n",
    "    'variant_id':\"nunique\",\n",
    "    'user_id':\"nunique\",\n",
    "    'order_id':\"nunique\",\n",
    "})\n",
    "dd"
   ]
  },
  {
   "cell_type": "code",
   "execution_count": 396,
   "metadata": {},
   "outputs": [
    {
     "data": {
      "text/html": [
       "<div>\n",
       "<style scoped>\n",
       "    .dataframe tbody tr th:only-of-type {\n",
       "        vertical-align: middle;\n",
       "    }\n",
       "\n",
       "    .dataframe tbody tr th {\n",
       "        vertical-align: top;\n",
       "    }\n",
       "\n",
       "    .dataframe thead th {\n",
       "        text-align: right;\n",
       "    }\n",
       "</style>\n",
       "<table border=\"1\" class=\"dataframe\">\n",
       "  <thead>\n",
       "    <tr style=\"text-align: right;\">\n",
       "      <th></th>\n",
       "      <th>order_id</th>\n",
       "      <th>user_id</th>\n",
       "      <th>variant_id</th>\n",
       "      <th>product_id</th>\n",
       "      <th>quantity</th>\n",
       "      <th>price</th>\n",
       "      <th>date</th>\n",
       "      <th>city_id</th>\n",
       "      <th>city_name</th>\n",
       "      <th>state_id</th>\n",
       "      <th>state_name</th>\n",
       "    </tr>\n",
       "  </thead>\n",
       "  <tbody>\n",
       "    <tr>\n",
       "      <th>134970</th>\n",
       "      <td>259831833</td>\n",
       "      <td>N6Ox9v23NYCx8wVnHszLUw==</td>\n",
       "      <td>1201932</td>\n",
       "      <td>657154</td>\n",
       "      <td>1</td>\n",
       "      <td>4800000</td>\n",
       "      <td>2018-08-14 23:59:49</td>\n",
       "      <td>1855</td>\n",
       "      <td>مشهد</td>\n",
       "      <td>12</td>\n",
       "      <td>خراسان رضوی</td>\n",
       "    </tr>\n",
       "    <tr>\n",
       "      <th>134971</th>\n",
       "      <td>259831689</td>\n",
       "      <td>jX5dG550W5io6FqpqH0Eeg==</td>\n",
       "      <td>850585</td>\n",
       "      <td>515635</td>\n",
       "      <td>1</td>\n",
       "      <td>90000</td>\n",
       "      <td>2018-08-14 23:59:16</td>\n",
       "      <td>1581</td>\n",
       "      <td>فولاد شهر</td>\n",
       "      <td>5</td>\n",
       "      <td>اصفهان</td>\n",
       "    </tr>\n",
       "    <tr>\n",
       "      <th>134972</th>\n",
       "      <td>259831689</td>\n",
       "      <td>jX5dG550W5io6FqpqH0Eeg==</td>\n",
       "      <td>1042812</td>\n",
       "      <td>462726</td>\n",
       "      <td>1</td>\n",
       "      <td>79000</td>\n",
       "      <td>2018-08-14 23:59:16</td>\n",
       "      <td>1581</td>\n",
       "      <td>فولاد شهر</td>\n",
       "      <td>5</td>\n",
       "      <td>اصفهان</td>\n",
       "    </tr>\n",
       "    <tr>\n",
       "      <th>134973</th>\n",
       "      <td>259831689</td>\n",
       "      <td>jX5dG550W5io6FqpqH0Eeg==</td>\n",
       "      <td>748439</td>\n",
       "      <td>16058</td>\n",
       "      <td>1</td>\n",
       "      <td>95000</td>\n",
       "      <td>2018-08-14 23:59:16</td>\n",
       "      <td>1581</td>\n",
       "      <td>فولاد شهر</td>\n",
       "      <td>5</td>\n",
       "      <td>اصفهان</td>\n",
       "    </tr>\n",
       "    <tr>\n",
       "      <th>134974</th>\n",
       "      <td>259831689</td>\n",
       "      <td>jX5dG550W5io6FqpqH0Eeg==</td>\n",
       "      <td>1313510</td>\n",
       "      <td>70258</td>\n",
       "      <td>1</td>\n",
       "      <td>100000</td>\n",
       "      <td>2018-08-14 23:59:16</td>\n",
       "      <td>1581</td>\n",
       "      <td>فولاد شهر</td>\n",
       "      <td>5</td>\n",
       "      <td>اصفهان</td>\n",
       "    </tr>\n",
       "    <tr>\n",
       "      <th>...</th>\n",
       "      <td>...</td>\n",
       "      <td>...</td>\n",
       "      <td>...</td>\n",
       "      <td>...</td>\n",
       "      <td>...</td>\n",
       "      <td>...</td>\n",
       "      <td>...</td>\n",
       "      <td>...</td>\n",
       "      <td>...</td>\n",
       "      <td>...</td>\n",
       "      <td>...</td>\n",
       "    </tr>\n",
       "    <tr>\n",
       "      <th>199995</th>\n",
       "      <td>258838077</td>\n",
       "      <td>chbca7XuHDG/7OJPls3fNA==</td>\n",
       "      <td>494706</td>\n",
       "      <td>340247</td>\n",
       "      <td>1</td>\n",
       "      <td>40000</td>\n",
       "      <td>2018-08-12 06:21:26</td>\n",
       "      <td>1698</td>\n",
       "      <td>تهران</td>\n",
       "      <td>9</td>\n",
       "      <td>تهران</td>\n",
       "    </tr>\n",
       "    <tr>\n",
       "      <th>199996</th>\n",
       "      <td>258838077</td>\n",
       "      <td>chbca7XuHDG/7OJPls3fNA==</td>\n",
       "      <td>823091</td>\n",
       "      <td>389988</td>\n",
       "      <td>1</td>\n",
       "      <td>325000</td>\n",
       "      <td>2018-08-12 06:21:26</td>\n",
       "      <td>1698</td>\n",
       "      <td>تهران</td>\n",
       "      <td>9</td>\n",
       "      <td>تهران</td>\n",
       "    </tr>\n",
       "    <tr>\n",
       "      <th>199997</th>\n",
       "      <td>258838077</td>\n",
       "      <td>chbca7XuHDG/7OJPls3fNA==</td>\n",
       "      <td>483089</td>\n",
       "      <td>334477</td>\n",
       "      <td>1</td>\n",
       "      <td>1750000</td>\n",
       "      <td>2018-08-12 06:21:26</td>\n",
       "      <td>1698</td>\n",
       "      <td>تهران</td>\n",
       "      <td>9</td>\n",
       "      <td>تهران</td>\n",
       "    </tr>\n",
       "    <tr>\n",
       "      <th>199998</th>\n",
       "      <td>258838077</td>\n",
       "      <td>chbca7XuHDG/7OJPls3fNA==</td>\n",
       "      <td>1129695</td>\n",
       "      <td>640539</td>\n",
       "      <td>1</td>\n",
       "      <td>184000</td>\n",
       "      <td>2018-08-12 06:21:26</td>\n",
       "      <td>1698</td>\n",
       "      <td>تهران</td>\n",
       "      <td>9</td>\n",
       "      <td>تهران</td>\n",
       "    </tr>\n",
       "    <tr>\n",
       "      <th>199999</th>\n",
       "      <td>258838041</td>\n",
       "      <td>OVCXfcaxQtqLzmy1U8A7eg==</td>\n",
       "      <td>1033353</td>\n",
       "      <td>568751</td>\n",
       "      <td>1</td>\n",
       "      <td>170000</td>\n",
       "      <td>2018-08-12 06:19:19</td>\n",
       "      <td>1442</td>\n",
       "      <td>بوکان</td>\n",
       "      <td>3</td>\n",
       "      <td>آذربایجان غربی</td>\n",
       "    </tr>\n",
       "  </tbody>\n",
       "</table>\n",
       "<p>65030 rows × 11 columns</p>\n",
       "</div>"
      ],
      "text/plain": [
       "         order_id                   user_id  variant_id  product_id  quantity  \\\n",
       "134970  259831833  N6Ox9v23NYCx8wVnHszLUw==     1201932      657154         1   \n",
       "134971  259831689  jX5dG550W5io6FqpqH0Eeg==      850585      515635         1   \n",
       "134972  259831689  jX5dG550W5io6FqpqH0Eeg==     1042812      462726         1   \n",
       "134973  259831689  jX5dG550W5io6FqpqH0Eeg==      748439       16058         1   \n",
       "134974  259831689  jX5dG550W5io6FqpqH0Eeg==     1313510       70258         1   \n",
       "...           ...                       ...         ...         ...       ...   \n",
       "199995  258838077  chbca7XuHDG/7OJPls3fNA==      494706      340247         1   \n",
       "199996  258838077  chbca7XuHDG/7OJPls3fNA==      823091      389988         1   \n",
       "199997  258838077  chbca7XuHDG/7OJPls3fNA==      483089      334477         1   \n",
       "199998  258838077  chbca7XuHDG/7OJPls3fNA==     1129695      640539         1   \n",
       "199999  258838041  OVCXfcaxQtqLzmy1U8A7eg==     1033353      568751         1   \n",
       "\n",
       "          price                date  city_id  city_name  state_id  \\\n",
       "134970  4800000 2018-08-14 23:59:49     1855       مشهد        12   \n",
       "134971    90000 2018-08-14 23:59:16     1581  فولاد شهر         5   \n",
       "134972    79000 2018-08-14 23:59:16     1581  فولاد شهر         5   \n",
       "134973    95000 2018-08-14 23:59:16     1581  فولاد شهر         5   \n",
       "134974   100000 2018-08-14 23:59:16     1581  فولاد شهر         5   \n",
       "...         ...                 ...      ...        ...       ...   \n",
       "199995    40000 2018-08-12 06:21:26     1698      تهران         9   \n",
       "199996   325000 2018-08-12 06:21:26     1698      تهران         9   \n",
       "199997  1750000 2018-08-12 06:21:26     1698      تهران         9   \n",
       "199998   184000 2018-08-12 06:21:26     1698      تهران         9   \n",
       "199999   170000 2018-08-12 06:19:19     1442      بوکان         3   \n",
       "\n",
       "            state_name  \n",
       "134970     خراسان رضوی  \n",
       "134971          اصفهان  \n",
       "134972          اصفهان  \n",
       "134973          اصفهان  \n",
       "134974          اصفهان  \n",
       "...                ...  \n",
       "199995           تهران  \n",
       "199996           تهران  \n",
       "199997           تهران  \n",
       "199998           تهران  \n",
       "199999  آذربایجان غربی  \n",
       "\n",
       "[65030 rows x 11 columns]"
      ]
     },
     "execution_count": 396,
     "metadata": {},
     "output_type": "execute_result"
    }
   ],
   "source": [
    "\n",
    "retail[((retail['date'] - dd.index[2]).dt.total_seconds())<86400]\n"
   ]
  },
  {
   "cell_type": "code",
   "execution_count": 412,
   "metadata": {},
   "outputs": [
    {
     "ename": "AttributeError",
     "evalue": "'Series' object has no attribute 'date'",
     "output_type": "error",
     "traceback": [
      "\u001b[1;31m---------------------------------------------------------------------------\u001b[0m",
      "\u001b[1;31mAttributeError\u001b[0m                            Traceback (most recent call last)",
      "\u001b[1;32m<ipython-input-412-de9773c00eec>\u001b[0m in \u001b[0;36m<module>\u001b[1;34m\u001b[0m\n\u001b[0;32m      1\u001b[0m \u001b[1;32mfor\u001b[0m \u001b[0midx\u001b[0m \u001b[1;32min\u001b[0m \u001b[0mdd\u001b[0m\u001b[1;33m.\u001b[0m\u001b[0mindex\u001b[0m\u001b[1;33m:\u001b[0m\u001b[1;33m\u001b[0m\u001b[1;33m\u001b[0m\u001b[0m\n\u001b[1;32m----> 2\u001b[1;33m     \u001b[0mprint\u001b[0m\u001b[1;33m(\u001b[0m\u001b[1;34mf\"len {idx}: {len(retail[((retail['date'].date() -idx.date()).dt.days)==1])}\"\u001b[0m\u001b[1;33m)\u001b[0m\u001b[1;33m\u001b[0m\u001b[1;33m\u001b[0m\u001b[0m\n\u001b[0m",
      "\u001b[1;32m~\\anaconda3\\lib\\site-packages\\pandas\\core\\generic.py\u001b[0m in \u001b[0;36m__getattr__\u001b[1;34m(self, name)\u001b[0m\n\u001b[0;32m   5137\u001b[0m             \u001b[1;32mif\u001b[0m \u001b[0mself\u001b[0m\u001b[1;33m.\u001b[0m\u001b[0m_info_axis\u001b[0m\u001b[1;33m.\u001b[0m\u001b[0m_can_hold_identifiers_and_holds_name\u001b[0m\u001b[1;33m(\u001b[0m\u001b[0mname\u001b[0m\u001b[1;33m)\u001b[0m\u001b[1;33m:\u001b[0m\u001b[1;33m\u001b[0m\u001b[1;33m\u001b[0m\u001b[0m\n\u001b[0;32m   5138\u001b[0m                 \u001b[1;32mreturn\u001b[0m \u001b[0mself\u001b[0m\u001b[1;33m[\u001b[0m\u001b[0mname\u001b[0m\u001b[1;33m]\u001b[0m\u001b[1;33m\u001b[0m\u001b[1;33m\u001b[0m\u001b[0m\n\u001b[1;32m-> 5139\u001b[1;33m             \u001b[1;32mreturn\u001b[0m \u001b[0mobject\u001b[0m\u001b[1;33m.\u001b[0m\u001b[0m__getattribute__\u001b[0m\u001b[1;33m(\u001b[0m\u001b[0mself\u001b[0m\u001b[1;33m,\u001b[0m \u001b[0mname\u001b[0m\u001b[1;33m)\u001b[0m\u001b[1;33m\u001b[0m\u001b[1;33m\u001b[0m\u001b[0m\n\u001b[0m\u001b[0;32m   5140\u001b[0m \u001b[1;33m\u001b[0m\u001b[0m\n\u001b[0;32m   5141\u001b[0m     \u001b[1;32mdef\u001b[0m \u001b[0m__setattr__\u001b[0m\u001b[1;33m(\u001b[0m\u001b[0mself\u001b[0m\u001b[1;33m,\u001b[0m \u001b[0mname\u001b[0m\u001b[1;33m:\u001b[0m \u001b[0mstr\u001b[0m\u001b[1;33m,\u001b[0m \u001b[0mvalue\u001b[0m\u001b[1;33m)\u001b[0m \u001b[1;33m->\u001b[0m \u001b[1;32mNone\u001b[0m\u001b[1;33m:\u001b[0m\u001b[1;33m\u001b[0m\u001b[1;33m\u001b[0m\u001b[0m\n",
      "\u001b[1;31mAttributeError\u001b[0m: 'Series' object has no attribute 'date'"
     ]
    }
   ],
   "source": [
    "for idx in dd.index:\n",
    "    print(f\"len {idx}: {len(retail[((retail['date'].date() -idx.date()).dt.days)==1])}\")"
   ]
  },
  {
   "cell_type": "code",
   "execution_count": 418,
   "metadata": {},
   "outputs": [],
   "source": [
    "retail['day_date']= retail['date'].apply(lambda x: x.date())"
   ]
  },
  {
   "cell_type": "code",
   "execution_count": 419,
   "metadata": {},
   "outputs": [
    {
     "data": {
      "text/plain": [
       "0         2018-08-20\n",
       "1         2018-08-20\n",
       "2         2018-08-20\n",
       "3         2018-08-20\n",
       "4         2018-08-20\n",
       "             ...    \n",
       "199995    2018-08-12\n",
       "199996    2018-08-12\n",
       "199997    2018-08-12\n",
       "199998    2018-08-12\n",
       "199999    2018-08-12\n",
       "Name: day_date, Length: 200000, dtype: object"
      ]
     },
     "execution_count": 419,
     "metadata": {},
     "output_type": "execute_result"
    }
   ],
   "source": [
    "retail['day_date']"
   ]
  },
  {
   "cell_type": "code",
   "execution_count": null,
   "metadata": {},
   "outputs": [],
   "source": []
  }
 ],
 "metadata": {
  "kernelspec": {
   "display_name": "Python 3 (ipykernel)",
   "language": "python",
   "name": "python3"
  },
  "language_info": {
   "codemirror_mode": {
    "name": "ipython",
    "version": 3
   },
   "file_extension": ".py",
   "mimetype": "text/x-python",
   "name": "python",
   "nbconvert_exporter": "python",
   "pygments_lexer": "ipython3",
   "version": "3.9.12"
  }
 },
 "nbformat": 4,
 "nbformat_minor": 4
}
