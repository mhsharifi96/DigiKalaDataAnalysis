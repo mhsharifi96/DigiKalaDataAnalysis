{
 "cells": [
  {
   "cell_type": "code",
   "execution_count": 23,
   "metadata": {},
   "outputs": [],
   "source": [
    "# import required libraries for dataframe and visualization\n",
    "\n",
    "import numpy as np\n",
    "import pandas as pd\n",
    "import matplotlib.pyplot as plt\n",
    "import seaborn as sns\n",
    "import datetime as dt\n",
    "\n",
    "# import required libraries for clustering\n",
    "import sklearn\n",
    "from sklearn.preprocessing import StandardScaler\n",
    "from sklearn.cluster import KMeans\n",
    "from sklearn.metrics import silhouette_score\n",
    "from scipy.cluster.hierarchy import linkage\n",
    "from scipy.cluster.hierarchy import dendrogram\n",
    "from scipy.cluster.hierarchy import cut_tree"
   ]
  },
  {
   "cell_type": "code",
   "execution_count": 2,
   "metadata": {},
   "outputs": [],
   "source": [
    "retail = pd.read_excel('dataset/digikala_customer_orders.xlsx', sheet_name=\"orders\")"
   ]
  },
  {
   "cell_type": "code",
   "execution_count": 3,
   "metadata": {},
   "outputs": [
    {
     "name": "stdout",
     "output_type": "stream",
     "text": [
      "<class 'pandas.core.frame.DataFrame'>\n",
      "RangeIndex: 200000 entries, 0 to 199999\n",
      "Data columns (total 11 columns):\n",
      " #   Column      Non-Null Count   Dtype \n",
      "---  ------      --------------   ----- \n",
      " 0   order_id    200000 non-null  int64 \n",
      " 1   user_id     200000 non-null  object\n",
      " 2   variant_id  200000 non-null  int64 \n",
      " 3   product_id  200000 non-null  int64 \n",
      " 4   quantity    200000 non-null  int64 \n",
      " 5   price       200000 non-null  int64 \n",
      " 6   date        200000 non-null  object\n",
      " 7   city_id     200000 non-null  int64 \n",
      " 8   city_name   200000 non-null  object\n",
      " 9   state_id    200000 non-null  int64 \n",
      " 10  state_name  200000 non-null  object\n",
      "dtypes: int64(7), object(4)\n",
      "memory usage: 16.8+ MB\n"
     ]
    }
   ],
   "source": [
    "retail.info()"
   ]
  },
  {
   "cell_type": "code",
   "execution_count": 4,
   "metadata": {},
   "outputs": [
    {
     "data": {
      "text/html": [
       "<div>\n",
       "<style scoped>\n",
       "    .dataframe tbody tr th:only-of-type {\n",
       "        vertical-align: middle;\n",
       "    }\n",
       "\n",
       "    .dataframe tbody tr th {\n",
       "        vertical-align: top;\n",
       "    }\n",
       "\n",
       "    .dataframe thead th {\n",
       "        text-align: right;\n",
       "    }\n",
       "</style>\n",
       "<table border=\"1\" class=\"dataframe\">\n",
       "  <thead>\n",
       "    <tr style=\"text-align: right;\">\n",
       "      <th></th>\n",
       "      <th>order_id</th>\n",
       "      <th>variant_id</th>\n",
       "      <th>product_id</th>\n",
       "      <th>quantity</th>\n",
       "      <th>price</th>\n",
       "      <th>city_id</th>\n",
       "      <th>state_id</th>\n",
       "    </tr>\n",
       "  </thead>\n",
       "  <tbody>\n",
       "    <tr>\n",
       "      <th>count</th>\n",
       "      <td>2.000000e+05</td>\n",
       "      <td>2.000000e+05</td>\n",
       "      <td>200000.000000</td>\n",
       "      <td>200000.000000</td>\n",
       "      <td>2.000000e+05</td>\n",
       "      <td>200000.000000</td>\n",
       "      <td>200000.000000</td>\n",
       "    </tr>\n",
       "    <tr>\n",
       "      <th>mean</th>\n",
       "      <td>2.603678e+08</td>\n",
       "      <td>8.194619e+05</td>\n",
       "      <td>386718.575000</td>\n",
       "      <td>1.327395</td>\n",
       "      <td>1.057300e+06</td>\n",
       "      <td>1829.737850</td>\n",
       "      <td>12.122495</td>\n",
       "    </tr>\n",
       "    <tr>\n",
       "      <th>std</th>\n",
       "      <td>9.014162e+05</td>\n",
       "      <td>4.162816e+05</td>\n",
       "      <td>212149.173524</td>\n",
       "      <td>1.428635</td>\n",
       "      <td>3.846753e+06</td>\n",
       "      <td>286.319633</td>\n",
       "      <td>7.045052</td>\n",
       "    </tr>\n",
       "    <tr>\n",
       "      <th>min</th>\n",
       "      <td>2.588380e+08</td>\n",
       "      <td>2.810000e+02</td>\n",
       "      <td>300.000000</td>\n",
       "      <td>-2.000000</td>\n",
       "      <td>1.000000e+00</td>\n",
       "      <td>1372.000000</td>\n",
       "      <td>2.000000</td>\n",
       "    </tr>\n",
       "    <tr>\n",
       "      <th>25%</th>\n",
       "      <td>2.595868e+08</td>\n",
       "      <td>4.835210e+05</td>\n",
       "      <td>191084.000000</td>\n",
       "      <td>1.000000</td>\n",
       "      <td>1.300000e+05</td>\n",
       "      <td>1698.000000</td>\n",
       "      <td>9.000000</td>\n",
       "    </tr>\n",
       "    <tr>\n",
       "      <th>50%</th>\n",
       "      <td>2.603573e+08</td>\n",
       "      <td>8.856180e+05</td>\n",
       "      <td>395477.000000</td>\n",
       "      <td>1.000000</td>\n",
       "      <td>2.900000e+05</td>\n",
       "      <td>1698.000000</td>\n",
       "      <td>9.000000</td>\n",
       "    </tr>\n",
       "    <tr>\n",
       "      <th>75%</th>\n",
       "      <td>2.610735e+08</td>\n",
       "      <td>1.181338e+06</td>\n",
       "      <td>568665.000000</td>\n",
       "      <td>1.000000</td>\n",
       "      <td>7.490000e+05</td>\n",
       "      <td>1905.000000</td>\n",
       "      <td>14.000000</td>\n",
       "    </tr>\n",
       "    <tr>\n",
       "      <th>max</th>\n",
       "      <td>2.621084e+08</td>\n",
       "      <td>1.495812e+06</td>\n",
       "      <td>789337.000000</td>\n",
       "      <td>100.000000</td>\n",
       "      <td>2.120000e+08</td>\n",
       "      <td>2613.000000</td>\n",
       "      <td>32.000000</td>\n",
       "    </tr>\n",
       "  </tbody>\n",
       "</table>\n",
       "</div>"
      ],
      "text/plain": [
       "           order_id    variant_id     product_id       quantity         price  \\\n",
       "count  2.000000e+05  2.000000e+05  200000.000000  200000.000000  2.000000e+05   \n",
       "mean   2.603678e+08  8.194619e+05  386718.575000       1.327395  1.057300e+06   \n",
       "std    9.014162e+05  4.162816e+05  212149.173524       1.428635  3.846753e+06   \n",
       "min    2.588380e+08  2.810000e+02     300.000000      -2.000000  1.000000e+00   \n",
       "25%    2.595868e+08  4.835210e+05  191084.000000       1.000000  1.300000e+05   \n",
       "50%    2.603573e+08  8.856180e+05  395477.000000       1.000000  2.900000e+05   \n",
       "75%    2.610735e+08  1.181338e+06  568665.000000       1.000000  7.490000e+05   \n",
       "max    2.621084e+08  1.495812e+06  789337.000000     100.000000  2.120000e+08   \n",
       "\n",
       "             city_id       state_id  \n",
       "count  200000.000000  200000.000000  \n",
       "mean     1829.737850      12.122495  \n",
       "std       286.319633       7.045052  \n",
       "min      1372.000000       2.000000  \n",
       "25%      1698.000000       9.000000  \n",
       "50%      1698.000000       9.000000  \n",
       "75%      1905.000000      14.000000  \n",
       "max      2613.000000      32.000000  "
      ]
     },
     "execution_count": 4,
     "metadata": {},
     "output_type": "execute_result"
    }
   ],
   "source": [
    "retail.describe()"
   ]
  },
  {
   "cell_type": "code",
   "execution_count": 5,
   "metadata": {},
   "outputs": [
    {
     "data": {
      "text/html": [
       "<div>\n",
       "<style scoped>\n",
       "    .dataframe tbody tr th:only-of-type {\n",
       "        vertical-align: middle;\n",
       "    }\n",
       "\n",
       "    .dataframe tbody tr th {\n",
       "        vertical-align: top;\n",
       "    }\n",
       "\n",
       "    .dataframe thead th {\n",
       "        text-align: right;\n",
       "    }\n",
       "</style>\n",
       "<table border=\"1\" class=\"dataframe\">\n",
       "  <thead>\n",
       "    <tr style=\"text-align: right;\">\n",
       "      <th></th>\n",
       "      <th>order_id</th>\n",
       "      <th>user_id</th>\n",
       "      <th>variant_id</th>\n",
       "      <th>product_id</th>\n",
       "      <th>quantity</th>\n",
       "      <th>price</th>\n",
       "      <th>date</th>\n",
       "      <th>city_id</th>\n",
       "      <th>city_name</th>\n",
       "      <th>state_id</th>\n",
       "      <th>state_name</th>\n",
       "    </tr>\n",
       "  </thead>\n",
       "  <tbody>\n",
       "    <tr>\n",
       "      <th>0</th>\n",
       "      <td>262108413</td>\n",
       "      <td>SlcW7YT835JSzh22o7zRCA==</td>\n",
       "      <td>922274</td>\n",
       "      <td>406523</td>\n",
       "      <td>1</td>\n",
       "      <td>139000</td>\n",
       "      <td>2018-08-20 23:59:02</td>\n",
       "      <td>1698</td>\n",
       "      <td>تهران</td>\n",
       "      <td>9</td>\n",
       "      <td>تهران</td>\n",
       "    </tr>\n",
       "    <tr>\n",
       "      <th>1</th>\n",
       "      <td>262108413</td>\n",
       "      <td>SlcW7YT835JSzh22o7zRCA==</td>\n",
       "      <td>685868</td>\n",
       "      <td>435013</td>\n",
       "      <td>1</td>\n",
       "      <td>890000</td>\n",
       "      <td>2018-08-20 23:59:02</td>\n",
       "      <td>1698</td>\n",
       "      <td>تهران</td>\n",
       "      <td>9</td>\n",
       "      <td>تهران</td>\n",
       "    </tr>\n",
       "    <tr>\n",
       "      <th>2</th>\n",
       "      <td>262108353</td>\n",
       "      <td>NZidrSuPdqoG7RedrFakeA==</td>\n",
       "      <td>275077</td>\n",
       "      <td>163947</td>\n",
       "      <td>1</td>\n",
       "      <td>9890000</td>\n",
       "      <td>2018-08-20 23:58:39</td>\n",
       "      <td>1698</td>\n",
       "      <td>تهران</td>\n",
       "      <td>9</td>\n",
       "      <td>تهران</td>\n",
       "    </tr>\n",
       "    <tr>\n",
       "      <th>3</th>\n",
       "      <td>262108341</td>\n",
       "      <td>dLQImlfXMsgSub4OcfJpGg==</td>\n",
       "      <td>679393</td>\n",
       "      <td>158560</td>\n",
       "      <td>1</td>\n",
       "      <td>349000</td>\n",
       "      <td>2018-08-20 23:58:35</td>\n",
       "      <td>1855</td>\n",
       "      <td>مشهد</td>\n",
       "      <td>12</td>\n",
       "      <td>خراسان رضوی</td>\n",
       "    </tr>\n",
       "    <tr>\n",
       "      <th>4</th>\n",
       "      <td>262108293</td>\n",
       "      <td>O/xo6mGsu7adcgxofe+MdQ==</td>\n",
       "      <td>769096</td>\n",
       "      <td>479854</td>\n",
       "      <td>1</td>\n",
       "      <td>320000</td>\n",
       "      <td>2018-08-20 23:58:28</td>\n",
       "      <td>1698</td>\n",
       "      <td>تهران</td>\n",
       "      <td>9</td>\n",
       "      <td>تهران</td>\n",
       "    </tr>\n",
       "  </tbody>\n",
       "</table>\n",
       "</div>"
      ],
      "text/plain": [
       "    order_id                   user_id  variant_id  product_id  quantity  \\\n",
       "0  262108413  SlcW7YT835JSzh22o7zRCA==      922274      406523         1   \n",
       "1  262108413  SlcW7YT835JSzh22o7zRCA==      685868      435013         1   \n",
       "2  262108353  NZidrSuPdqoG7RedrFakeA==      275077      163947         1   \n",
       "3  262108341  dLQImlfXMsgSub4OcfJpGg==      679393      158560         1   \n",
       "4  262108293  O/xo6mGsu7adcgxofe+MdQ==      769096      479854         1   \n",
       "\n",
       "     price                 date  city_id city_name  state_id   state_name  \n",
       "0   139000  2018-08-20 23:59:02     1698     تهران         9        تهران  \n",
       "1   890000  2018-08-20 23:59:02     1698     تهران         9        تهران  \n",
       "2  9890000  2018-08-20 23:58:39     1698     تهران         9        تهران  \n",
       "3   349000  2018-08-20 23:58:35     1855      مشهد        12  خراسان رضوی  \n",
       "4   320000  2018-08-20 23:58:28     1698     تهران         9        تهران  "
      ]
     },
     "execution_count": 5,
     "metadata": {},
     "output_type": "execute_result"
    }
   ],
   "source": [
    "retail.head()"
   ]
  },
  {
   "cell_type": "code",
   "execution_count": 6,
   "metadata": {},
   "outputs": [
    {
     "data": {
      "text/plain": [
       "(200000, 11)"
      ]
     },
     "execution_count": 6,
     "metadata": {},
     "output_type": "execute_result"
    }
   ],
   "source": [
    "# shape of df\n",
    "retail.shape"
   ]
  },
  {
   "cell_type": "code",
   "execution_count": 7,
   "metadata": {},
   "outputs": [
    {
     "data": {
      "text/plain": [
       "order_id      0.0\n",
       "user_id       0.0\n",
       "variant_id    0.0\n",
       "product_id    0.0\n",
       "quantity      0.0\n",
       "price         0.0\n",
       "date          0.0\n",
       "city_id       0.0\n",
       "city_name     0.0\n",
       "state_id      0.0\n",
       "state_name    0.0\n",
       "dtype: float64"
      ]
     },
     "execution_count": 7,
     "metadata": {},
     "output_type": "execute_result"
    }
   ],
   "source": [
    "# Calculating the Missing Values % contribution in DF\n",
    "\n",
    "df_null = round(100*(retail.isnull().sum())/len(retail), 2)\n",
    "df_null"
   ]
  },
  {
   "cell_type": "markdown",
   "metadata": {},
   "source": [
    "above section shows , there haven't null value :) hora"
   ]
  },
  {
   "cell_type": "code",
   "execution_count": 8,
   "metadata": {},
   "outputs": [
    {
     "data": {
      "text/plain": [
       "Index(['order_id', 'user_id', 'variant_id', 'product_id', 'quantity', 'price',\n",
       "       'date', 'city_id', 'city_name', 'state_id', 'state_name'],\n",
       "      dtype='object')"
      ]
     },
     "execution_count": 8,
     "metadata": {},
     "output_type": "execute_result"
    }
   ],
   "source": [
    "retail.columns  #df culumns name "
   ]
  },
  {
   "cell_type": "code",
   "execution_count": 9,
   "metadata": {},
   "outputs": [],
   "source": [
    "retail['user_id']= retail['user_id'].astype(str)"
   ]
  },
  {
   "cell_type": "markdown",
   "metadata": {},
   "source": [
    "## Step 2: Data Preparation"
   ]
  },
  {
   "cell_type": "markdown",
   "metadata": {},
   "source": [
    "We are going to analysis the Customers based on below 3 factors:\n",
    "- R (Recency): Number of days since last purchase\n",
    "- F (Frequency): Number of tracsactions\n",
    "- M (Monetary): Total amount of transactions (revenue contributed)"
   ]
  },
  {
   "cell_type": "code",
   "execution_count": 10,
   "metadata": {},
   "outputs": [
    {
     "data": {
      "text/html": [
       "<div>\n",
       "<style scoped>\n",
       "    .dataframe tbody tr th:only-of-type {\n",
       "        vertical-align: middle;\n",
       "    }\n",
       "\n",
       "    .dataframe tbody tr th {\n",
       "        vertical-align: top;\n",
       "    }\n",
       "\n",
       "    .dataframe thead th {\n",
       "        text-align: right;\n",
       "    }\n",
       "</style>\n",
       "<table border=\"1\" class=\"dataframe\">\n",
       "  <thead>\n",
       "    <tr style=\"text-align: right;\">\n",
       "      <th></th>\n",
       "      <th>user_id</th>\n",
       "      <th>Amount</th>\n",
       "    </tr>\n",
       "  </thead>\n",
       "  <tbody>\n",
       "    <tr>\n",
       "      <th>0</th>\n",
       "      <td>++2u4Q40bTeC0ZZDau1MIQ==</td>\n",
       "      <td>1082000</td>\n",
       "    </tr>\n",
       "    <tr>\n",
       "      <th>1</th>\n",
       "      <td>++HwHhPvBHtXEIN36fDT5w==</td>\n",
       "      <td>1414000</td>\n",
       "    </tr>\n",
       "    <tr>\n",
       "      <th>2</th>\n",
       "      <td>++IfjhhQ33j7i4NHdBUJkQ==</td>\n",
       "      <td>990000</td>\n",
       "    </tr>\n",
       "    <tr>\n",
       "      <th>3</th>\n",
       "      <td>++KPSp+1ZC6KXlYAS8VcKg==</td>\n",
       "      <td>1690500</td>\n",
       "    </tr>\n",
       "    <tr>\n",
       "      <th>4</th>\n",
       "      <td>++XCbp2ChGJyYhM/fYWudg==</td>\n",
       "      <td>1150000</td>\n",
       "    </tr>\n",
       "  </tbody>\n",
       "</table>\n",
       "</div>"
      ],
      "text/plain": [
       "                    user_id   Amount\n",
       "0  ++2u4Q40bTeC0ZZDau1MIQ==  1082000\n",
       "1  ++HwHhPvBHtXEIN36fDT5w==  1414000\n",
       "2  ++IfjhhQ33j7i4NHdBUJkQ==   990000\n",
       "3  ++KPSp+1ZC6KXlYAS8VcKg==  1690500\n",
       "4  ++XCbp2ChGJyYhM/fYWudg==  1150000"
      ]
     },
     "execution_count": 10,
     "metadata": {},
     "output_type": "execute_result"
    }
   ],
   "source": [
    "# New Attribute : Monetary\n",
    "\n",
    "retail['Amount']= retail['quantity']*retail['price']\n",
    "rfm_m = retail.groupby('user_id')['Amount'].sum()\n",
    "rfm_m = rfm_m.reset_index()\n",
    "rfm_m.head()"
   ]
  },
  {
   "cell_type": "code",
   "execution_count": 11,
   "metadata": {},
   "outputs": [
    {
     "data": {
      "text/html": [
       "<div>\n",
       "<style scoped>\n",
       "    .dataframe tbody tr th:only-of-type {\n",
       "        vertical-align: middle;\n",
       "    }\n",
       "\n",
       "    .dataframe tbody tr th {\n",
       "        vertical-align: top;\n",
       "    }\n",
       "\n",
       "    .dataframe thead th {\n",
       "        text-align: right;\n",
       "    }\n",
       "</style>\n",
       "<table border=\"1\" class=\"dataframe\">\n",
       "  <thead>\n",
       "    <tr style=\"text-align: right;\">\n",
       "      <th></th>\n",
       "      <th>user_id</th>\n",
       "      <th>Frequency</th>\n",
       "    </tr>\n",
       "  </thead>\n",
       "  <tbody>\n",
       "    <tr>\n",
       "      <th>0</th>\n",
       "      <td>++2u4Q40bTeC0ZZDau1MIQ==</td>\n",
       "      <td>3</td>\n",
       "    </tr>\n",
       "    <tr>\n",
       "      <th>1</th>\n",
       "      <td>++HwHhPvBHtXEIN36fDT5w==</td>\n",
       "      <td>6</td>\n",
       "    </tr>\n",
       "    <tr>\n",
       "      <th>2</th>\n",
       "      <td>++IfjhhQ33j7i4NHdBUJkQ==</td>\n",
       "      <td>1</td>\n",
       "    </tr>\n",
       "    <tr>\n",
       "      <th>3</th>\n",
       "      <td>++KPSp+1ZC6KXlYAS8VcKg==</td>\n",
       "      <td>15</td>\n",
       "    </tr>\n",
       "    <tr>\n",
       "      <th>4</th>\n",
       "      <td>++XCbp2ChGJyYhM/fYWudg==</td>\n",
       "      <td>1</td>\n",
       "    </tr>\n",
       "  </tbody>\n",
       "</table>\n",
       "</div>"
      ],
      "text/plain": [
       "                    user_id  Frequency\n",
       "0  ++2u4Q40bTeC0ZZDau1MIQ==          3\n",
       "1  ++HwHhPvBHtXEIN36fDT5w==          6\n",
       "2  ++IfjhhQ33j7i4NHdBUJkQ==          1\n",
       "3  ++KPSp+1ZC6KXlYAS8VcKg==         15\n",
       "4  ++XCbp2ChGJyYhM/fYWudg==          1"
      ]
     },
     "execution_count": 11,
     "metadata": {},
     "output_type": "execute_result"
    }
   ],
   "source": [
    "# New Attribute : Frequency\n",
    "\n",
    "rfm_f = retail.groupby('user_id')['order_id'].count()\n",
    "rfm_f = rfm_f.reset_index()\n",
    "rfm_f.columns = ['user_id', 'Frequency']\n",
    "rfm_f.head()"
   ]
  },
  {
   "cell_type": "code",
   "execution_count": 12,
   "metadata": {},
   "outputs": [
    {
     "data": {
      "text/html": [
       "<div>\n",
       "<style scoped>\n",
       "    .dataframe tbody tr th:only-of-type {\n",
       "        vertical-align: middle;\n",
       "    }\n",
       "\n",
       "    .dataframe tbody tr th {\n",
       "        vertical-align: top;\n",
       "    }\n",
       "\n",
       "    .dataframe thead th {\n",
       "        text-align: right;\n",
       "    }\n",
       "</style>\n",
       "<table border=\"1\" class=\"dataframe\">\n",
       "  <thead>\n",
       "    <tr style=\"text-align: right;\">\n",
       "      <th></th>\n",
       "      <th>user_id</th>\n",
       "      <th>Amount</th>\n",
       "      <th>Frequency</th>\n",
       "    </tr>\n",
       "  </thead>\n",
       "  <tbody>\n",
       "    <tr>\n",
       "      <th>0</th>\n",
       "      <td>++2u4Q40bTeC0ZZDau1MIQ==</td>\n",
       "      <td>1082000</td>\n",
       "      <td>3</td>\n",
       "    </tr>\n",
       "    <tr>\n",
       "      <th>1</th>\n",
       "      <td>++HwHhPvBHtXEIN36fDT5w==</td>\n",
       "      <td>1414000</td>\n",
       "      <td>6</td>\n",
       "    </tr>\n",
       "    <tr>\n",
       "      <th>2</th>\n",
       "      <td>++IfjhhQ33j7i4NHdBUJkQ==</td>\n",
       "      <td>990000</td>\n",
       "      <td>1</td>\n",
       "    </tr>\n",
       "    <tr>\n",
       "      <th>3</th>\n",
       "      <td>++KPSp+1ZC6KXlYAS8VcKg==</td>\n",
       "      <td>1690500</td>\n",
       "      <td>15</td>\n",
       "    </tr>\n",
       "    <tr>\n",
       "      <th>4</th>\n",
       "      <td>++XCbp2ChGJyYhM/fYWudg==</td>\n",
       "      <td>1150000</td>\n",
       "      <td>1</td>\n",
       "    </tr>\n",
       "  </tbody>\n",
       "</table>\n",
       "</div>"
      ],
      "text/plain": [
       "                    user_id   Amount  Frequency\n",
       "0  ++2u4Q40bTeC0ZZDau1MIQ==  1082000          3\n",
       "1  ++HwHhPvBHtXEIN36fDT5w==  1414000          6\n",
       "2  ++IfjhhQ33j7i4NHdBUJkQ==   990000          1\n",
       "3  ++KPSp+1ZC6KXlYAS8VcKg==  1690500         15\n",
       "4  ++XCbp2ChGJyYhM/fYWudg==  1150000          1"
      ]
     },
     "execution_count": 12,
     "metadata": {},
     "output_type": "execute_result"
    }
   ],
   "source": [
    "# Merging the two dfs\n",
    "\n",
    "rfm = pd.merge(rfm_m, rfm_f, on='user_id', how='inner')\n",
    "rfm.head()"
   ]
  },
  {
   "cell_type": "code",
   "execution_count": 13,
   "metadata": {},
   "outputs": [],
   "source": [
    "# New Attribute : Recency\n",
    "# Convert to datetime to proper datatype\n",
    "retail['date'] = pd.to_datetime(retail['date'],format='%Y-%m-%d %H:%M:%S')"
   ]
  },
  {
   "cell_type": "code",
   "execution_count": 14,
   "metadata": {},
   "outputs": [
    {
     "data": {
      "text/plain": [
       "Timestamp('2018-08-20 23:59:02')"
      ]
     },
     "execution_count": 14,
     "metadata": {},
     "output_type": "execute_result"
    }
   ],
   "source": [
    "# Compute the maximum date to know the last transaction date\n",
    "max_date = retail['date'].max()\n",
    "max_date"
   ]
  },
  {
   "cell_type": "code",
   "execution_count": 15,
   "metadata": {},
   "outputs": [
    {
     "data": {
      "text/plain": [
       "Timestamp('2018-08-12 06:19:19')"
      ]
     },
     "execution_count": 15,
     "metadata": {},
     "output_type": "execute_result"
    }
   ],
   "source": [
    "# Compute the minimum date to know the last transaction date\n",
    "min_date = retail['date'].min()\n",
    "min_date"
   ]
  },
  {
   "cell_type": "code",
   "execution_count": 16,
   "metadata": {},
   "outputs": [
    {
     "data": {
      "text/plain": [
       "'this df show orders for 8 days 17:39:43'"
      ]
     },
     "execution_count": 16,
     "metadata": {},
     "output_type": "execute_result"
    }
   ],
   "source": [
    "f\"this df show orders for {max_date - min_date}\"\n"
   ]
  },
  {
   "cell_type": "code",
   "execution_count": 17,
   "metadata": {},
   "outputs": [
    {
     "data": {
      "text/html": [
       "<div>\n",
       "<style scoped>\n",
       "    .dataframe tbody tr th:only-of-type {\n",
       "        vertical-align: middle;\n",
       "    }\n",
       "\n",
       "    .dataframe tbody tr th {\n",
       "        vertical-align: top;\n",
       "    }\n",
       "\n",
       "    .dataframe thead th {\n",
       "        text-align: right;\n",
       "    }\n",
       "</style>\n",
       "<table border=\"1\" class=\"dataframe\">\n",
       "  <thead>\n",
       "    <tr style=\"text-align: right;\">\n",
       "      <th></th>\n",
       "      <th>order_id</th>\n",
       "      <th>user_id</th>\n",
       "      <th>variant_id</th>\n",
       "      <th>product_id</th>\n",
       "      <th>quantity</th>\n",
       "      <th>price</th>\n",
       "      <th>date</th>\n",
       "      <th>city_id</th>\n",
       "      <th>city_name</th>\n",
       "      <th>state_id</th>\n",
       "      <th>state_name</th>\n",
       "      <th>Amount</th>\n",
       "      <th>Diff</th>\n",
       "    </tr>\n",
       "  </thead>\n",
       "  <tbody>\n",
       "    <tr>\n",
       "      <th>199995</th>\n",
       "      <td>258838077</td>\n",
       "      <td>chbca7XuHDG/7OJPls3fNA==</td>\n",
       "      <td>494706</td>\n",
       "      <td>340247</td>\n",
       "      <td>1</td>\n",
       "      <td>40000</td>\n",
       "      <td>2018-08-12 06:21:26</td>\n",
       "      <td>1698</td>\n",
       "      <td>تهران</td>\n",
       "      <td>9</td>\n",
       "      <td>تهران</td>\n",
       "      <td>40000</td>\n",
       "      <td>8 days 17:37:36</td>\n",
       "    </tr>\n",
       "    <tr>\n",
       "      <th>199996</th>\n",
       "      <td>258838077</td>\n",
       "      <td>chbca7XuHDG/7OJPls3fNA==</td>\n",
       "      <td>823091</td>\n",
       "      <td>389988</td>\n",
       "      <td>1</td>\n",
       "      <td>325000</td>\n",
       "      <td>2018-08-12 06:21:26</td>\n",
       "      <td>1698</td>\n",
       "      <td>تهران</td>\n",
       "      <td>9</td>\n",
       "      <td>تهران</td>\n",
       "      <td>325000</td>\n",
       "      <td>8 days 17:37:36</td>\n",
       "    </tr>\n",
       "    <tr>\n",
       "      <th>199997</th>\n",
       "      <td>258838077</td>\n",
       "      <td>chbca7XuHDG/7OJPls3fNA==</td>\n",
       "      <td>483089</td>\n",
       "      <td>334477</td>\n",
       "      <td>1</td>\n",
       "      <td>1750000</td>\n",
       "      <td>2018-08-12 06:21:26</td>\n",
       "      <td>1698</td>\n",
       "      <td>تهران</td>\n",
       "      <td>9</td>\n",
       "      <td>تهران</td>\n",
       "      <td>1750000</td>\n",
       "      <td>8 days 17:37:36</td>\n",
       "    </tr>\n",
       "    <tr>\n",
       "      <th>199998</th>\n",
       "      <td>258838077</td>\n",
       "      <td>chbca7XuHDG/7OJPls3fNA==</td>\n",
       "      <td>1129695</td>\n",
       "      <td>640539</td>\n",
       "      <td>1</td>\n",
       "      <td>184000</td>\n",
       "      <td>2018-08-12 06:21:26</td>\n",
       "      <td>1698</td>\n",
       "      <td>تهران</td>\n",
       "      <td>9</td>\n",
       "      <td>تهران</td>\n",
       "      <td>184000</td>\n",
       "      <td>8 days 17:37:36</td>\n",
       "    </tr>\n",
       "    <tr>\n",
       "      <th>199999</th>\n",
       "      <td>258838041</td>\n",
       "      <td>OVCXfcaxQtqLzmy1U8A7eg==</td>\n",
       "      <td>1033353</td>\n",
       "      <td>568751</td>\n",
       "      <td>1</td>\n",
       "      <td>170000</td>\n",
       "      <td>2018-08-12 06:19:19</td>\n",
       "      <td>1442</td>\n",
       "      <td>بوکان</td>\n",
       "      <td>3</td>\n",
       "      <td>آذربایجان غربی</td>\n",
       "      <td>170000</td>\n",
       "      <td>8 days 17:39:43</td>\n",
       "    </tr>\n",
       "  </tbody>\n",
       "</table>\n",
       "</div>"
      ],
      "text/plain": [
       "         order_id                   user_id  variant_id  product_id  quantity  \\\n",
       "199995  258838077  chbca7XuHDG/7OJPls3fNA==      494706      340247         1   \n",
       "199996  258838077  chbca7XuHDG/7OJPls3fNA==      823091      389988         1   \n",
       "199997  258838077  chbca7XuHDG/7OJPls3fNA==      483089      334477         1   \n",
       "199998  258838077  chbca7XuHDG/7OJPls3fNA==     1129695      640539         1   \n",
       "199999  258838041  OVCXfcaxQtqLzmy1U8A7eg==     1033353      568751         1   \n",
       "\n",
       "          price                date  city_id city_name  state_id  \\\n",
       "199995    40000 2018-08-12 06:21:26     1698     تهران         9   \n",
       "199996   325000 2018-08-12 06:21:26     1698     تهران         9   \n",
       "199997  1750000 2018-08-12 06:21:26     1698     تهران         9   \n",
       "199998   184000 2018-08-12 06:21:26     1698     تهران         9   \n",
       "199999   170000 2018-08-12 06:19:19     1442     بوکان         3   \n",
       "\n",
       "            state_name   Amount            Diff  \n",
       "199995           تهران    40000 8 days 17:37:36  \n",
       "199996           تهران   325000 8 days 17:37:36  \n",
       "199997           تهران  1750000 8 days 17:37:36  \n",
       "199998           تهران   184000 8 days 17:37:36  \n",
       "199999  آذربایجان غربی   170000 8 days 17:39:43  "
      ]
     },
     "execution_count": 17,
     "metadata": {},
     "output_type": "execute_result"
    }
   ],
   "source": [
    "# Compute the difference between max date and transaction date\n",
    "\n",
    "retail['Diff'] = max_date - retail['date']\n",
    "retail.tail()"
   ]
  },
  {
   "cell_type": "code",
   "execution_count": 18,
   "metadata": {},
   "outputs": [
    {
     "data": {
      "text/html": [
       "<div>\n",
       "<style scoped>\n",
       "    .dataframe tbody tr th:only-of-type {\n",
       "        vertical-align: middle;\n",
       "    }\n",
       "\n",
       "    .dataframe tbody tr th {\n",
       "        vertical-align: top;\n",
       "    }\n",
       "\n",
       "    .dataframe thead th {\n",
       "        text-align: right;\n",
       "    }\n",
       "</style>\n",
       "<table border=\"1\" class=\"dataframe\">\n",
       "  <thead>\n",
       "    <tr style=\"text-align: right;\">\n",
       "      <th></th>\n",
       "      <th>user_id</th>\n",
       "      <th>Diff</th>\n",
       "    </tr>\n",
       "  </thead>\n",
       "  <tbody>\n",
       "    <tr>\n",
       "      <th>0</th>\n",
       "      <td>++2u4Q40bTeC0ZZDau1MIQ==</td>\n",
       "      <td>0 days 13:01:16</td>\n",
       "    </tr>\n",
       "    <tr>\n",
       "      <th>1</th>\n",
       "      <td>++HwHhPvBHtXEIN36fDT5w==</td>\n",
       "      <td>1 days 23:45:53</td>\n",
       "    </tr>\n",
       "    <tr>\n",
       "      <th>2</th>\n",
       "      <td>++IfjhhQ33j7i4NHdBUJkQ==</td>\n",
       "      <td>7 days 03:09:40</td>\n",
       "    </tr>\n",
       "    <tr>\n",
       "      <th>3</th>\n",
       "      <td>++KPSp+1ZC6KXlYAS8VcKg==</td>\n",
       "      <td>6 days 21:06:59</td>\n",
       "    </tr>\n",
       "    <tr>\n",
       "      <th>4</th>\n",
       "      <td>++XCbp2ChGJyYhM/fYWudg==</td>\n",
       "      <td>8 days 15:56:39</td>\n",
       "    </tr>\n",
       "  </tbody>\n",
       "</table>\n",
       "</div>"
      ],
      "text/plain": [
       "                    user_id            Diff\n",
       "0  ++2u4Q40bTeC0ZZDau1MIQ== 0 days 13:01:16\n",
       "1  ++HwHhPvBHtXEIN36fDT5w== 1 days 23:45:53\n",
       "2  ++IfjhhQ33j7i4NHdBUJkQ== 7 days 03:09:40\n",
       "3  ++KPSp+1ZC6KXlYAS8VcKg== 6 days 21:06:59\n",
       "4  ++XCbp2ChGJyYhM/fYWudg== 8 days 15:56:39"
      ]
     },
     "execution_count": 18,
     "metadata": {},
     "output_type": "execute_result"
    }
   ],
   "source": [
    "# Compute last transaction date to get the recency of customers\n",
    "rfm_p = retail.groupby('user_id')['Diff'].min()\n",
    "rfm_p = rfm_p.reset_index()\n",
    "rfm_p.head()"
   ]
  },
  {
   "cell_type": "code",
   "execution_count": 19,
   "metadata": {},
   "outputs": [
    {
     "data": {
      "text/html": [
       "<div>\n",
       "<style scoped>\n",
       "    .dataframe tbody tr th:only-of-type {\n",
       "        vertical-align: middle;\n",
       "    }\n",
       "\n",
       "    .dataframe tbody tr th {\n",
       "        vertical-align: top;\n",
       "    }\n",
       "\n",
       "    .dataframe thead th {\n",
       "        text-align: right;\n",
       "    }\n",
       "</style>\n",
       "<table border=\"1\" class=\"dataframe\">\n",
       "  <thead>\n",
       "    <tr style=\"text-align: right;\">\n",
       "      <th></th>\n",
       "      <th>user_id</th>\n",
       "      <th>Diff</th>\n",
       "    </tr>\n",
       "  </thead>\n",
       "  <tbody>\n",
       "    <tr>\n",
       "      <th>0</th>\n",
       "      <td>++2u4Q40bTeC0ZZDau1MIQ==</td>\n",
       "      <td>0</td>\n",
       "    </tr>\n",
       "    <tr>\n",
       "      <th>1</th>\n",
       "      <td>++HwHhPvBHtXEIN36fDT5w==</td>\n",
       "      <td>1</td>\n",
       "    </tr>\n",
       "    <tr>\n",
       "      <th>2</th>\n",
       "      <td>++IfjhhQ33j7i4NHdBUJkQ==</td>\n",
       "      <td>7</td>\n",
       "    </tr>\n",
       "    <tr>\n",
       "      <th>3</th>\n",
       "      <td>++KPSp+1ZC6KXlYAS8VcKg==</td>\n",
       "      <td>6</td>\n",
       "    </tr>\n",
       "    <tr>\n",
       "      <th>4</th>\n",
       "      <td>++XCbp2ChGJyYhM/fYWudg==</td>\n",
       "      <td>8</td>\n",
       "    </tr>\n",
       "  </tbody>\n",
       "</table>\n",
       "</div>"
      ],
      "text/plain": [
       "                    user_id  Diff\n",
       "0  ++2u4Q40bTeC0ZZDau1MIQ==     0\n",
       "1  ++HwHhPvBHtXEIN36fDT5w==     1\n",
       "2  ++IfjhhQ33j7i4NHdBUJkQ==     7\n",
       "3  ++KPSp+1ZC6KXlYAS8VcKg==     6\n",
       "4  ++XCbp2ChGJyYhM/fYWudg==     8"
      ]
     },
     "execution_count": 19,
     "metadata": {},
     "output_type": "execute_result"
    }
   ],
   "source": [
    "# Extract number of days only\n",
    "\n",
    "rfm_p['Diff'] = rfm_p['Diff'].dt.days\n",
    "rfm_p.head()"
   ]
  },
  {
   "cell_type": "code",
   "execution_count": 20,
   "metadata": {},
   "outputs": [
    {
     "data": {
      "text/html": [
       "<div>\n",
       "<style scoped>\n",
       "    .dataframe tbody tr th:only-of-type {\n",
       "        vertical-align: middle;\n",
       "    }\n",
       "\n",
       "    .dataframe tbody tr th {\n",
       "        vertical-align: top;\n",
       "    }\n",
       "\n",
       "    .dataframe thead th {\n",
       "        text-align: right;\n",
       "    }\n",
       "</style>\n",
       "<table border=\"1\" class=\"dataframe\">\n",
       "  <thead>\n",
       "    <tr style=\"text-align: right;\">\n",
       "      <th></th>\n",
       "      <th>user_id</th>\n",
       "      <th>Amount</th>\n",
       "      <th>Frequency</th>\n",
       "      <th>Recency</th>\n",
       "    </tr>\n",
       "  </thead>\n",
       "  <tbody>\n",
       "    <tr>\n",
       "      <th>0</th>\n",
       "      <td>++2u4Q40bTeC0ZZDau1MIQ==</td>\n",
       "      <td>1082000</td>\n",
       "      <td>3</td>\n",
       "      <td>0</td>\n",
       "    </tr>\n",
       "    <tr>\n",
       "      <th>1</th>\n",
       "      <td>++HwHhPvBHtXEIN36fDT5w==</td>\n",
       "      <td>1414000</td>\n",
       "      <td>6</td>\n",
       "      <td>1</td>\n",
       "    </tr>\n",
       "    <tr>\n",
       "      <th>2</th>\n",
       "      <td>++IfjhhQ33j7i4NHdBUJkQ==</td>\n",
       "      <td>990000</td>\n",
       "      <td>1</td>\n",
       "      <td>7</td>\n",
       "    </tr>\n",
       "    <tr>\n",
       "      <th>3</th>\n",
       "      <td>++KPSp+1ZC6KXlYAS8VcKg==</td>\n",
       "      <td>1690500</td>\n",
       "      <td>15</td>\n",
       "      <td>6</td>\n",
       "    </tr>\n",
       "    <tr>\n",
       "      <th>4</th>\n",
       "      <td>++XCbp2ChGJyYhM/fYWudg==</td>\n",
       "      <td>1150000</td>\n",
       "      <td>1</td>\n",
       "      <td>8</td>\n",
       "    </tr>\n",
       "  </tbody>\n",
       "</table>\n",
       "</div>"
      ],
      "text/plain": [
       "                    user_id   Amount  Frequency  Recency\n",
       "0  ++2u4Q40bTeC0ZZDau1MIQ==  1082000          3        0\n",
       "1  ++HwHhPvBHtXEIN36fDT5w==  1414000          6        1\n",
       "2  ++IfjhhQ33j7i4NHdBUJkQ==   990000          1        7\n",
       "3  ++KPSp+1ZC6KXlYAS8VcKg==  1690500         15        6\n",
       "4  ++XCbp2ChGJyYhM/fYWudg==  1150000          1        8"
      ]
     },
     "execution_count": 20,
     "metadata": {},
     "output_type": "execute_result"
    }
   ],
   "source": [
    "# Merge tha dataframes to get the final RFM dataframe\n",
    "\n",
    "rfm = pd.merge(rfm, rfm_p, on='user_id', how='inner')\n",
    "rfm.columns = ['user_id', 'Amount', 'Frequency', 'Recency']\n",
    "rfm.head()"
   ]
  },
  {
   "cell_type": "code",
   "execution_count": 36,
   "metadata": {},
   "outputs": [
    {
     "data": {
      "text/plain": [
       "(54633, 4)"
      ]
     },
     "execution_count": 36,
     "metadata": {},
     "output_type": "execute_result"
    }
   ],
   "source": [
    "rfm.shape"
   ]
  },
  {
   "cell_type": "code",
   "execution_count": 22,
   "metadata": {},
   "outputs": [
    {
     "data": {
      "text/plain": [
       "Text(0.5, 0, 'Attributes')"
      ]
     },
     "execution_count": 22,
     "metadata": {},
     "output_type": "execute_result"
    },
    {
     "data": {
      "image/png": "[encoded data removed]",
      "text/plain": [
       "<Figure size 720x576 with 1 Axes>"
      ]
     },
     "metadata": {
      "needs_background": "light"
     },
     "output_type": "display_data"
    }
   ],
   "source": [
    "# Outlier Analysis of Amount Frequency and Recency\n",
    "\n",
    "attributes = ['Amount','Frequency','Recency']\n",
    "plt.rcParams['figure.figsize'] = [10,8]\n",
    "sns.boxplot(data = rfm[attributes], orient=\"v\", palette=\"Set2\" ,whis=1.5,saturation=1, width=0.7)\n",
    "plt.title(\"Outliers Variable Distribution\", fontsize = 14, fontweight = 'bold')\n",
    "plt.ylabel(\"Range\", fontweight = 'bold')\n",
    "plt.xlabel(\"Attributes\", fontweight = 'bold')"
   ]
  },
  {
   "cell_type": "code",
   "execution_count": null,
   "metadata": {},
   "outputs": [],
   "source": [
    "# Removing (statistical) outliers for Amount\n",
    "Q1 = rfm.Amount.quantile(0.05)\n",
    "Q3 = rfm.Amount.quantile(0.95)\n",
    "IQR = Q3 - Q1\n",
    "rfm = rfm[(rfm.Amount >= Q1 - 1.5*IQR) & (rfm.Amount <= Q3 + 1.5*IQR)]"
   ]
  },
  {
   "cell_type": "code",
   "execution_count": 32,
   "metadata": {},
   "outputs": [],
   "source": [
    "# Removing (statistical) outliers for Recency\n",
    "Q1 = rfm.Recency.quantile(0.05)\n",
    "Q3 = rfm.Recency.quantile(0.95)\n",
    "IQR = Q3 - Q1\n",
    "rfm = rfm[(rfm.Recency >= Q1 - 1.5*IQR) & (rfm.Recency <= Q3 + 1.5*IQR)]"
   ]
  },
  {
   "cell_type": "code",
   "execution_count": 33,
   "metadata": {},
   "outputs": [],
   "source": [
    "# Removing (statistical) outliers for Frequency\n",
    "Q1 = rfm.Frequency.quantile(0.05)\n",
    "Q3 = rfm.Frequency.quantile(0.95)\n",
    "IQR = Q3 - Q1\n",
    "rfm = rfm[(rfm.Frequency >= Q1 - 1.5*IQR) & (rfm.Frequency <= Q3 + 1.5*IQR)]"
   ]
  },
  {
   "cell_type": "markdown",
   "metadata": {},
   "source": [
    "## Rescaling the Attributes"
   ]
  },
  {
   "cell_type": "markdown",
   "metadata": {},
   "source": [
    "It is extremely important to rescale the variables so that they have a comparable scale.| There are two common ways of rescaling:\n",
    "\n",
    "- Min-Max scaling\n",
    "- Standardisation (mean-0, sigma-1)\n",
    "\n",
    "Here, we will use Standardisation Scaling."
   ]
  },
  {
   "cell_type": "code",
   "execution_count": 34,
   "metadata": {},
   "outputs": [
    {
     "data": {
      "text/plain": [
       "(54633, 3)"
      ]
     },
     "execution_count": 34,
     "metadata": {},
     "output_type": "execute_result"
    }
   ],
   "source": [
    "# Rescaling the attributes\n",
    "\n",
    "rfm_df = rfm[['Amount', 'Frequency', 'Recency']]\n",
    "\n",
    "# Instantiate\n",
    "scaler = StandardScaler()\n",
    "\n",
    "# fit_transform\n",
    "rfm_df_scaled = scaler.fit_transform(rfm_df)\n",
    "rfm_df_scaled.shape"
   ]
  },
  {
   "cell_type": "code",
   "execution_count": 37,
   "metadata": {},
   "outputs": [
    {
     "data": {
      "text/html": [
       "<div>\n",
       "<style scoped>\n",
       "    .dataframe tbody tr th:only-of-type {\n",
       "        vertical-align: middle;\n",
       "    }\n",
       "\n",
       "    .dataframe tbody tr th {\n",
       "        vertical-align: top;\n",
       "    }\n",
       "\n",
       "    .dataframe thead th {\n",
       "        text-align: right;\n",
       "    }\n",
       "</style>\n",
       "<table border=\"1\" class=\"dataframe\">\n",
       "  <thead>\n",
       "    <tr style=\"text-align: right;\">\n",
       "      <th></th>\n",
       "      <th>Amount</th>\n",
       "      <th>Frequency</th>\n",
       "      <th>Recency</th>\n",
       "    </tr>\n",
       "  </thead>\n",
       "  <tbody>\n",
       "    <tr>\n",
       "      <th>0</th>\n",
       "      <td>-0.481973</td>\n",
       "      <td>-0.085434</td>\n",
       "      <td>-1.380492</td>\n",
       "    </tr>\n",
       "    <tr>\n",
       "      <th>1</th>\n",
       "      <td>-0.398331</td>\n",
       "      <td>0.838648</td>\n",
       "      <td>-1.001254</td>\n",
       "    </tr>\n",
       "    <tr>\n",
       "      <th>2</th>\n",
       "      <td>-0.505151</td>\n",
       "      <td>-0.701489</td>\n",
       "      <td>1.274168</td>\n",
       "    </tr>\n",
       "    <tr>\n",
       "      <th>3</th>\n",
       "      <td>-0.328671</td>\n",
       "      <td>3.610895</td>\n",
       "      <td>0.894931</td>\n",
       "    </tr>\n",
       "    <tr>\n",
       "      <th>4</th>\n",
       "      <td>-0.464841</td>\n",
       "      <td>-0.701489</td>\n",
       "      <td>1.653405</td>\n",
       "    </tr>\n",
       "  </tbody>\n",
       "</table>\n",
       "</div>"
      ],
      "text/plain": [
       "     Amount  Frequency   Recency\n",
       "0 -0.481973  -0.085434 -1.380492\n",
       "1 -0.398331   0.838648 -1.001254\n",
       "2 -0.505151  -0.701489  1.274168\n",
       "3 -0.328671   3.610895  0.894931\n",
       "4 -0.464841  -0.701489  1.653405"
      ]
     },
     "execution_count": 37,
     "metadata": {},
     "output_type": "execute_result"
    }
   ],
   "source": [
    "rfm_df_scaled = pd.DataFrame(rfm_df_scaled)\n",
    "rfm_df_scaled.columns = ['Amount', 'Frequency', 'Recency']\n",
    "rfm_df_scaled.head()"
   ]
  },
  {
   "cell_type": "markdown",
   "metadata": {},
   "source": [
    "## Step 3 : Building the Model"
   ]
  },
  {
   "cell_type": "markdown",
   "metadata": {},
   "source": [
    "### K-Means Clustering\n",
    "K-means clustering is one of the simplest and popular unsupervised machine learning algorithms.\n",
    "\n",
    "The algorithm works as follows:\n",
    "\n",
    "- First we initialize k points, called means, randomly.\n",
    "- We categorize each item to its closest mean and we update the mean’s coordinates, which are the averages of the items categorized in that mean so far.\n",
    "- We repeat the process for a given number of iterations and at the end, we have our clusters."
   ]
  },
  {
   "cell_type": "code",
   "execution_count": 38,
   "metadata": {},
   "outputs": [
    {
     "data": {
      "text/plain": [
       "KMeans(max_iter=50, n_clusters=4)"
      ]
     },
     "execution_count": 38,
     "metadata": {},
     "output_type": "execute_result"
    }
   ],
   "source": [
    "# k-means with some arbitrary k\n",
    "\n",
    "kmeans = KMeans(n_clusters=4, max_iter=50)\n",
    "kmeans.fit(rfm_df_scaled)"
   ]
  },
  {
   "cell_type": "code",
   "execution_count": 39,
   "metadata": {},
   "outputs": [
    {
     "data": {
      "text/plain": [
       "array([3, 3, 2, ..., 3, 2, 0])"
      ]
     },
     "execution_count": 39,
     "metadata": {},
     "output_type": "execute_result"
    }
   ],
   "source": [
    "kmeans.labels_"
   ]
  },
  {
   "cell_type": "markdown",
   "metadata": {},
   "source": [
    "### Finding the Optimal Number of Clusters"
   ]
  },
  {
   "cell_type": "markdown",
   "metadata": {},
   "source": [
    "**Elbow Curve to get the right number of Clusters** \n",
    "\n",
    "A fundamental step for any unsupervised algorithm is to determine the optimal number of clusters into which the data may be clustered. The Elbow Method is one of the most popular methods to determine this optimal value of k."
   ]
  },
  {
   "cell_type": "code",
   "execution_count": 42,
   "metadata": {},
   "outputs": [
    {
     "data": {
      "text/plain": [
       "[<matplotlib.lines.Line2D at 0x1b934a34cd0>]"
      ]
     },
     "execution_count": 42,
     "metadata": {},
     "output_type": "execute_result"
    },
    {
     "data": {
      "image/png": "[encoded data removed]",
      "text/plain": [
       "<Figure size 720x576 with 1 Axes>"
      ]
     },
     "metadata": {
      "needs_background": "light"
     },
     "output_type": "display_data"
    }
   ],
   "source": [
    "# Elbow-curve/SSD\n",
    "\n",
    "ssd = []\n",
    "range_n_clusters = [2, 3, 4, 5, 6, 7, 8, 10, 12 , 14, 16, 18, 20]\n",
    "for num_clusters in range_n_clusters:\n",
    "    kmeans = KMeans(n_clusters=num_clusters, max_iter=50)\n",
    "    kmeans.fit(rfm_df_scaled)\n",
    "    \n",
    "    ssd.append(kmeans.inertia_)\n",
    "    \n",
    "# plot the SSDs for each n_clusters\n",
    "plt.plot(ssd)"
   ]
  },
  {
   "cell_type": "markdown",
   "metadata": {},
   "source": [
    "### Silhouette Analysis\n",
    "\n",
    "**Silhouette score = (p-q)/max(p,q)**\n",
    "\n",
    " **P** is the mean distance to the points in the nearest cluster that the data point is not a part of\n",
    "\n",
    " **q** is the mean intra-cluster distance to all the points in its own cluster.\n",
    "\n",
    "- The value of the silhouette score range lies between -1 to 1.\n",
    "\n",
    "- A score closer to 1 indicates that the data point is very similar to other data points in the cluster,\n",
    "\n",
    "- A score closer to -1 indicates that the data point is not similar to the data points in its cluster.\n",
    "\n"
   ]
  },
  {
   "cell_type": "code",
   "execution_count": 43,
   "metadata": {},
   "outputs": [
    {
     "name": "stdout",
     "output_type": "stream",
     "text": [
      "For n_clusters=2, the silhouette score is 0.47037625141743605\n",
      "For n_clusters=3, the silhouette score is 0.40077218796455355\n",
      "For n_clusters=4, the silhouette score is 0.4333970006421875\n",
      "For n_clusters=5, the silhouette score is 0.42154203065874746\n",
      "For n_clusters=6, the silhouette score is 0.4228688835612002\n",
      "For n_clusters=7, the silhouette score is 0.3982951425868472\n",
      "For n_clusters=8, the silhouette score is 0.3493980318609136\n",
      "For n_clusters=10, the silhouette score is 0.35367754940792\n",
      "For n_clusters=12, the silhouette score is 0.31441343602423694\n",
      "For n_clusters=14, the silhouette score is 0.32380544147857404\n",
      "For n_clusters=16, the silhouette score is 0.32882602721513843\n",
      "For n_clusters=18, the silhouette score is 0.3313403082474523\n",
      "For n_clusters=20, the silhouette score is 0.30943247715683464\n"
     ]
    }
   ],
   "source": [
    "# Silhouette analysis\n",
    "range_n_clusters = [2, 3, 4, 5, 6, 7, 8, 10, 12 , 14, 16, 18, 20]\n",
    "\n",
    "for num_clusters in range_n_clusters:\n",
    "    \n",
    "    # intialise kmeans\n",
    "    kmeans = KMeans(n_clusters=num_clusters, max_iter=50)\n",
    "    kmeans.fit(rfm_df_scaled)\n",
    "    \n",
    "    cluster_labels = kmeans.labels_\n",
    "    \n",
    "    # silhouette score\n",
    "    silhouette_avg = silhouette_score(rfm_df_scaled, cluster_labels)\n",
    "    print(\"For n_clusters={0}, the silhouette score is {1}\".format(num_clusters, silhouette_avg))"
   ]
  },
  {
   "cell_type": "code",
   "execution_count": 45,
   "metadata": {},
   "outputs": [
    {
     "data": {
      "text/plain": [
       "KMeans(max_iter=50, n_clusters=4)"
      ]
     },
     "execution_count": 45,
     "metadata": {},
     "output_type": "execute_result"
    }
   ],
   "source": [
    "# Final model with k=4\n",
    "kmeans = KMeans(n_clusters=4, max_iter=50)\n",
    "kmeans.fit(rfm_df_scaled)"
   ]
  },
  {
   "cell_type": "code",
   "execution_count": 46,
   "metadata": {},
   "outputs": [
    {
     "data": {
      "text/plain": [
       "array([2, 2, 1, ..., 2, 1, 0])"
      ]
     },
     "execution_count": 46,
     "metadata": {},
     "output_type": "execute_result"
    }
   ],
   "source": [
    " kmeans.labels_"
   ]
  },
  {
   "cell_type": "code",
   "execution_count": 48,
   "metadata": {},
   "outputs": [
    {
     "data": {
      "text/html": [
       "<div>\n",
       "<style scoped>\n",
       "    .dataframe tbody tr th:only-of-type {\n",
       "        vertical-align: middle;\n",
       "    }\n",
       "\n",
       "    .dataframe tbody tr th {\n",
       "        vertical-align: top;\n",
       "    }\n",
       "\n",
       "    .dataframe thead th {\n",
       "        text-align: right;\n",
       "    }\n",
       "</style>\n",
       "<table border=\"1\" class=\"dataframe\">\n",
       "  <thead>\n",
       "    <tr style=\"text-align: right;\">\n",
       "      <th></th>\n",
       "      <th>user_id</th>\n",
       "      <th>Amount</th>\n",
       "      <th>Frequency</th>\n",
       "      <th>Recency</th>\n",
       "      <th>Cluster_Id</th>\n",
       "    </tr>\n",
       "  </thead>\n",
       "  <tbody>\n",
       "    <tr>\n",
       "      <th>0</th>\n",
       "      <td>++2u4Q40bTeC0ZZDau1MIQ==</td>\n",
       "      <td>1082000</td>\n",
       "      <td>3</td>\n",
       "      <td>0</td>\n",
       "      <td>2</td>\n",
       "    </tr>\n",
       "    <tr>\n",
       "      <th>1</th>\n",
       "      <td>++HwHhPvBHtXEIN36fDT5w==</td>\n",
       "      <td>1414000</td>\n",
       "      <td>6</td>\n",
       "      <td>1</td>\n",
       "      <td>2</td>\n",
       "    </tr>\n",
       "    <tr>\n",
       "      <th>2</th>\n",
       "      <td>++IfjhhQ33j7i4NHdBUJkQ==</td>\n",
       "      <td>990000</td>\n",
       "      <td>1</td>\n",
       "      <td>7</td>\n",
       "      <td>1</td>\n",
       "    </tr>\n",
       "    <tr>\n",
       "      <th>3</th>\n",
       "      <td>++KPSp+1ZC6KXlYAS8VcKg==</td>\n",
       "      <td>1690500</td>\n",
       "      <td>15</td>\n",
       "      <td>6</td>\n",
       "      <td>0</td>\n",
       "    </tr>\n",
       "    <tr>\n",
       "      <th>4</th>\n",
       "      <td>++XCbp2ChGJyYhM/fYWudg==</td>\n",
       "      <td>1150000</td>\n",
       "      <td>1</td>\n",
       "      <td>8</td>\n",
       "      <td>1</td>\n",
       "    </tr>\n",
       "  </tbody>\n",
       "</table>\n",
       "</div>"
      ],
      "text/plain": [
       "                    user_id   Amount  Frequency  Recency  Cluster_Id\n",
       "0  ++2u4Q40bTeC0ZZDau1MIQ==  1082000          3        0           2\n",
       "1  ++HwHhPvBHtXEIN36fDT5w==  1414000          6        1           2\n",
       "2  ++IfjhhQ33j7i4NHdBUJkQ==   990000          1        7           1\n",
       "3  ++KPSp+1ZC6KXlYAS8VcKg==  1690500         15        6           0\n",
       "4  ++XCbp2ChGJyYhM/fYWudg==  1150000          1        8           1"
      ]
     },
     "execution_count": 48,
     "metadata": {},
     "output_type": "execute_result"
    }
   ],
   "source": [
    "# assign the label\n",
    "rfm['Cluster_Id'] = kmeans.labels_\n",
    "rfm.head()"
   ]
  },
  {
   "cell_type": "code",
   "execution_count": 49,
   "metadata": {},
   "outputs": [
    {
     "data": {
      "text/plain": [
       "<AxesSubplot:xlabel='Cluster_Id', ylabel='Amount'>"
      ]
     },
     "execution_count": 49,
     "metadata": {},
     "output_type": "execute_result"
    },
    {
     "data": {
      "image/png": "[encoded data removed]",
      "text/plain": [
       "<Figure size 720x576 with 1 Axes>"
      ]
     },
     "metadata": {
      "needs_background": "light"
     },
     "output_type": "display_data"
    }
   ],
   "source": [
    "# Box plot to visualize Cluster Id vs Frequency\n",
    "\n",
    "sns.boxplot(x='Cluster_Id', y='Amount', data=rfm)"
   ]
  },
  {
   "cell_type": "code",
   "execution_count": 50,
   "metadata": {},
   "outputs": [
    {
     "data": {
      "text/plain": [
       "<AxesSubplot:xlabel='Cluster_Id', ylabel='Frequency'>"
      ]
     },
     "execution_count": 50,
     "metadata": {},
     "output_type": "execute_result"
    },
    {
     "data": {
      "image/png": "[encoded data removed]",
      "text/plain": [
       "<Figure size 720x576 with 1 Axes>"
      ]
     },
     "metadata": {
      "needs_background": "light"
     },
     "output_type": "display_data"
    }
   ],
   "source": [
    "# Box plot to visualize Cluster Id vs Frequency\n",
    "\n",
    "sns.boxplot(x='Cluster_Id', y='Frequency', data=rfm)"
   ]
  },
  {
   "cell_type": "code",
   "execution_count": 51,
   "metadata": {},
   "outputs": [
    {
     "data": {
      "text/plain": [
       "<AxesSubplot:xlabel='Cluster_Id', ylabel='Recency'>"
      ]
     },
     "execution_count": 51,
     "metadata": {},
     "output_type": "execute_result"
    },
    {
     "data": {
      "image/png": "[encoded data removed]",
      "text/plain": [
       "<Figure size 720x576 with 1 Axes>"
      ]
     },
     "metadata": {
      "needs_background": "light"
     },
     "output_type": "display_data"
    }
   ],
   "source": [
    "# Box plot to visualize Cluster Id vs Recency\n",
    "\n",
    "sns.boxplot(x='Cluster_Id', y='Recency', data=rfm)"
   ]
  },
  {
   "cell_type": "markdown",
   "metadata": {},
   "source": [
    "## Step 5 : Final Analysis\n",
    "\n",
    "**Inference:**\n",
    "K-Means Clustering with 4 Cluster Ids\n",
    "\n",
    "- Customers with Cluster Id 3 are the customers with high amount of transactions -as compared to other customers.\n",
    "- Customers with Cluster Id 0 are frequent buyers.\n",
    "- Customers with Cluster Id 2 are not recent buyers and hence least of importance from business point of view.\n"
   ]
  },
  {
   "cell_type": "code",
   "execution_count": null,
   "metadata": {},
   "outputs": [],
   "source": []
  }
 ],
 "metadata": {
  "kernelspec": {
   "display_name": "Python 3 (ipykernel)",
   "language": "python",
   "name": "python3"
  },
  "language_info": {
   "codemirror_mode": {
    "name": "ipython",
    "version": 3
   },
   "file_extension": ".py",
   "mimetype": "text/x-python",
   "name": "python",
   "nbconvert_exporter": "python",
   "pygments_lexer": "ipython3",
   "version": "3.9.12"
  }
 },
 "nbformat": 4,
 "nbformat_minor": 4
}
