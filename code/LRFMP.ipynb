{
 "cells": [
  {
   "cell_type": "markdown",
   "metadata": {},
   "source": [
    "## step1: load packages"
   ]
  },
  {
   "cell_type": "code",
   "execution_count": 1,
   "metadata": {},
   "outputs": [],
   "source": [
    "import pandas as pd\n",
    "import numpy as np\n",
    "import matplotlib.pyplot as plt\n",
    "import seaborn as sns\n",
    "import datetime as dt\n",
    "from matplotlib import colors\n",
    "import seaborn as sns\n",
    "import statistics\n",
    "\n",
    "# import required libraries for clustering\n",
    "import sklearn\n",
    "from sklearn.preprocessing import StandardScaler\n",
    "from sklearn.cluster import KMeans\n",
    "from sklearn.metrics import silhouette_score\n",
    "from scipy.cluster.hierarchy import linkage\n",
    "from scipy.cluster.hierarchy import dendrogram\n",
    "from scipy.cluster.hierarchy import cut_tree"
   ]
  },
  {
   "cell_type": "markdown",
   "metadata": {},
   "source": [
    "## step2: load clean dataset"
   ]
  },
  {
   "cell_type": "code",
   "execution_count": 2,
   "metadata": {},
   "outputs": [],
   "source": [
    "users = pd.read_pickle(\"users_date_df.pkl\")\n",
    "retail = pd.read_pickle(\"digikala_retail_cleaned.pkl\")\n"
   ]
  },
  {
   "cell_type": "code",
   "execution_count": 3,
   "metadata": {},
   "outputs": [
    {
     "name": "stdout",
     "output_type": "stream",
     "text": [
      "users dataset :  (56104, 10), retail dataset : (199930, 11)\n"
     ]
    }
   ],
   "source": [
    "print(f'users dataset :  {users.shape}, retail dataset : {retail.shape}')"
   ]
  },
  {
   "cell_type": "markdown",
   "metadata": {},
   "source": [
    "## Step3: Data Preparation\n",
    "We are going to analysis the Customers based on below 5 factors:\n",
    "- R (Recency): Number of days since last purchase\n",
    "- F (Frequency): Number of tracsactions\n",
    "- M (Monetary): Total amount of transactions (revenue contributed)\n",
    "- L (Length): This feature is the time interval, in days, between the customer’s first and last visits\n",
    "- P (Periodicity): This new feature reflects whether customers visit the stores regularly."
   ]
  },
  {
   "cell_type": "code",
   "execution_count": 4,
   "metadata": {},
   "outputs": [
    {
     "data": {
      "text/html": [
       "<div>\n",
       "<style scoped>\n",
       "    .dataframe tbody tr th:only-of-type {\n",
       "        vertical-align: middle;\n",
       "    }\n",
       "\n",
       "    .dataframe tbody tr th {\n",
       "        vertical-align: top;\n",
       "    }\n",
       "\n",
       "    .dataframe thead th {\n",
       "        text-align: right;\n",
       "    }\n",
       "</style>\n",
       "<table border=\"1\" class=\"dataframe\">\n",
       "  <thead>\n",
       "    <tr style=\"text-align: right;\">\n",
       "      <th></th>\n",
       "      <th>user_id</th>\n",
       "      <th>Monetary</th>\n",
       "    </tr>\n",
       "  </thead>\n",
       "  <tbody>\n",
       "    <tr>\n",
       "      <th>0</th>\n",
       "      <td>++2u4Q40bTeC0ZZDau1MIQ==</td>\n",
       "      <td>1082000</td>\n",
       "    </tr>\n",
       "    <tr>\n",
       "      <th>1</th>\n",
       "      <td>++HwHhPvBHtXEIN36fDT5w==</td>\n",
       "      <td>1414000</td>\n",
       "    </tr>\n",
       "    <tr>\n",
       "      <th>2</th>\n",
       "      <td>++IfjhhQ33j7i4NHdBUJkQ==</td>\n",
       "      <td>990000</td>\n",
       "    </tr>\n",
       "    <tr>\n",
       "      <th>3</th>\n",
       "      <td>++KPSp+1ZC6KXlYAS8VcKg==</td>\n",
       "      <td>1690500</td>\n",
       "    </tr>\n",
       "    <tr>\n",
       "      <th>4</th>\n",
       "      <td>++XCbp2ChGJyYhM/fYWudg==</td>\n",
       "      <td>1150000</td>\n",
       "    </tr>\n",
       "  </tbody>\n",
       "</table>\n",
       "</div>"
      ],
      "text/plain": [
       "                    user_id  Monetary\n",
       "0  ++2u4Q40bTeC0ZZDau1MIQ==   1082000\n",
       "1  ++HwHhPvBHtXEIN36fDT5w==   1414000\n",
       "2  ++IfjhhQ33j7i4NHdBUJkQ==    990000\n",
       "3  ++KPSp+1ZC6KXlYAS8VcKg==   1690500\n",
       "4  ++XCbp2ChGJyYhM/fYWudg==   1150000"
      ]
     },
     "execution_count": 4,
     "metadata": {},
     "output_type": "execute_result"
    }
   ],
   "source": [
    "# New Attribute : Monetary\n",
    "\n",
    "retail['Monetary']= retail['quantity']*retail['price']\n",
    "rfm_m = retail.groupby('user_id')['Monetary'].sum()\n",
    "rfm_m = rfm_m.reset_index()\n",
    "rfm_m.columns = ['user_id', 'Monetary']\n",
    "rfm_m.head()"
   ]
  },
  {
   "cell_type": "code",
   "execution_count": 5,
   "metadata": {},
   "outputs": [
    {
     "data": {
      "text/html": [
       "<div>\n",
       "<style scoped>\n",
       "    .dataframe tbody tr th:only-of-type {\n",
       "        vertical-align: middle;\n",
       "    }\n",
       "\n",
       "    .dataframe tbody tr th {\n",
       "        vertical-align: top;\n",
       "    }\n",
       "\n",
       "    .dataframe thead th {\n",
       "        text-align: right;\n",
       "    }\n",
       "</style>\n",
       "<table border=\"1\" class=\"dataframe\">\n",
       "  <thead>\n",
       "    <tr style=\"text-align: right;\">\n",
       "      <th></th>\n",
       "      <th>user_id</th>\n",
       "      <th>Frequency</th>\n",
       "    </tr>\n",
       "  </thead>\n",
       "  <tbody>\n",
       "    <tr>\n",
       "      <th>0</th>\n",
       "      <td>++2u4Q40bTeC0ZZDau1MIQ==</td>\n",
       "      <td>1</td>\n",
       "    </tr>\n",
       "    <tr>\n",
       "      <th>1</th>\n",
       "      <td>++HwHhPvBHtXEIN36fDT5w==</td>\n",
       "      <td>1</td>\n",
       "    </tr>\n",
       "    <tr>\n",
       "      <th>2</th>\n",
       "      <td>++IfjhhQ33j7i4NHdBUJkQ==</td>\n",
       "      <td>1</td>\n",
       "    </tr>\n",
       "    <tr>\n",
       "      <th>3</th>\n",
       "      <td>++KPSp+1ZC6KXlYAS8VcKg==</td>\n",
       "      <td>1</td>\n",
       "    </tr>\n",
       "    <tr>\n",
       "      <th>4</th>\n",
       "      <td>++XCbp2ChGJyYhM/fYWudg==</td>\n",
       "      <td>1</td>\n",
       "    </tr>\n",
       "  </tbody>\n",
       "</table>\n",
       "</div>"
      ],
      "text/plain": [
       "                    user_id  Frequency\n",
       "0  ++2u4Q40bTeC0ZZDau1MIQ==          1\n",
       "1  ++HwHhPvBHtXEIN36fDT5w==          1\n",
       "2  ++IfjhhQ33j7i4NHdBUJkQ==          1\n",
       "3  ++KPSp+1ZC6KXlYAS8VcKg==          1\n",
       "4  ++XCbp2ChGJyYhM/fYWudg==          1"
      ]
     },
     "execution_count": 5,
     "metadata": {},
     "output_type": "execute_result"
    }
   ],
   "source": [
    "# New Attribute : Frequency\n",
    "\n",
    "rfm_f = retail.groupby('user_id')['order_id'].nunique()\n",
    "\n",
    "rfm_f = rfm_f.reset_index()\n",
    "rfm_f.columns = ['user_id', 'Frequency']\n",
    "rfm_f.head()"
   ]
  },
  {
   "cell_type": "code",
   "execution_count": 6,
   "metadata": {},
   "outputs": [
    {
     "data": {
      "text/plain": [
       "'this df show orders for 8 days 17:39:43'"
      ]
     },
     "execution_count": 6,
     "metadata": {},
     "output_type": "execute_result"
    }
   ],
   "source": [
    "# New Attribute : Recency\n",
    "# Convert to datetime to proper datatype\n",
    "retail['date'] = pd.to_datetime(retail['date'],format='%Y-%m-%d %H:%M:%S')\n",
    "\n",
    "# Compute the maximum date to know the last transaction date\n",
    "max_date = retail['date'].max()\n",
    "\n",
    "# Compute the minimum date to know the last transaction date\n",
    "min_date = retail['date'].min()\n",
    "\n",
    "f\"this df show orders for {max_date - min_date}\"\n"
   ]
  },
  {
   "cell_type": "code",
   "execution_count": 7,
   "metadata": {},
   "outputs": [
    {
     "data": {
      "text/html": [
       "<div>\n",
       "<style scoped>\n",
       "    .dataframe tbody tr th:only-of-type {\n",
       "        vertical-align: middle;\n",
       "    }\n",
       "\n",
       "    .dataframe tbody tr th {\n",
       "        vertical-align: top;\n",
       "    }\n",
       "\n",
       "    .dataframe thead th {\n",
       "        text-align: right;\n",
       "    }\n",
       "</style>\n",
       "<table border=\"1\" class=\"dataframe\">\n",
       "  <thead>\n",
       "    <tr style=\"text-align: right;\">\n",
       "      <th></th>\n",
       "      <th>order_id</th>\n",
       "      <th>user_id</th>\n",
       "      <th>variant_id</th>\n",
       "      <th>product_id</th>\n",
       "      <th>quantity</th>\n",
       "      <th>price</th>\n",
       "      <th>date</th>\n",
       "      <th>city_id</th>\n",
       "      <th>city_name</th>\n",
       "      <th>state_id</th>\n",
       "      <th>state_name</th>\n",
       "      <th>Monetary</th>\n",
       "      <th>Diff</th>\n",
       "    </tr>\n",
       "  </thead>\n",
       "  <tbody>\n",
       "    <tr>\n",
       "      <th>199995</th>\n",
       "      <td>258838077</td>\n",
       "      <td>chbca7XuHDG/7OJPls3fNA==</td>\n",
       "      <td>494706</td>\n",
       "      <td>340247</td>\n",
       "      <td>1</td>\n",
       "      <td>40000</td>\n",
       "      <td>2018-08-12 06:21:26</td>\n",
       "      <td>1698</td>\n",
       "      <td>تهران</td>\n",
       "      <td>9</td>\n",
       "      <td>تهران</td>\n",
       "      <td>40000</td>\n",
       "      <td>8 days 17:37:36</td>\n",
       "    </tr>\n",
       "    <tr>\n",
       "      <th>199996</th>\n",
       "      <td>258838077</td>\n",
       "      <td>chbca7XuHDG/7OJPls3fNA==</td>\n",
       "      <td>823091</td>\n",
       "      <td>389988</td>\n",
       "      <td>1</td>\n",
       "      <td>325000</td>\n",
       "      <td>2018-08-12 06:21:26</td>\n",
       "      <td>1698</td>\n",
       "      <td>تهران</td>\n",
       "      <td>9</td>\n",
       "      <td>تهران</td>\n",
       "      <td>325000</td>\n",
       "      <td>8 days 17:37:36</td>\n",
       "    </tr>\n",
       "    <tr>\n",
       "      <th>199997</th>\n",
       "      <td>258838077</td>\n",
       "      <td>chbca7XuHDG/7OJPls3fNA==</td>\n",
       "      <td>483089</td>\n",
       "      <td>334477</td>\n",
       "      <td>1</td>\n",
       "      <td>1750000</td>\n",
       "      <td>2018-08-12 06:21:26</td>\n",
       "      <td>1698</td>\n",
       "      <td>تهران</td>\n",
       "      <td>9</td>\n",
       "      <td>تهران</td>\n",
       "      <td>1750000</td>\n",
       "      <td>8 days 17:37:36</td>\n",
       "    </tr>\n",
       "    <tr>\n",
       "      <th>199998</th>\n",
       "      <td>258838077</td>\n",
       "      <td>chbca7XuHDG/7OJPls3fNA==</td>\n",
       "      <td>1129695</td>\n",
       "      <td>640539</td>\n",
       "      <td>1</td>\n",
       "      <td>184000</td>\n",
       "      <td>2018-08-12 06:21:26</td>\n",
       "      <td>1698</td>\n",
       "      <td>تهران</td>\n",
       "      <td>9</td>\n",
       "      <td>تهران</td>\n",
       "      <td>184000</td>\n",
       "      <td>8 days 17:37:36</td>\n",
       "    </tr>\n",
       "    <tr>\n",
       "      <th>199999</th>\n",
       "      <td>258838041</td>\n",
       "      <td>OVCXfcaxQtqLzmy1U8A7eg==</td>\n",
       "      <td>1033353</td>\n",
       "      <td>568751</td>\n",
       "      <td>1</td>\n",
       "      <td>170000</td>\n",
       "      <td>2018-08-12 06:19:19</td>\n",
       "      <td>1442</td>\n",
       "      <td>بوکان</td>\n",
       "      <td>3</td>\n",
       "      <td>آذربایجان غربی</td>\n",
       "      <td>170000</td>\n",
       "      <td>8 days 17:39:43</td>\n",
       "    </tr>\n",
       "  </tbody>\n",
       "</table>\n",
       "</div>"
      ],
      "text/plain": [
       "         order_id                   user_id  variant_id  product_id  quantity  \\\n",
       "199995  258838077  chbca7XuHDG/7OJPls3fNA==      494706      340247         1   \n",
       "199996  258838077  chbca7XuHDG/7OJPls3fNA==      823091      389988         1   \n",
       "199997  258838077  chbca7XuHDG/7OJPls3fNA==      483089      334477         1   \n",
       "199998  258838077  chbca7XuHDG/7OJPls3fNA==     1129695      640539         1   \n",
       "199999  258838041  OVCXfcaxQtqLzmy1U8A7eg==     1033353      568751         1   \n",
       "\n",
       "          price                date  city_id city_name  state_id  \\\n",
       "199995    40000 2018-08-12 06:21:26     1698     تهران         9   \n",
       "199996   325000 2018-08-12 06:21:26     1698     تهران         9   \n",
       "199997  1750000 2018-08-12 06:21:26     1698     تهران         9   \n",
       "199998   184000 2018-08-12 06:21:26     1698     تهران         9   \n",
       "199999   170000 2018-08-12 06:19:19     1442     بوکان         3   \n",
       "\n",
       "            state_name  Monetary            Diff  \n",
       "199995           تهران     40000 8 days 17:37:36  \n",
       "199996           تهران    325000 8 days 17:37:36  \n",
       "199997           تهران   1750000 8 days 17:37:36  \n",
       "199998           تهران    184000 8 days 17:37:36  \n",
       "199999  آذربایجان غربی    170000 8 days 17:39:43  "
      ]
     },
     "execution_count": 7,
     "metadata": {},
     "output_type": "execute_result"
    }
   ],
   "source": [
    "# Compute the difference between max date and transaction date\n",
    "retail['Diff'] = max_date - retail['date']\n",
    "retail.tail()"
   ]
  },
  {
   "cell_type": "code",
   "execution_count": 8,
   "metadata": {},
   "outputs": [],
   "source": [
    "# Compute last transaction date to get the recency of customers\n",
    "rfm_r = retail.groupby('user_id')['Diff'].min()\n",
    "rfm_r = rfm_r.reset_index()\n",
    "rfm_r.columns = ['user_id', 'Recency']"
   ]
  },
  {
   "cell_type": "code",
   "execution_count": 9,
   "metadata": {},
   "outputs": [],
   "source": [
    "rfm_r['Recency'] = rfm_r['Recency'].dt.days"
   ]
  },
  {
   "cell_type": "code",
   "execution_count": 10,
   "metadata": {},
   "outputs": [
    {
     "data": {
      "text/html": [
       "<div>\n",
       "<style scoped>\n",
       "    .dataframe tbody tr th:only-of-type {\n",
       "        vertical-align: middle;\n",
       "    }\n",
       "\n",
       "    .dataframe tbody tr th {\n",
       "        vertical-align: top;\n",
       "    }\n",
       "\n",
       "    .dataframe thead th {\n",
       "        text-align: right;\n",
       "    }\n",
       "</style>\n",
       "<table border=\"1\" class=\"dataframe\">\n",
       "  <thead>\n",
       "    <tr style=\"text-align: right;\">\n",
       "      <th></th>\n",
       "      <th>user_id</th>\n",
       "      <th>Recency</th>\n",
       "    </tr>\n",
       "  </thead>\n",
       "  <tbody>\n",
       "    <tr>\n",
       "      <th>0</th>\n",
       "      <td>++2u4Q40bTeC0ZZDau1MIQ==</td>\n",
       "      <td>0</td>\n",
       "    </tr>\n",
       "    <tr>\n",
       "      <th>1</th>\n",
       "      <td>++HwHhPvBHtXEIN36fDT5w==</td>\n",
       "      <td>1</td>\n",
       "    </tr>\n",
       "    <tr>\n",
       "      <th>2</th>\n",
       "      <td>++IfjhhQ33j7i4NHdBUJkQ==</td>\n",
       "      <td>7</td>\n",
       "    </tr>\n",
       "    <tr>\n",
       "      <th>3</th>\n",
       "      <td>++KPSp+1ZC6KXlYAS8VcKg==</td>\n",
       "      <td>6</td>\n",
       "    </tr>\n",
       "    <tr>\n",
       "      <th>4</th>\n",
       "      <td>++XCbp2ChGJyYhM/fYWudg==</td>\n",
       "      <td>8</td>\n",
       "    </tr>\n",
       "  </tbody>\n",
       "</table>\n",
       "</div>"
      ],
      "text/plain": [
       "                    user_id  Recency\n",
       "0  ++2u4Q40bTeC0ZZDau1MIQ==        0\n",
       "1  ++HwHhPvBHtXEIN36fDT5w==        1\n",
       "2  ++IfjhhQ33j7i4NHdBUJkQ==        7\n",
       "3  ++KPSp+1ZC6KXlYAS8VcKg==        6\n",
       "4  ++XCbp2ChGJyYhM/fYWudg==        8"
      ]
     },
     "execution_count": 10,
     "metadata": {},
     "output_type": "execute_result"
    }
   ],
   "source": [
    "rfm_r.head()"
   ]
  },
  {
   "cell_type": "code",
   "execution_count": 11,
   "metadata": {},
   "outputs": [],
   "source": [
    "# New Attribute : Length\n",
    "rfm_l=retail.groupby('user_id')['date'].max()-retail.groupby('user_id')['date'].min()\n",
    "rfm_l = rfm_l.reset_index()\n",
    "rfm_l.columns = ['user_id', 'Length']\n"
   ]
  },
  {
   "cell_type": "code",
   "execution_count": 12,
   "metadata": {},
   "outputs": [
    {
     "data": {
      "text/html": [
       "<div>\n",
       "<style scoped>\n",
       "    .dataframe tbody tr th:only-of-type {\n",
       "        vertical-align: middle;\n",
       "    }\n",
       "\n",
       "    .dataframe tbody tr th {\n",
       "        vertical-align: top;\n",
       "    }\n",
       "\n",
       "    .dataframe thead th {\n",
       "        text-align: right;\n",
       "    }\n",
       "</style>\n",
       "<table border=\"1\" class=\"dataframe\">\n",
       "  <thead>\n",
       "    <tr style=\"text-align: right;\">\n",
       "      <th></th>\n",
       "      <th>user_id</th>\n",
       "      <th>Length</th>\n",
       "    </tr>\n",
       "  </thead>\n",
       "  <tbody>\n",
       "    <tr>\n",
       "      <th>0</th>\n",
       "      <td>++2u4Q40bTeC0ZZDau1MIQ==</td>\n",
       "      <td>0</td>\n",
       "    </tr>\n",
       "    <tr>\n",
       "      <th>1</th>\n",
       "      <td>++HwHhPvBHtXEIN36fDT5w==</td>\n",
       "      <td>0</td>\n",
       "    </tr>\n",
       "    <tr>\n",
       "      <th>2</th>\n",
       "      <td>++IfjhhQ33j7i4NHdBUJkQ==</td>\n",
       "      <td>0</td>\n",
       "    </tr>\n",
       "    <tr>\n",
       "      <th>3</th>\n",
       "      <td>++KPSp+1ZC6KXlYAS8VcKg==</td>\n",
       "      <td>0</td>\n",
       "    </tr>\n",
       "    <tr>\n",
       "      <th>4</th>\n",
       "      <td>++XCbp2ChGJyYhM/fYWudg==</td>\n",
       "      <td>0</td>\n",
       "    </tr>\n",
       "  </tbody>\n",
       "</table>\n",
       "</div>"
      ],
      "text/plain": [
       "                    user_id  Length\n",
       "0  ++2u4Q40bTeC0ZZDau1MIQ==       0\n",
       "1  ++HwHhPvBHtXEIN36fDT5w==       0\n",
       "2  ++IfjhhQ33j7i4NHdBUJkQ==       0\n",
       "3  ++KPSp+1ZC6KXlYAS8VcKg==       0\n",
       "4  ++XCbp2ChGJyYhM/fYWudg==       0"
      ]
     },
     "execution_count": 12,
     "metadata": {},
     "output_type": "execute_result"
    }
   ],
   "source": [
    "rfm_l['Length'] = rfm_l['Length'].dt.days\n",
    "rfm_l.head()"
   ]
  },
  {
   "cell_type": "code",
   "execution_count": 13,
   "metadata": {},
   "outputs": [],
   "source": [
    "dates_df =retail.groupby('user_id').agg(dates=('date','unique'))"
   ]
  },
  {
   "cell_type": "code",
   "execution_count": 14,
   "metadata": {},
   "outputs": [],
   "source": [
    "dates_df['length_dates']=dates_df.dates.str.len()\n",
    "dates_df = dates_df.reset_index()\n",
    "\n",
    "dates_df.columns=['user_id','dates','length_dates']\n"
   ]
  },
  {
   "cell_type": "code",
   "execution_count": 15,
   "metadata": {},
   "outputs": [
    {
     "data": {
      "text/html": [
       "<div>\n",
       "<style scoped>\n",
       "    .dataframe tbody tr th:only-of-type {\n",
       "        vertical-align: middle;\n",
       "    }\n",
       "\n",
       "    .dataframe tbody tr th {\n",
       "        vertical-align: top;\n",
       "    }\n",
       "\n",
       "    .dataframe thead th {\n",
       "        text-align: right;\n",
       "    }\n",
       "</style>\n",
       "<table border=\"1\" class=\"dataframe\">\n",
       "  <thead>\n",
       "    <tr style=\"text-align: right;\">\n",
       "      <th></th>\n",
       "      <th>user_id</th>\n",
       "      <th>dates</th>\n",
       "      <th>length_dates</th>\n",
       "    </tr>\n",
       "  </thead>\n",
       "  <tbody>\n",
       "    <tr>\n",
       "      <th>0</th>\n",
       "      <td>++2u4Q40bTeC0ZZDau1MIQ==</td>\n",
       "      <td>[2018-08-20T10:57:46.000000000]</td>\n",
       "      <td>1</td>\n",
       "    </tr>\n",
       "    <tr>\n",
       "      <th>1</th>\n",
       "      <td>++HwHhPvBHtXEIN36fDT5w==</td>\n",
       "      <td>[2018-08-19T00:13:09.000000000]</td>\n",
       "      <td>1</td>\n",
       "    </tr>\n",
       "    <tr>\n",
       "      <th>2</th>\n",
       "      <td>++IfjhhQ33j7i4NHdBUJkQ==</td>\n",
       "      <td>[2018-08-13T20:49:22.000000000]</td>\n",
       "      <td>1</td>\n",
       "    </tr>\n",
       "    <tr>\n",
       "      <th>3</th>\n",
       "      <td>++KPSp+1ZC6KXlYAS8VcKg==</td>\n",
       "      <td>[2018-08-14T02:52:03.000000000]</td>\n",
       "      <td>1</td>\n",
       "    </tr>\n",
       "    <tr>\n",
       "      <th>4</th>\n",
       "      <td>++XCbp2ChGJyYhM/fYWudg==</td>\n",
       "      <td>[2018-08-12T08:02:23.000000000]</td>\n",
       "      <td>1</td>\n",
       "    </tr>\n",
       "    <tr>\n",
       "      <th>...</th>\n",
       "      <td>...</td>\n",
       "      <td>...</td>\n",
       "      <td>...</td>\n",
       "    </tr>\n",
       "    <tr>\n",
       "      <th>56099</th>\n",
       "      <td>zzWZd4QWwB0L4Un+lgk/Wg==</td>\n",
       "      <td>[2018-08-20T01:12:17.000000000, 2018-08-18T10:...</td>\n",
       "      <td>3</td>\n",
       "    </tr>\n",
       "    <tr>\n",
       "      <th>56100</th>\n",
       "      <td>zzZseLwyCpzXFtpz4on05Q==</td>\n",
       "      <td>[2018-08-14T16:54:16.000000000, 2018-08-14T08:...</td>\n",
       "      <td>3</td>\n",
       "    </tr>\n",
       "    <tr>\n",
       "      <th>56101</th>\n",
       "      <td>zzaH+nGpEGQI2z/KZyT1GA==</td>\n",
       "      <td>[2018-08-18T23:10:21.000000000]</td>\n",
       "      <td>1</td>\n",
       "    </tr>\n",
       "    <tr>\n",
       "      <th>56102</th>\n",
       "      <td>zzalwv4nhLscJ9Iq+HLYYw==</td>\n",
       "      <td>[2018-08-16T19:04:09.000000000]</td>\n",
       "      <td>1</td>\n",
       "    </tr>\n",
       "    <tr>\n",
       "      <th>56103</th>\n",
       "      <td>zzyk3mGNsGD2omR8D+znPA==</td>\n",
       "      <td>[2018-08-20T07:39:43.000000000, 2018-08-14T22:...</td>\n",
       "      <td>3</td>\n",
       "    </tr>\n",
       "  </tbody>\n",
       "</table>\n",
       "<p>56104 rows × 3 columns</p>\n",
       "</div>"
      ],
      "text/plain": [
       "                        user_id  \\\n",
       "0      ++2u4Q40bTeC0ZZDau1MIQ==   \n",
       "1      ++HwHhPvBHtXEIN36fDT5w==   \n",
       "2      ++IfjhhQ33j7i4NHdBUJkQ==   \n",
       "3      ++KPSp+1ZC6KXlYAS8VcKg==   \n",
       "4      ++XCbp2ChGJyYhM/fYWudg==   \n",
       "...                         ...   \n",
       "56099  zzWZd4QWwB0L4Un+lgk/Wg==   \n",
       "56100  zzZseLwyCpzXFtpz4on05Q==   \n",
       "56101  zzaH+nGpEGQI2z/KZyT1GA==   \n",
       "56102  zzalwv4nhLscJ9Iq+HLYYw==   \n",
       "56103  zzyk3mGNsGD2omR8D+znPA==   \n",
       "\n",
       "                                                   dates  length_dates  \n",
       "0                        [2018-08-20T10:57:46.000000000]             1  \n",
       "1                        [2018-08-19T00:13:09.000000000]             1  \n",
       "2                        [2018-08-13T20:49:22.000000000]             1  \n",
       "3                        [2018-08-14T02:52:03.000000000]             1  \n",
       "4                        [2018-08-12T08:02:23.000000000]             1  \n",
       "...                                                  ...           ...  \n",
       "56099  [2018-08-20T01:12:17.000000000, 2018-08-18T10:...             3  \n",
       "56100  [2018-08-14T16:54:16.000000000, 2018-08-14T08:...             3  \n",
       "56101                    [2018-08-18T23:10:21.000000000]             1  \n",
       "56102                    [2018-08-16T19:04:09.000000000]             1  \n",
       "56103  [2018-08-20T07:39:43.000000000, 2018-08-14T22:...             3  \n",
       "\n",
       "[56104 rows x 3 columns]"
      ]
     },
     "execution_count": 15,
     "metadata": {},
     "output_type": "execute_result"
    }
   ],
   "source": [
    "dates_df"
   ]
  },
  {
   "cell_type": "code",
   "execution_count": 16,
   "metadata": {},
   "outputs": [
    {
     "data": {
      "text/html": [
       "<div>\n",
       "<style scoped>\n",
       "    .dataframe tbody tr th:only-of-type {\n",
       "        vertical-align: middle;\n",
       "    }\n",
       "\n",
       "    .dataframe tbody tr th {\n",
       "        vertical-align: top;\n",
       "    }\n",
       "\n",
       "    .dataframe thead th {\n",
       "        text-align: right;\n",
       "    }\n",
       "</style>\n",
       "<table border=\"1\" class=\"dataframe\">\n",
       "  <thead>\n",
       "    <tr style=\"text-align: right;\">\n",
       "      <th></th>\n",
       "      <th>user_id</th>\n",
       "      <th>dates</th>\n",
       "      <th>length_dates</th>\n",
       "    </tr>\n",
       "  </thead>\n",
       "  <tbody>\n",
       "  </tbody>\n",
       "</table>\n",
       "</div>"
      ],
      "text/plain": [
       "Empty DataFrame\n",
       "Columns: [user_id, dates, length_dates]\n",
       "Index: []"
      ]
     },
     "execution_count": 16,
     "metadata": {},
     "output_type": "execute_result"
    }
   ],
   "source": [
    "dates_df[dates_df['length_dates']==0]"
   ]
  },
  {
   "cell_type": "code",
   "execution_count": 17,
   "metadata": {},
   "outputs": [],
   "source": [
    "def order_date(x):\n",
    "    if len(x) >1:\n",
    "        #print(x.shape,\"----------------------------\")\n",
    "        diff_dates = []\n",
    "        x= np.asarray(sorted(x))\n",
    "        for i in range(x.shape[0]):\n",
    "            \n",
    "            time_delta_h = (x[i+1] - x[i]).astype('timedelta64[h]').astype(int)\n",
    "            time_delta_d = (x[i+1] - x[i]).astype('timedelta64[D]').astype(int)\n",
    "            #print(f'{x[i+1]} - {x[i]}')\n",
    "            diff_dates.append([time_delta_h,time_delta_d])\n",
    "            \n",
    "            if len(x) == i+2 : break\n",
    "        #print(diff_dates)    \n",
    "        return diff_dates\n",
    "    else: return np.NAN\n",
    "        \n",
    "#         for i in np.ndenumerate(x):\n",
    "#             print(i)"
   ]
  },
  {
   "cell_type": "code",
   "execution_count": 18,
   "metadata": {},
   "outputs": [
    {
     "data": {
      "text/html": [
       "<div>\n",
       "<style scoped>\n",
       "    .dataframe tbody tr th:only-of-type {\n",
       "        vertical-align: middle;\n",
       "    }\n",
       "\n",
       "    .dataframe tbody tr th {\n",
       "        vertical-align: top;\n",
       "    }\n",
       "\n",
       "    .dataframe thead th {\n",
       "        text-align: right;\n",
       "    }\n",
       "</style>\n",
       "<table border=\"1\" class=\"dataframe\">\n",
       "  <thead>\n",
       "    <tr style=\"text-align: right;\">\n",
       "      <th></th>\n",
       "      <th>user_id</th>\n",
       "      <th>dates</th>\n",
       "      <th>length_dates</th>\n",
       "      <th>diff_date_d_h</th>\n",
       "    </tr>\n",
       "  </thead>\n",
       "  <tbody>\n",
       "    <tr>\n",
       "      <th>0</th>\n",
       "      <td>++2u4Q40bTeC0ZZDau1MIQ==</td>\n",
       "      <td>[2018-08-20T10:57:46.000000000]</td>\n",
       "      <td>1</td>\n",
       "      <td>NaN</td>\n",
       "    </tr>\n",
       "    <tr>\n",
       "      <th>1</th>\n",
       "      <td>++HwHhPvBHtXEIN36fDT5w==</td>\n",
       "      <td>[2018-08-19T00:13:09.000000000]</td>\n",
       "      <td>1</td>\n",
       "      <td>NaN</td>\n",
       "    </tr>\n",
       "    <tr>\n",
       "      <th>2</th>\n",
       "      <td>++IfjhhQ33j7i4NHdBUJkQ==</td>\n",
       "      <td>[2018-08-13T20:49:22.000000000]</td>\n",
       "      <td>1</td>\n",
       "      <td>NaN</td>\n",
       "    </tr>\n",
       "    <tr>\n",
       "      <th>3</th>\n",
       "      <td>++KPSp+1ZC6KXlYAS8VcKg==</td>\n",
       "      <td>[2018-08-14T02:52:03.000000000]</td>\n",
       "      <td>1</td>\n",
       "      <td>NaN</td>\n",
       "    </tr>\n",
       "    <tr>\n",
       "      <th>4</th>\n",
       "      <td>++XCbp2ChGJyYhM/fYWudg==</td>\n",
       "      <td>[2018-08-12T08:02:23.000000000]</td>\n",
       "      <td>1</td>\n",
       "      <td>NaN</td>\n",
       "    </tr>\n",
       "    <tr>\n",
       "      <th>...</th>\n",
       "      <td>...</td>\n",
       "      <td>...</td>\n",
       "      <td>...</td>\n",
       "      <td>...</td>\n",
       "    </tr>\n",
       "    <tr>\n",
       "      <th>56099</th>\n",
       "      <td>zzWZd4QWwB0L4Un+lgk/Wg==</td>\n",
       "      <td>[2018-08-20T01:12:17.000000000, 2018-08-18T10:...</td>\n",
       "      <td>3</td>\n",
       "      <td>[[18, 0], [38, 1]]</td>\n",
       "    </tr>\n",
       "    <tr>\n",
       "      <th>56100</th>\n",
       "      <td>zzZseLwyCpzXFtpz4on05Q==</td>\n",
       "      <td>[2018-08-14T16:54:16.000000000, 2018-08-14T08:...</td>\n",
       "      <td>3</td>\n",
       "      <td>[[47, 1], [8, 0]]</td>\n",
       "    </tr>\n",
       "    <tr>\n",
       "      <th>56101</th>\n",
       "      <td>zzaH+nGpEGQI2z/KZyT1GA==</td>\n",
       "      <td>[2018-08-18T23:10:21.000000000]</td>\n",
       "      <td>1</td>\n",
       "      <td>NaN</td>\n",
       "    </tr>\n",
       "    <tr>\n",
       "      <th>56102</th>\n",
       "      <td>zzalwv4nhLscJ9Iq+HLYYw==</td>\n",
       "      <td>[2018-08-16T19:04:09.000000000]</td>\n",
       "      <td>1</td>\n",
       "      <td>NaN</td>\n",
       "    </tr>\n",
       "    <tr>\n",
       "      <th>56103</th>\n",
       "      <td>zzyk3mGNsGD2omR8D+znPA==</td>\n",
       "      <td>[2018-08-20T07:39:43.000000000, 2018-08-14T22:...</td>\n",
       "      <td>3</td>\n",
       "      <td>[[2, 0], [128, 5]]</td>\n",
       "    </tr>\n",
       "  </tbody>\n",
       "</table>\n",
       "<p>56104 rows × 4 columns</p>\n",
       "</div>"
      ],
      "text/plain": [
       "                        user_id  \\\n",
       "0      ++2u4Q40bTeC0ZZDau1MIQ==   \n",
       "1      ++HwHhPvBHtXEIN36fDT5w==   \n",
       "2      ++IfjhhQ33j7i4NHdBUJkQ==   \n",
       "3      ++KPSp+1ZC6KXlYAS8VcKg==   \n",
       "4      ++XCbp2ChGJyYhM/fYWudg==   \n",
       "...                         ...   \n",
       "56099  zzWZd4QWwB0L4Un+lgk/Wg==   \n",
       "56100  zzZseLwyCpzXFtpz4on05Q==   \n",
       "56101  zzaH+nGpEGQI2z/KZyT1GA==   \n",
       "56102  zzalwv4nhLscJ9Iq+HLYYw==   \n",
       "56103  zzyk3mGNsGD2omR8D+znPA==   \n",
       "\n",
       "                                                   dates  length_dates  \\\n",
       "0                        [2018-08-20T10:57:46.000000000]             1   \n",
       "1                        [2018-08-19T00:13:09.000000000]             1   \n",
       "2                        [2018-08-13T20:49:22.000000000]             1   \n",
       "3                        [2018-08-14T02:52:03.000000000]             1   \n",
       "4                        [2018-08-12T08:02:23.000000000]             1   \n",
       "...                                                  ...           ...   \n",
       "56099  [2018-08-20T01:12:17.000000000, 2018-08-18T10:...             3   \n",
       "56100  [2018-08-14T16:54:16.000000000, 2018-08-14T08:...             3   \n",
       "56101                    [2018-08-18T23:10:21.000000000]             1   \n",
       "56102                    [2018-08-16T19:04:09.000000000]             1   \n",
       "56103  [2018-08-20T07:39:43.000000000, 2018-08-14T22:...             3   \n",
       "\n",
       "            diff_date_d_h  \n",
       "0                     NaN  \n",
       "1                     NaN  \n",
       "2                     NaN  \n",
       "3                     NaN  \n",
       "4                     NaN  \n",
       "...                   ...  \n",
       "56099  [[18, 0], [38, 1]]  \n",
       "56100   [[47, 1], [8, 0]]  \n",
       "56101                 NaN  \n",
       "56102                 NaN  \n",
       "56103  [[2, 0], [128, 5]]  \n",
       "\n",
       "[56104 rows x 4 columns]"
      ]
     },
     "execution_count": 18,
     "metadata": {},
     "output_type": "execute_result"
    }
   ],
   "source": [
    "dates_df['diff_date_d_h']=dates_df['dates'].map(order_date)\n",
    "dates_df"
   ]
  },
  {
   "cell_type": "code",
   "execution_count": 19,
   "metadata": {},
   "outputs": [],
   "source": [
    "def order_date_day_std(x):\n",
    "    if len(x) >1:\n",
    "        diff_dates = []\n",
    "        x= np.asarray(sorted(x))\n",
    "        \n",
    "        for i in range(x.shape[0]):\n",
    "            \n",
    "            #time_delta_h = (x[i+1] - x[i]).astype('timedelta64[h]').astype(int)\n",
    "            time_delta_d = (x[i+1] - x[i]).astype('timedelta64[D]').astype(int)\n",
    "            diff_dates.append(time_delta_d)\n",
    "            \n",
    "            if len(x) == i+2 : break\n",
    "        if len(diff_dates)== 1: return 0\n",
    "        return statistics.stdev(diff_dates)\n",
    "    else: return np.NAN\n",
    "        "
   ]
  },
  {
   "cell_type": "code",
   "execution_count": 20,
   "metadata": {},
   "outputs": [
    {
     "data": {
      "text/html": [
       "<div>\n",
       "<style scoped>\n",
       "    .dataframe tbody tr th:only-of-type {\n",
       "        vertical-align: middle;\n",
       "    }\n",
       "\n",
       "    .dataframe tbody tr th {\n",
       "        vertical-align: top;\n",
       "    }\n",
       "\n",
       "    .dataframe thead th {\n",
       "        text-align: right;\n",
       "    }\n",
       "</style>\n",
       "<table border=\"1\" class=\"dataframe\">\n",
       "  <thead>\n",
       "    <tr style=\"text-align: right;\">\n",
       "      <th></th>\n",
       "      <th>user_id</th>\n",
       "      <th>dates</th>\n",
       "      <th>length_dates</th>\n",
       "      <th>diff_date_d_h</th>\n",
       "      <th>Periodicity_day</th>\n",
       "    </tr>\n",
       "  </thead>\n",
       "  <tbody>\n",
       "    <tr>\n",
       "      <th>0</th>\n",
       "      <td>++2u4Q40bTeC0ZZDau1MIQ==</td>\n",
       "      <td>[2018-08-20T10:57:46.000000000]</td>\n",
       "      <td>1</td>\n",
       "      <td>NaN</td>\n",
       "      <td>NaN</td>\n",
       "    </tr>\n",
       "    <tr>\n",
       "      <th>1</th>\n",
       "      <td>++HwHhPvBHtXEIN36fDT5w==</td>\n",
       "      <td>[2018-08-19T00:13:09.000000000]</td>\n",
       "      <td>1</td>\n",
       "      <td>NaN</td>\n",
       "      <td>NaN</td>\n",
       "    </tr>\n",
       "    <tr>\n",
       "      <th>2</th>\n",
       "      <td>++IfjhhQ33j7i4NHdBUJkQ==</td>\n",
       "      <td>[2018-08-13T20:49:22.000000000]</td>\n",
       "      <td>1</td>\n",
       "      <td>NaN</td>\n",
       "      <td>NaN</td>\n",
       "    </tr>\n",
       "    <tr>\n",
       "      <th>3</th>\n",
       "      <td>++KPSp+1ZC6KXlYAS8VcKg==</td>\n",
       "      <td>[2018-08-14T02:52:03.000000000]</td>\n",
       "      <td>1</td>\n",
       "      <td>NaN</td>\n",
       "      <td>NaN</td>\n",
       "    </tr>\n",
       "    <tr>\n",
       "      <th>4</th>\n",
       "      <td>++XCbp2ChGJyYhM/fYWudg==</td>\n",
       "      <td>[2018-08-12T08:02:23.000000000]</td>\n",
       "      <td>1</td>\n",
       "      <td>NaN</td>\n",
       "      <td>NaN</td>\n",
       "    </tr>\n",
       "    <tr>\n",
       "      <th>...</th>\n",
       "      <td>...</td>\n",
       "      <td>...</td>\n",
       "      <td>...</td>\n",
       "      <td>...</td>\n",
       "      <td>...</td>\n",
       "    </tr>\n",
       "    <tr>\n",
       "      <th>56099</th>\n",
       "      <td>zzWZd4QWwB0L4Un+lgk/Wg==</td>\n",
       "      <td>[2018-08-20T01:12:17.000000000, 2018-08-18T10:...</td>\n",
       "      <td>3</td>\n",
       "      <td>[[18, 0], [38, 1]]</td>\n",
       "      <td>0.000000</td>\n",
       "    </tr>\n",
       "    <tr>\n",
       "      <th>56100</th>\n",
       "      <td>zzZseLwyCpzXFtpz4on05Q==</td>\n",
       "      <td>[2018-08-14T16:54:16.000000000, 2018-08-14T08:...</td>\n",
       "      <td>3</td>\n",
       "      <td>[[47, 1], [8, 0]]</td>\n",
       "      <td>0.000000</td>\n",
       "    </tr>\n",
       "    <tr>\n",
       "      <th>56101</th>\n",
       "      <td>zzaH+nGpEGQI2z/KZyT1GA==</td>\n",
       "      <td>[2018-08-18T23:10:21.000000000]</td>\n",
       "      <td>1</td>\n",
       "      <td>NaN</td>\n",
       "      <td>NaN</td>\n",
       "    </tr>\n",
       "    <tr>\n",
       "      <th>56102</th>\n",
       "      <td>zzalwv4nhLscJ9Iq+HLYYw==</td>\n",
       "      <td>[2018-08-16T19:04:09.000000000]</td>\n",
       "      <td>1</td>\n",
       "      <td>NaN</td>\n",
       "      <td>NaN</td>\n",
       "    </tr>\n",
       "    <tr>\n",
       "      <th>56103</th>\n",
       "      <td>zzyk3mGNsGD2omR8D+znPA==</td>\n",
       "      <td>[2018-08-20T07:39:43.000000000, 2018-08-14T22:...</td>\n",
       "      <td>3</td>\n",
       "      <td>[[2, 0], [128, 5]]</td>\n",
       "      <td>3.464102</td>\n",
       "    </tr>\n",
       "  </tbody>\n",
       "</table>\n",
       "<p>56104 rows × 5 columns</p>\n",
       "</div>"
      ],
      "text/plain": [
       "                        user_id  \\\n",
       "0      ++2u4Q40bTeC0ZZDau1MIQ==   \n",
       "1      ++HwHhPvBHtXEIN36fDT5w==   \n",
       "2      ++IfjhhQ33j7i4NHdBUJkQ==   \n",
       "3      ++KPSp+1ZC6KXlYAS8VcKg==   \n",
       "4      ++XCbp2ChGJyYhM/fYWudg==   \n",
       "...                         ...   \n",
       "56099  zzWZd4QWwB0L4Un+lgk/Wg==   \n",
       "56100  zzZseLwyCpzXFtpz4on05Q==   \n",
       "56101  zzaH+nGpEGQI2z/KZyT1GA==   \n",
       "56102  zzalwv4nhLscJ9Iq+HLYYw==   \n",
       "56103  zzyk3mGNsGD2omR8D+znPA==   \n",
       "\n",
       "                                                   dates  length_dates  \\\n",
       "0                        [2018-08-20T10:57:46.000000000]             1   \n",
       "1                        [2018-08-19T00:13:09.000000000]             1   \n",
       "2                        [2018-08-13T20:49:22.000000000]             1   \n",
       "3                        [2018-08-14T02:52:03.000000000]             1   \n",
       "4                        [2018-08-12T08:02:23.000000000]             1   \n",
       "...                                                  ...           ...   \n",
       "56099  [2018-08-20T01:12:17.000000000, 2018-08-18T10:...             3   \n",
       "56100  [2018-08-14T16:54:16.000000000, 2018-08-14T08:...             3   \n",
       "56101                    [2018-08-18T23:10:21.000000000]             1   \n",
       "56102                    [2018-08-16T19:04:09.000000000]             1   \n",
       "56103  [2018-08-20T07:39:43.000000000, 2018-08-14T22:...             3   \n",
       "\n",
       "            diff_date_d_h  Periodicity_day  \n",
       "0                     NaN              NaN  \n",
       "1                     NaN              NaN  \n",
       "2                     NaN              NaN  \n",
       "3                     NaN              NaN  \n",
       "4                     NaN              NaN  \n",
       "...                   ...              ...  \n",
       "56099  [[18, 0], [38, 1]]         0.000000  \n",
       "56100   [[47, 1], [8, 0]]         0.000000  \n",
       "56101                 NaN              NaN  \n",
       "56102                 NaN              NaN  \n",
       "56103  [[2, 0], [128, 5]]         3.464102  \n",
       "\n",
       "[56104 rows x 5 columns]"
      ]
     },
     "execution_count": 20,
     "metadata": {},
     "output_type": "execute_result"
    }
   ],
   "source": [
    "dates_df['Periodicity_day'] = dates_df['dates'].map(order_date_day_std)\n",
    "dates_df"
   ]
  },
  {
   "cell_type": "code",
   "execution_count": 21,
   "metadata": {},
   "outputs": [],
   "source": [
    "def order_date_hour_std(x):\n",
    "    if len(x) >1:\n",
    "        diff_dates = []\n",
    "        x= np.asarray(sorted(x))\n",
    "        for i in range(x.shape[0]):\n",
    "            \n",
    "            time_delta_h = (x[i+1] - x[i]).astype('timedelta64[h]').astype(int)\n",
    "            #time_delta_d = (x[i+1] - x[i]).astype('timedelta64[D]').astype(int)\n",
    "            diff_dates.append(time_delta_h)\n",
    "            \n",
    "            if len(x) == i+2 : break\n",
    "        if len(diff_dates)== 1: return 0\n",
    "        return statistics.stdev(diff_dates)\n",
    "    else: return np.NAN\n",
    "        "
   ]
  },
  {
   "cell_type": "code",
   "execution_count": 22,
   "metadata": {},
   "outputs": [
    {
     "data": {
      "text/html": [
       "<div>\n",
       "<style scoped>\n",
       "    .dataframe tbody tr th:only-of-type {\n",
       "        vertical-align: middle;\n",
       "    }\n",
       "\n",
       "    .dataframe tbody tr th {\n",
       "        vertical-align: top;\n",
       "    }\n",
       "\n",
       "    .dataframe thead th {\n",
       "        text-align: right;\n",
       "    }\n",
       "</style>\n",
       "<table border=\"1\" class=\"dataframe\">\n",
       "  <thead>\n",
       "    <tr style=\"text-align: right;\">\n",
       "      <th></th>\n",
       "      <th>user_id</th>\n",
       "      <th>dates</th>\n",
       "      <th>length_dates</th>\n",
       "      <th>diff_date_d_h</th>\n",
       "      <th>Periodicity_day</th>\n",
       "      <th>Periodicity_hour</th>\n",
       "    </tr>\n",
       "  </thead>\n",
       "  <tbody>\n",
       "    <tr>\n",
       "      <th>0</th>\n",
       "      <td>++2u4Q40bTeC0ZZDau1MIQ==</td>\n",
       "      <td>[2018-08-20T10:57:46.000000000]</td>\n",
       "      <td>1</td>\n",
       "      <td>NaN</td>\n",
       "      <td>NaN</td>\n",
       "      <td>NaN</td>\n",
       "    </tr>\n",
       "    <tr>\n",
       "      <th>1</th>\n",
       "      <td>++HwHhPvBHtXEIN36fDT5w==</td>\n",
       "      <td>[2018-08-19T00:13:09.000000000]</td>\n",
       "      <td>1</td>\n",
       "      <td>NaN</td>\n",
       "      <td>NaN</td>\n",
       "      <td>NaN</td>\n",
       "    </tr>\n",
       "    <tr>\n",
       "      <th>2</th>\n",
       "      <td>++IfjhhQ33j7i4NHdBUJkQ==</td>\n",
       "      <td>[2018-08-13T20:49:22.000000000]</td>\n",
       "      <td>1</td>\n",
       "      <td>NaN</td>\n",
       "      <td>NaN</td>\n",
       "      <td>NaN</td>\n",
       "    </tr>\n",
       "    <tr>\n",
       "      <th>3</th>\n",
       "      <td>++KPSp+1ZC6KXlYAS8VcKg==</td>\n",
       "      <td>[2018-08-14T02:52:03.000000000]</td>\n",
       "      <td>1</td>\n",
       "      <td>NaN</td>\n",
       "      <td>NaN</td>\n",
       "      <td>NaN</td>\n",
       "    </tr>\n",
       "    <tr>\n",
       "      <th>4</th>\n",
       "      <td>++XCbp2ChGJyYhM/fYWudg==</td>\n",
       "      <td>[2018-08-12T08:02:23.000000000]</td>\n",
       "      <td>1</td>\n",
       "      <td>NaN</td>\n",
       "      <td>NaN</td>\n",
       "      <td>NaN</td>\n",
       "    </tr>\n",
       "    <tr>\n",
       "      <th>...</th>\n",
       "      <td>...</td>\n",
       "      <td>...</td>\n",
       "      <td>...</td>\n",
       "      <td>...</td>\n",
       "      <td>...</td>\n",
       "      <td>...</td>\n",
       "    </tr>\n",
       "    <tr>\n",
       "      <th>56099</th>\n",
       "      <td>zzWZd4QWwB0L4Un+lgk/Wg==</td>\n",
       "      <td>[2018-08-20T01:12:17.000000000, 2018-08-18T10:...</td>\n",
       "      <td>3</td>\n",
       "      <td>[[18, 0], [38, 1]]</td>\n",
       "      <td>0.000000</td>\n",
       "      <td>14.142136</td>\n",
       "    </tr>\n",
       "    <tr>\n",
       "      <th>56100</th>\n",
       "      <td>zzZseLwyCpzXFtpz4on05Q==</td>\n",
       "      <td>[2018-08-14T16:54:16.000000000, 2018-08-14T08:...</td>\n",
       "      <td>3</td>\n",
       "      <td>[[47, 1], [8, 0]]</td>\n",
       "      <td>0.000000</td>\n",
       "      <td>27.568098</td>\n",
       "    </tr>\n",
       "    <tr>\n",
       "      <th>56101</th>\n",
       "      <td>zzaH+nGpEGQI2z/KZyT1GA==</td>\n",
       "      <td>[2018-08-18T23:10:21.000000000]</td>\n",
       "      <td>1</td>\n",
       "      <td>NaN</td>\n",
       "      <td>NaN</td>\n",
       "      <td>NaN</td>\n",
       "    </tr>\n",
       "    <tr>\n",
       "      <th>56102</th>\n",
       "      <td>zzalwv4nhLscJ9Iq+HLYYw==</td>\n",
       "      <td>[2018-08-16T19:04:09.000000000]</td>\n",
       "      <td>1</td>\n",
       "      <td>NaN</td>\n",
       "      <td>NaN</td>\n",
       "      <td>NaN</td>\n",
       "    </tr>\n",
       "    <tr>\n",
       "      <th>56103</th>\n",
       "      <td>zzyk3mGNsGD2omR8D+znPA==</td>\n",
       "      <td>[2018-08-20T07:39:43.000000000, 2018-08-14T22:...</td>\n",
       "      <td>3</td>\n",
       "      <td>[[2, 0], [128, 5]]</td>\n",
       "      <td>3.464102</td>\n",
       "      <td>89.095454</td>\n",
       "    </tr>\n",
       "  </tbody>\n",
       "</table>\n",
       "<p>56104 rows × 6 columns</p>\n",
       "</div>"
      ],
      "text/plain": [
       "                        user_id  \\\n",
       "0      ++2u4Q40bTeC0ZZDau1MIQ==   \n",
       "1      ++HwHhPvBHtXEIN36fDT5w==   \n",
       "2      ++IfjhhQ33j7i4NHdBUJkQ==   \n",
       "3      ++KPSp+1ZC6KXlYAS8VcKg==   \n",
       "4      ++XCbp2ChGJyYhM/fYWudg==   \n",
       "...                         ...   \n",
       "56099  zzWZd4QWwB0L4Un+lgk/Wg==   \n",
       "56100  zzZseLwyCpzXFtpz4on05Q==   \n",
       "56101  zzaH+nGpEGQI2z/KZyT1GA==   \n",
       "56102  zzalwv4nhLscJ9Iq+HLYYw==   \n",
       "56103  zzyk3mGNsGD2omR8D+znPA==   \n",
       "\n",
       "                                                   dates  length_dates  \\\n",
       "0                        [2018-08-20T10:57:46.000000000]             1   \n",
       "1                        [2018-08-19T00:13:09.000000000]             1   \n",
       "2                        [2018-08-13T20:49:22.000000000]             1   \n",
       "3                        [2018-08-14T02:52:03.000000000]             1   \n",
       "4                        [2018-08-12T08:02:23.000000000]             1   \n",
       "...                                                  ...           ...   \n",
       "56099  [2018-08-20T01:12:17.000000000, 2018-08-18T10:...             3   \n",
       "56100  [2018-08-14T16:54:16.000000000, 2018-08-14T08:...             3   \n",
       "56101                    [2018-08-18T23:10:21.000000000]             1   \n",
       "56102                    [2018-08-16T19:04:09.000000000]             1   \n",
       "56103  [2018-08-20T07:39:43.000000000, 2018-08-14T22:...             3   \n",
       "\n",
       "            diff_date_d_h  Periodicity_day  Periodicity_hour  \n",
       "0                     NaN              NaN               NaN  \n",
       "1                     NaN              NaN               NaN  \n",
       "2                     NaN              NaN               NaN  \n",
       "3                     NaN              NaN               NaN  \n",
       "4                     NaN              NaN               NaN  \n",
       "...                   ...              ...               ...  \n",
       "56099  [[18, 0], [38, 1]]         0.000000         14.142136  \n",
       "56100   [[47, 1], [8, 0]]         0.000000         27.568098  \n",
       "56101                 NaN              NaN               NaN  \n",
       "56102                 NaN              NaN               NaN  \n",
       "56103  [[2, 0], [128, 5]]         3.464102         89.095454  \n",
       "\n",
       "[56104 rows x 6 columns]"
      ]
     },
     "execution_count": 22,
     "metadata": {},
     "output_type": "execute_result"
    }
   ],
   "source": [
    "dates_df['Periodicity_hour'] = dates_df['dates'].map(order_date_hour_std)\n",
    "dates_df"
   ]
  },
  {
   "cell_type": "code",
   "execution_count": 23,
   "metadata": {},
   "outputs": [
    {
     "data": {
      "text/html": [
       "<div>\n",
       "<style scoped>\n",
       "    .dataframe tbody tr th:only-of-type {\n",
       "        vertical-align: middle;\n",
       "    }\n",
       "\n",
       "    .dataframe tbody tr th {\n",
       "        vertical-align: top;\n",
       "    }\n",
       "\n",
       "    .dataframe thead th {\n",
       "        text-align: right;\n",
       "    }\n",
       "</style>\n",
       "<table border=\"1\" class=\"dataframe\">\n",
       "  <thead>\n",
       "    <tr style=\"text-align: right;\">\n",
       "      <th></th>\n",
       "      <th>user_id</th>\n",
       "      <th>Monetary</th>\n",
       "      <th>Frequency</th>\n",
       "    </tr>\n",
       "  </thead>\n",
       "  <tbody>\n",
       "    <tr>\n",
       "      <th>0</th>\n",
       "      <td>++2u4Q40bTeC0ZZDau1MIQ==</td>\n",
       "      <td>1082000</td>\n",
       "      <td>1</td>\n",
       "    </tr>\n",
       "    <tr>\n",
       "      <th>1</th>\n",
       "      <td>++HwHhPvBHtXEIN36fDT5w==</td>\n",
       "      <td>1414000</td>\n",
       "      <td>1</td>\n",
       "    </tr>\n",
       "    <tr>\n",
       "      <th>2</th>\n",
       "      <td>++IfjhhQ33j7i4NHdBUJkQ==</td>\n",
       "      <td>990000</td>\n",
       "      <td>1</td>\n",
       "    </tr>\n",
       "    <tr>\n",
       "      <th>3</th>\n",
       "      <td>++KPSp+1ZC6KXlYAS8VcKg==</td>\n",
       "      <td>1690500</td>\n",
       "      <td>1</td>\n",
       "    </tr>\n",
       "    <tr>\n",
       "      <th>4</th>\n",
       "      <td>++XCbp2ChGJyYhM/fYWudg==</td>\n",
       "      <td>1150000</td>\n",
       "      <td>1</td>\n",
       "    </tr>\n",
       "  </tbody>\n",
       "</table>\n",
       "</div>"
      ],
      "text/plain": [
       "                    user_id  Monetary  Frequency\n",
       "0  ++2u4Q40bTeC0ZZDau1MIQ==   1082000          1\n",
       "1  ++HwHhPvBHtXEIN36fDT5w==   1414000          1\n",
       "2  ++IfjhhQ33j7i4NHdBUJkQ==    990000          1\n",
       "3  ++KPSp+1ZC6KXlYAS8VcKg==   1690500          1\n",
       "4  ++XCbp2ChGJyYhM/fYWudg==   1150000          1"
      ]
     },
     "execution_count": 23,
     "metadata": {},
     "output_type": "execute_result"
    }
   ],
   "source": [
    "# Merging the two dfs\n",
    "\n",
    "rfm = pd.merge(rfm_m, rfm_f, on='user_id', how='inner')\n",
    "rfm.head()"
   ]
  },
  {
   "cell_type": "code",
   "execution_count": 24,
   "metadata": {},
   "outputs": [
    {
     "data": {
      "text/html": [
       "<div>\n",
       "<style scoped>\n",
       "    .dataframe tbody tr th:only-of-type {\n",
       "        vertical-align: middle;\n",
       "    }\n",
       "\n",
       "    .dataframe tbody tr th {\n",
       "        vertical-align: top;\n",
       "    }\n",
       "\n",
       "    .dataframe thead th {\n",
       "        text-align: right;\n",
       "    }\n",
       "</style>\n",
       "<table border=\"1\" class=\"dataframe\">\n",
       "  <thead>\n",
       "    <tr style=\"text-align: right;\">\n",
       "      <th></th>\n",
       "      <th>user_id</th>\n",
       "      <th>Monetary</th>\n",
       "      <th>Frequency</th>\n",
       "      <th>Recency</th>\n",
       "    </tr>\n",
       "  </thead>\n",
       "  <tbody>\n",
       "    <tr>\n",
       "      <th>0</th>\n",
       "      <td>++2u4Q40bTeC0ZZDau1MIQ==</td>\n",
       "      <td>1082000</td>\n",
       "      <td>1</td>\n",
       "      <td>0</td>\n",
       "    </tr>\n",
       "    <tr>\n",
       "      <th>1</th>\n",
       "      <td>++HwHhPvBHtXEIN36fDT5w==</td>\n",
       "      <td>1414000</td>\n",
       "      <td>1</td>\n",
       "      <td>1</td>\n",
       "    </tr>\n",
       "    <tr>\n",
       "      <th>2</th>\n",
       "      <td>++IfjhhQ33j7i4NHdBUJkQ==</td>\n",
       "      <td>990000</td>\n",
       "      <td>1</td>\n",
       "      <td>7</td>\n",
       "    </tr>\n",
       "    <tr>\n",
       "      <th>3</th>\n",
       "      <td>++KPSp+1ZC6KXlYAS8VcKg==</td>\n",
       "      <td>1690500</td>\n",
       "      <td>1</td>\n",
       "      <td>6</td>\n",
       "    </tr>\n",
       "    <tr>\n",
       "      <th>4</th>\n",
       "      <td>++XCbp2ChGJyYhM/fYWudg==</td>\n",
       "      <td>1150000</td>\n",
       "      <td>1</td>\n",
       "      <td>8</td>\n",
       "    </tr>\n",
       "    <tr>\n",
       "      <th>...</th>\n",
       "      <td>...</td>\n",
       "      <td>...</td>\n",
       "      <td>...</td>\n",
       "      <td>...</td>\n",
       "    </tr>\n",
       "    <tr>\n",
       "      <th>56099</th>\n",
       "      <td>zzWZd4QWwB0L4Un+lgk/Wg==</td>\n",
       "      <td>4981000</td>\n",
       "      <td>3</td>\n",
       "      <td>0</td>\n",
       "    </tr>\n",
       "    <tr>\n",
       "      <th>56100</th>\n",
       "      <td>zzZseLwyCpzXFtpz4on05Q==</td>\n",
       "      <td>1560000</td>\n",
       "      <td>3</td>\n",
       "      <td>6</td>\n",
       "    </tr>\n",
       "    <tr>\n",
       "      <th>56101</th>\n",
       "      <td>zzaH+nGpEGQI2z/KZyT1GA==</td>\n",
       "      <td>3630000</td>\n",
       "      <td>1</td>\n",
       "      <td>2</td>\n",
       "    </tr>\n",
       "    <tr>\n",
       "      <th>56102</th>\n",
       "      <td>zzalwv4nhLscJ9Iq+HLYYw==</td>\n",
       "      <td>1570000</td>\n",
       "      <td>1</td>\n",
       "      <td>4</td>\n",
       "    </tr>\n",
       "    <tr>\n",
       "      <th>56103</th>\n",
       "      <td>zzyk3mGNsGD2omR8D+znPA==</td>\n",
       "      <td>5935000</td>\n",
       "      <td>3</td>\n",
       "      <td>0</td>\n",
       "    </tr>\n",
       "  </tbody>\n",
       "</table>\n",
       "<p>56104 rows × 4 columns</p>\n",
       "</div>"
      ],
      "text/plain": [
       "                        user_id  Monetary  Frequency  Recency\n",
       "0      ++2u4Q40bTeC0ZZDau1MIQ==   1082000          1        0\n",
       "1      ++HwHhPvBHtXEIN36fDT5w==   1414000          1        1\n",
       "2      ++IfjhhQ33j7i4NHdBUJkQ==    990000          1        7\n",
       "3      ++KPSp+1ZC6KXlYAS8VcKg==   1690500          1        6\n",
       "4      ++XCbp2ChGJyYhM/fYWudg==   1150000          1        8\n",
       "...                         ...       ...        ...      ...\n",
       "56099  zzWZd4QWwB0L4Un+lgk/Wg==   4981000          3        0\n",
       "56100  zzZseLwyCpzXFtpz4on05Q==   1560000          3        6\n",
       "56101  zzaH+nGpEGQI2z/KZyT1GA==   3630000          1        2\n",
       "56102  zzalwv4nhLscJ9Iq+HLYYw==   1570000          1        4\n",
       "56103  zzyk3mGNsGD2omR8D+znPA==   5935000          3        0\n",
       "\n",
       "[56104 rows x 4 columns]"
      ]
     },
     "execution_count": 24,
     "metadata": {},
     "output_type": "execute_result"
    }
   ],
   "source": [
    "rfm = pd.merge(rfm, rfm_r, on='user_id', how='inner')\n",
    "# rfm.rename(columns={\"Diff\": \"Recency\"})\n",
    "rfm"
   ]
  },
  {
   "cell_type": "code",
   "execution_count": 25,
   "metadata": {},
   "outputs": [
    {
     "data": {
      "text/plain": [
       "(56104, 5)"
      ]
     },
     "execution_count": 25,
     "metadata": {},
     "output_type": "execute_result"
    }
   ],
   "source": [
    "rfm = pd.merge(rfm, rfm_l, on='user_id', how='inner')\n",
    "rfm.shape"
   ]
  },
  {
   "cell_type": "code",
   "execution_count": 26,
   "metadata": {},
   "outputs": [],
   "source": [
    "rfm =pd.merge(rfm, dates_df[['user_id','Periodicity_day','Periodicity_hour']], on='user_id', how='inner')"
   ]
  },
  {
   "cell_type": "code",
   "execution_count": 27,
   "metadata": {},
   "outputs": [],
   "source": [
    "# rfm = rfm.drop('index', 1)"
   ]
  },
  {
   "cell_type": "code",
   "execution_count": 28,
   "metadata": {},
   "outputs": [],
   "source": [
    "# rfm"
   ]
  },
  {
   "cell_type": "code",
   "execution_count": 29,
   "metadata": {},
   "outputs": [
    {
     "data": {
      "text/html": [
       "<div>\n",
       "<style scoped>\n",
       "    .dataframe tbody tr th:only-of-type {\n",
       "        vertical-align: middle;\n",
       "    }\n",
       "\n",
       "    .dataframe tbody tr th {\n",
       "        vertical-align: top;\n",
       "    }\n",
       "\n",
       "    .dataframe thead th {\n",
       "        text-align: right;\n",
       "    }\n",
       "</style>\n",
       "<table border=\"1\" class=\"dataframe\">\n",
       "  <thead>\n",
       "    <tr style=\"text-align: right;\">\n",
       "      <th></th>\n",
       "      <th>user_id</th>\n",
       "      <th>Monetary</th>\n",
       "      <th>Frequency</th>\n",
       "      <th>Recency</th>\n",
       "      <th>Length</th>\n",
       "      <th>Periodicity_day</th>\n",
       "      <th>Periodicity_hour</th>\n",
       "    </tr>\n",
       "  </thead>\n",
       "  <tbody>\n",
       "    <tr>\n",
       "      <th>7</th>\n",
       "      <td>++aFMHHDKluZF2DJXQ4VVg==</td>\n",
       "      <td>880000</td>\n",
       "      <td>2</td>\n",
       "      <td>5</td>\n",
       "      <td>2</td>\n",
       "      <td>0.000000</td>\n",
       "      <td>0.000000</td>\n",
       "    </tr>\n",
       "    <tr>\n",
       "      <th>8</th>\n",
       "      <td>++fz+vTHQnkgPIU4nFLwqg==</td>\n",
       "      <td>7021000</td>\n",
       "      <td>2</td>\n",
       "      <td>0</td>\n",
       "      <td>0</td>\n",
       "      <td>0.000000</td>\n",
       "      <td>0.000000</td>\n",
       "    </tr>\n",
       "    <tr>\n",
       "      <th>14</th>\n",
       "      <td>+/4x52C5GE58tU5a4oiIoA==</td>\n",
       "      <td>19120000</td>\n",
       "      <td>3</td>\n",
       "      <td>1</td>\n",
       "      <td>3</td>\n",
       "      <td>0.000000</td>\n",
       "      <td>7.071068</td>\n",
       "    </tr>\n",
       "    <tr>\n",
       "      <th>38</th>\n",
       "      <td>+0NLplvuXBK8B57SSP/BPw==</td>\n",
       "      <td>7290000</td>\n",
       "      <td>2</td>\n",
       "      <td>0</td>\n",
       "      <td>0</td>\n",
       "      <td>0.000000</td>\n",
       "      <td>0.000000</td>\n",
       "    </tr>\n",
       "    <tr>\n",
       "      <th>39</th>\n",
       "      <td>+0PlX9fbkOLljCIpz6XPLw==</td>\n",
       "      <td>1528800</td>\n",
       "      <td>2</td>\n",
       "      <td>3</td>\n",
       "      <td>4</td>\n",
       "      <td>0.000000</td>\n",
       "      <td>0.000000</td>\n",
       "    </tr>\n",
       "    <tr>\n",
       "      <th>...</th>\n",
       "      <td>...</td>\n",
       "      <td>...</td>\n",
       "      <td>...</td>\n",
       "      <td>...</td>\n",
       "      <td>...</td>\n",
       "      <td>...</td>\n",
       "      <td>...</td>\n",
       "    </tr>\n",
       "    <tr>\n",
       "      <th>56085</th>\n",
       "      <td>zyNlyJ683PXoh2J3+EoVzA==</td>\n",
       "      <td>3183000</td>\n",
       "      <td>3</td>\n",
       "      <td>3</td>\n",
       "      <td>3</td>\n",
       "      <td>0.000000</td>\n",
       "      <td>25.455844</td>\n",
       "    </tr>\n",
       "    <tr>\n",
       "      <th>56087</th>\n",
       "      <td>zyW1Qg/kCiCypSrcH8+51A==</td>\n",
       "      <td>2155000</td>\n",
       "      <td>2</td>\n",
       "      <td>7</td>\n",
       "      <td>0</td>\n",
       "      <td>0.000000</td>\n",
       "      <td>0.000000</td>\n",
       "    </tr>\n",
       "    <tr>\n",
       "      <th>56099</th>\n",
       "      <td>zzWZd4QWwB0L4Un+lgk/Wg==</td>\n",
       "      <td>4981000</td>\n",
       "      <td>3</td>\n",
       "      <td>0</td>\n",
       "      <td>2</td>\n",
       "      <td>0.000000</td>\n",
       "      <td>14.142136</td>\n",
       "    </tr>\n",
       "    <tr>\n",
       "      <th>56100</th>\n",
       "      <td>zzZseLwyCpzXFtpz4on05Q==</td>\n",
       "      <td>1560000</td>\n",
       "      <td>3</td>\n",
       "      <td>6</td>\n",
       "      <td>2</td>\n",
       "      <td>0.000000</td>\n",
       "      <td>27.568098</td>\n",
       "    </tr>\n",
       "    <tr>\n",
       "      <th>56103</th>\n",
       "      <td>zzyk3mGNsGD2omR8D+znPA==</td>\n",
       "      <td>5935000</td>\n",
       "      <td>3</td>\n",
       "      <td>0</td>\n",
       "      <td>5</td>\n",
       "      <td>3.464102</td>\n",
       "      <td>89.095454</td>\n",
       "    </tr>\n",
       "  </tbody>\n",
       "</table>\n",
       "<p>10575 rows × 7 columns</p>\n",
       "</div>"
      ],
      "text/plain": [
       "                        user_id  Monetary  Frequency  Recency  Length  \\\n",
       "7      ++aFMHHDKluZF2DJXQ4VVg==    880000          2        5       2   \n",
       "8      ++fz+vTHQnkgPIU4nFLwqg==   7021000          2        0       0   \n",
       "14     +/4x52C5GE58tU5a4oiIoA==  19120000          3        1       3   \n",
       "38     +0NLplvuXBK8B57SSP/BPw==   7290000          2        0       0   \n",
       "39     +0PlX9fbkOLljCIpz6XPLw==   1528800          2        3       4   \n",
       "...                         ...       ...        ...      ...     ...   \n",
       "56085  zyNlyJ683PXoh2J3+EoVzA==   3183000          3        3       3   \n",
       "56087  zyW1Qg/kCiCypSrcH8+51A==   2155000          2        7       0   \n",
       "56099  zzWZd4QWwB0L4Un+lgk/Wg==   4981000          3        0       2   \n",
       "56100  zzZseLwyCpzXFtpz4on05Q==   1560000          3        6       2   \n",
       "56103  zzyk3mGNsGD2omR8D+znPA==   5935000          3        0       5   \n",
       "\n",
       "       Periodicity_day  Periodicity_hour  \n",
       "7             0.000000          0.000000  \n",
       "8             0.000000          0.000000  \n",
       "14            0.000000          7.071068  \n",
       "38            0.000000          0.000000  \n",
       "39            0.000000          0.000000  \n",
       "...                ...               ...  \n",
       "56085         0.000000         25.455844  \n",
       "56087         0.000000          0.000000  \n",
       "56099         0.000000         14.142136  \n",
       "56100         0.000000         27.568098  \n",
       "56103         3.464102         89.095454  \n",
       "\n",
       "[10575 rows x 7 columns]"
      ]
     },
     "execution_count": 29,
     "metadata": {},
     "output_type": "execute_result"
    }
   ],
   "source": [
    "rfm[rfm['Frequency']!=1]"
   ]
  },
  {
   "cell_type": "code",
   "execution_count": 30,
   "metadata": {},
   "outputs": [
    {
     "data": {
      "text/plain": [
       "(56104, 7)"
      ]
     },
     "execution_count": 30,
     "metadata": {},
     "output_type": "execute_result"
    }
   ],
   "source": [
    "rfm.shape"
   ]
  },
  {
   "cell_type": "code",
   "execution_count": 31,
   "metadata": {},
   "outputs": [],
   "source": [
    "attributes = ['Frequency','Recency','Length','Periodicity_day']"
   ]
  },
  {
   "cell_type": "code",
   "execution_count": 32,
   "metadata": {},
   "outputs": [
    {
     "data": {
      "text/plain": [
       "Text(0.5, 0, 'Attributes')"
      ]
     },
     "execution_count": 32,
     "metadata": {},
     "output_type": "execute_result"
    },
    {
     "data": {
      "image/png": "[encoded data removed]",
      "text/plain": [
       "<Figure size 720x576 with 1 Axes>"
      ]
     },
     "metadata": {
      "needs_background": "light"
     },
     "output_type": "display_data"
    }
   ],
   "source": [
    "# Outlier Analysis of Amount Frequency and Recency\n",
    "\n",
    "\n",
    "plt.rcParams['figure.figsize'] = [10,8]\n",
    "sns.boxplot(data = rfm[attributes], orient=\"v\", palette=\"Set2\" ,whis=1.5,saturation=1, width=0.7)\n",
    "plt.title(\"Outliers Variable Distribution\", fontsize = 14, fontweight = 'bold')\n",
    "plt.ylabel(\"Range\", fontweight = 'bold')\n",
    "plt.xlabel(\"Attributes\", fontweight = 'bold')"
   ]
  },
  {
   "cell_type": "code",
   "execution_count": 64,
   "metadata": {},
   "outputs": [],
   "source": [
    "# Removing (statistical) outliers for attribute\n",
    "all_attributes = ['Monetary','Frequency','Recency','Length','Periodicity_day']\n",
    "for attribute in all_attributes:\n",
    "    Q1 = rfm[attribute].quantile(0.05)\n",
    "    Q3 = rfm[attribute].quantile(0.95)\n",
    "    IQR = Q3 - Q1\n",
    "    rfm = rfm[(rfm[attribute] >= Q1 - 1.5*IQR) & (rfm[attribute] <= Q3 + 1.5*IQR)]"
   ]
  },
  {
   "cell_type": "code",
   "execution_count": 65,
   "metadata": {},
   "outputs": [
    {
     "data": {
      "text/plain": [
       "array([2, 3, 4, 5, 6], dtype=int64)"
      ]
     },
     "execution_count": 65,
     "metadata": {},
     "output_type": "execute_result"
    }
   ],
   "source": [
    "rfm['Frequency'].unique()"
   ]
  },
  {
   "cell_type": "code",
   "execution_count": 66,
   "metadata": {},
   "outputs": [],
   "source": [
    "rfm_df = rfm[attributes]"
   ]
  },
  {
   "cell_type": "code",
   "execution_count": 67,
   "metadata": {},
   "outputs": [
    {
     "data": {
      "text/html": [
       "<div>\n",
       "<style scoped>\n",
       "    .dataframe tbody tr th:only-of-type {\n",
       "        vertical-align: middle;\n",
       "    }\n",
       "\n",
       "    .dataframe tbody tr th {\n",
       "        vertical-align: top;\n",
       "    }\n",
       "\n",
       "    .dataframe thead th {\n",
       "        text-align: right;\n",
       "    }\n",
       "</style>\n",
       "<table border=\"1\" class=\"dataframe\">\n",
       "  <thead>\n",
       "    <tr style=\"text-align: right;\">\n",
       "      <th></th>\n",
       "      <th>Frequency</th>\n",
       "      <th>Recency</th>\n",
       "      <th>Length</th>\n",
       "      <th>Periodicity_day</th>\n",
       "    </tr>\n",
       "  </thead>\n",
       "  <tbody>\n",
       "    <tr>\n",
       "      <th>7</th>\n",
       "      <td>2</td>\n",
       "      <td>5</td>\n",
       "      <td>2</td>\n",
       "      <td>0.000000</td>\n",
       "    </tr>\n",
       "    <tr>\n",
       "      <th>8</th>\n",
       "      <td>2</td>\n",
       "      <td>0</td>\n",
       "      <td>0</td>\n",
       "      <td>0.000000</td>\n",
       "    </tr>\n",
       "    <tr>\n",
       "      <th>14</th>\n",
       "      <td>3</td>\n",
       "      <td>1</td>\n",
       "      <td>3</td>\n",
       "      <td>0.000000</td>\n",
       "    </tr>\n",
       "    <tr>\n",
       "      <th>38</th>\n",
       "      <td>2</td>\n",
       "      <td>0</td>\n",
       "      <td>0</td>\n",
       "      <td>0.000000</td>\n",
       "    </tr>\n",
       "    <tr>\n",
       "      <th>39</th>\n",
       "      <td>2</td>\n",
       "      <td>3</td>\n",
       "      <td>4</td>\n",
       "      <td>0.000000</td>\n",
       "    </tr>\n",
       "    <tr>\n",
       "      <th>...</th>\n",
       "      <td>...</td>\n",
       "      <td>...</td>\n",
       "      <td>...</td>\n",
       "      <td>...</td>\n",
       "    </tr>\n",
       "    <tr>\n",
       "      <th>56085</th>\n",
       "      <td>3</td>\n",
       "      <td>3</td>\n",
       "      <td>3</td>\n",
       "      <td>0.000000</td>\n",
       "    </tr>\n",
       "    <tr>\n",
       "      <th>56087</th>\n",
       "      <td>2</td>\n",
       "      <td>7</td>\n",
       "      <td>0</td>\n",
       "      <td>0.000000</td>\n",
       "    </tr>\n",
       "    <tr>\n",
       "      <th>56099</th>\n",
       "      <td>3</td>\n",
       "      <td>0</td>\n",
       "      <td>2</td>\n",
       "      <td>0.000000</td>\n",
       "    </tr>\n",
       "    <tr>\n",
       "      <th>56100</th>\n",
       "      <td>3</td>\n",
       "      <td>6</td>\n",
       "      <td>2</td>\n",
       "      <td>0.000000</td>\n",
       "    </tr>\n",
       "    <tr>\n",
       "      <th>56103</th>\n",
       "      <td>3</td>\n",
       "      <td>0</td>\n",
       "      <td>5</td>\n",
       "      <td>3.464102</td>\n",
       "    </tr>\n",
       "  </tbody>\n",
       "</table>\n",
       "<p>10127 rows × 4 columns</p>\n",
       "</div>"
      ],
      "text/plain": [
       "       Frequency  Recency  Length  Periodicity_day\n",
       "7              2        5       2         0.000000\n",
       "8              2        0       0         0.000000\n",
       "14             3        1       3         0.000000\n",
       "38             2        0       0         0.000000\n",
       "39             2        3       4         0.000000\n",
       "...          ...      ...     ...              ...\n",
       "56085          3        3       3         0.000000\n",
       "56087          2        7       0         0.000000\n",
       "56099          3        0       2         0.000000\n",
       "56100          3        6       2         0.000000\n",
       "56103          3        0       5         3.464102\n",
       "\n",
       "[10127 rows x 4 columns]"
      ]
     },
     "execution_count": 67,
     "metadata": {},
     "output_type": "execute_result"
    }
   ],
   "source": [
    "rfm_df"
   ]
  },
  {
   "cell_type": "code",
   "execution_count": 68,
   "metadata": {},
   "outputs": [],
   "source": [
    "attributes = ['Frequency','Recency','Length','Periodicity_day']"
   ]
  },
  {
   "cell_type": "code",
   "execution_count": 69,
   "metadata": {},
   "outputs": [
    {
     "data": {
      "text/plain": [
       "Text(0.5, 0, 'Attributes')"
      ]
     },
     "execution_count": 69,
     "metadata": {},
     "output_type": "execute_result"
    },
    {
     "data": {
      "image/png": "[encoded data removed]",
      "text/plain": [
       "<Figure size 720x576 with 1 Axes>"
      ]
     },
     "metadata": {},
     "output_type": "display_data"
    }
   ],
   "source": [
    "plt.rcParams['figure.figsize'] = [10,8]\n",
    "sns.boxplot(data = rfm_df[attributes], orient=\"v\", palette=\"Set2\" ,whis=1.5,saturation=1, width=0.7)\n",
    "plt.title(\"Remove Outliers Variable Distribution\", fontsize = 14, fontweight = 'bold')\n",
    "plt.ylabel(\"Range\", fontweight = 'bold')\n",
    "plt.xlabel(\"Attributes\", fontweight = 'bold')"
   ]
  },
  {
   "cell_type": "code",
   "execution_count": 39,
   "metadata": {},
   "outputs": [
    {
     "data": {
      "text/plain": [
       "(10252, 4)"
      ]
     },
     "execution_count": 39,
     "metadata": {},
     "output_type": "execute_result"
    }
   ],
   "source": [
    "# Instantiate\n",
    "scaler = StandardScaler()\n",
    "\n",
    "# fit_transform\n",
    "rfm_df_scaled = scaler.fit_transform(rfm_df)\n",
    "rfm_df_scaled.shape"
   ]
  },
  {
   "cell_type": "code",
   "execution_count": 40,
   "metadata": {},
   "outputs": [
    {
     "data": {
      "text/html": [
       "<div>\n",
       "<style scoped>\n",
       "    .dataframe tbody tr th:only-of-type {\n",
       "        vertical-align: middle;\n",
       "    }\n",
       "\n",
       "    .dataframe tbody tr th {\n",
       "        vertical-align: top;\n",
       "    }\n",
       "\n",
       "    .dataframe thead th {\n",
       "        text-align: right;\n",
       "    }\n",
       "</style>\n",
       "<table border=\"1\" class=\"dataframe\">\n",
       "  <thead>\n",
       "    <tr style=\"text-align: right;\">\n",
       "      <th></th>\n",
       "      <th>Frequency</th>\n",
       "      <th>Recency</th>\n",
       "      <th>Length</th>\n",
       "      <th>Periodicity_day</th>\n",
       "    </tr>\n",
       "  </thead>\n",
       "  <tbody>\n",
       "    <tr>\n",
       "      <th>0</th>\n",
       "      <td>-0.544737</td>\n",
       "      <td>1.167587</td>\n",
       "      <td>-0.212872</td>\n",
       "      <td>-0.396312</td>\n",
       "    </tr>\n",
       "    <tr>\n",
       "      <th>1</th>\n",
       "      <td>-0.544737</td>\n",
       "      <td>-1.075013</td>\n",
       "      <td>-1.076318</td>\n",
       "      <td>-0.396312</td>\n",
       "    </tr>\n",
       "    <tr>\n",
       "      <th>2</th>\n",
       "      <td>0.606024</td>\n",
       "      <td>-0.626493</td>\n",
       "      <td>0.218851</td>\n",
       "      <td>-0.396312</td>\n",
       "    </tr>\n",
       "    <tr>\n",
       "      <th>3</th>\n",
       "      <td>-0.544737</td>\n",
       "      <td>-1.075013</td>\n",
       "      <td>-1.076318</td>\n",
       "      <td>-0.396312</td>\n",
       "    </tr>\n",
       "    <tr>\n",
       "      <th>4</th>\n",
       "      <td>-0.544737</td>\n",
       "      <td>0.270547</td>\n",
       "      <td>0.650574</td>\n",
       "      <td>-0.396312</td>\n",
       "    </tr>\n",
       "  </tbody>\n",
       "</table>\n",
       "</div>"
      ],
      "text/plain": [
       "   Frequency   Recency    Length  Periodicity_day\n",
       "0  -0.544737  1.167587 -0.212872        -0.396312\n",
       "1  -0.544737 -1.075013 -1.076318        -0.396312\n",
       "2   0.606024 -0.626493  0.218851        -0.396312\n",
       "3  -0.544737 -1.075013 -1.076318        -0.396312\n",
       "4  -0.544737  0.270547  0.650574        -0.396312"
      ]
     },
     "execution_count": 40,
     "metadata": {},
     "output_type": "execute_result"
    }
   ],
   "source": [
    "rfm_df_scaled = pd.DataFrame(rfm_df_scaled)\n",
    "rfm_df_scaled.columns = attributes\n",
    "rfm_df_scaled.head()"
   ]
  },
  {
   "cell_type": "code",
   "execution_count": 41,
   "metadata": {},
   "outputs": [
    {
     "data": {
      "text/plain": [
       "(10252, 4)"
      ]
     },
     "execution_count": 41,
     "metadata": {},
     "output_type": "execute_result"
    }
   ],
   "source": [
    "rfm_df_scaled.shape"
   ]
  },
  {
   "cell_type": "markdown",
   "metadata": {},
   "source": [
    "## Step 3 : Building the Model"
   ]
  },
  {
   "cell_type": "code",
   "execution_count": 42,
   "metadata": {},
   "outputs": [],
   "source": [
    "distortions = []\n",
    "K = range(1,6)\n",
    "for k in K:\n",
    "    kmeanModel =  KMeans(n_clusters=k, max_iter=50)\n",
    "    kmeanModel.fit(rfm_df_scaled)\n",
    "    distortions.append(kmeanModel.inertia_)"
   ]
  },
  {
   "cell_type": "code",
   "execution_count": 43,
   "metadata": {},
   "outputs": [
    {
     "data": {
      "image/png": "[encoded data removed]",
      "text/plain": [
       "<Figure size 576x360 with 1 Axes>"
      ]
     },
     "metadata": {
      "needs_background": "light"
     },
     "output_type": "display_data"
    }
   ],
   "source": [
    "plt.figure(figsize=(8,5))\n",
    "plt.plot(K, distortions, 'bx-')\n",
    "plt.xlabel('k')\n",
    "plt.ylabel('Distortion')\n",
    "plt.title('The Elbow Method showing the optimal k')\n",
    "plt.show()"
   ]
  },
  {
   "cell_type": "code",
   "execution_count": 44,
   "metadata": {},
   "outputs": [
    {
     "data": {
      "image/png": "[encoded data removed]",
      "text/plain": [
       "<Figure size 1080x1080 with 4 Axes>"
      ]
     },
     "metadata": {},
     "output_type": "display_data"
    }
   ],
   "source": [
    "from yellowbrick.cluster import SilhouetteVisualizer\n",
    " \n",
    "fig, ax = plt.subplots(2, 2, figsize=(15,15))\n",
    "for i in range(2,6):\n",
    "    '''\n",
    "    Create KMeans instance for different number of clusters\n",
    "    '''\n",
    "    km = KMeans(n_clusters=i, init='k-means++', n_init=10, max_iter=100, random_state=42)\n",
    "    q, mod = divmod(i, 2)\n",
    "    '''\n",
    "    Create SilhouetteVisualizer instance with KMeans instance\n",
    "    Fit the visualizer\n",
    "    '''\n",
    "    visualizer = SilhouetteVisualizer(km, colors='yellowbrick', ax=ax[q-1][mod])\n",
    "    visualizer.fit(rfm_df_scaled) "
   ]
  },
  {
   "cell_type": "code",
   "execution_count": null,
   "metadata": {},
   "outputs": [],
   "source": []
  },
  {
   "cell_type": "code",
   "execution_count": null,
   "metadata": {},
   "outputs": [],
   "source": []
  },
  {
   "cell_type": "code",
   "execution_count": 45,
   "metadata": {},
   "outputs": [
    {
     "data": {
      "text/html": [
       "<style>#sk-container-id-1 {color: black;background-color: white;}#sk-container-id-1 pre{padding: 0;}#sk-container-id-1 div.sk-toggleable {background-color: white;}#sk-container-id-1 label.sk-toggleable__label {cursor: pointer;display: block;width: 100%;margin-bottom: 0;padding: 0.3em;box-sizing: border-box;text-align: center;}#sk-container-id-1 label.sk-toggleable__label-arrow:before {content: \"▸\";float: left;margin-right: 0.25em;color: #696969;}#sk-container-id-1 label.sk-toggleable__label-arrow:hover:before {color: black;}#sk-container-id-1 div.sk-estimator:hover label.sk-toggleable__label-arrow:before {color: black;}#sk-container-id-1 div.sk-toggleable__content {max-height: 0;max-width: 0;overflow: hidden;text-align: left;background-color: #f0f8ff;}#sk-container-id-1 div.sk-toggleable__content pre {margin: 0.2em;color: black;border-radius: 0.25em;background-color: #f0f8ff;}#sk-container-id-1 input.sk-toggleable__control:checked~div.sk-toggleable__content {max-height: 200px;max-width: 100%;overflow: auto;}#sk-container-id-1 input.sk-toggleable__control:checked~label.sk-toggleable__label-arrow:before {content: \"▾\";}#sk-container-id-1 div.sk-estimator input.sk-toggleable__control:checked~label.sk-toggleable__label {background-color: #d4ebff;}#sk-container-id-1 div.sk-label input.sk-toggleable__control:checked~label.sk-toggleable__label {background-color: #d4ebff;}#sk-container-id-1 input.sk-hidden--visually {border: 0;clip: rect(1px 1px 1px 1px);clip: rect(1px, 1px, 1px, 1px);height: 1px;margin: -1px;overflow: hidden;padding: 0;position: absolute;width: 1px;}#sk-container-id-1 div.sk-estimator {font-family: monospace;background-color: #f0f8ff;border: 1px dotted black;border-radius: 0.25em;box-sizing: border-box;margin-bottom: 0.5em;}#sk-container-id-1 div.sk-estimator:hover {background-color: #d4ebff;}#sk-container-id-1 div.sk-parallel-item::after {content: \"\";width: 100%;border-bottom: 1px solid gray;flex-grow: 1;}#sk-container-id-1 div.sk-label:hover label.sk-toggleable__label {background-color: #d4ebff;}#sk-container-id-1 div.sk-serial::before {content: \"\";position: absolute;border-left: 1px solid gray;box-sizing: border-box;top: 0;bottom: 0;left: 50%;z-index: 0;}#sk-container-id-1 div.sk-serial {display: flex;flex-direction: column;align-items: center;background-color: white;padding-right: 0.2em;padding-left: 0.2em;position: relative;}#sk-container-id-1 div.sk-item {position: relative;z-index: 1;}#sk-container-id-1 div.sk-parallel {display: flex;align-items: stretch;justify-content: center;background-color: white;position: relative;}#sk-container-id-1 div.sk-item::before, #sk-container-id-1 div.sk-parallel-item::before {content: \"\";position: absolute;border-left: 1px solid gray;box-sizing: border-box;top: 0;bottom: 0;left: 50%;z-index: -1;}#sk-container-id-1 div.sk-parallel-item {display: flex;flex-direction: column;z-index: 1;position: relative;background-color: white;}#sk-container-id-1 div.sk-parallel-item:first-child::after {align-self: flex-end;width: 50%;}#sk-container-id-1 div.sk-parallel-item:last-child::after {align-self: flex-start;width: 50%;}#sk-container-id-1 div.sk-parallel-item:only-child::after {width: 0;}#sk-container-id-1 div.sk-dashed-wrapped {border: 1px dashed gray;margin: 0 0.4em 0.5em 0.4em;box-sizing: border-box;padding-bottom: 0.4em;background-color: white;}#sk-container-id-1 div.sk-label label {font-family: monospace;font-weight: bold;display: inline-block;line-height: 1.2em;}#sk-container-id-1 div.sk-label-container {text-align: center;}#sk-container-id-1 div.sk-container {/* jupyter's `normalize.less` sets `[hidden] { display: none; }` but bootstrap.min.css set `[hidden] { display: none !important; }` so we also need the `!important` here to be able to override the default hidden behavior on the sphinx rendered scikit-learn.org. See: https://github.com/scikit-learn/scikit-learn/issues/21755 */display: inline-block !important;position: relative;}#sk-container-id-1 div.sk-text-repr-fallback {display: none;}</style><div id=\"sk-container-id-1\" class=\"sk-top-container\"><div class=\"sk-text-repr-fallback\"><pre>KMeans(max_iter=50, n_clusters=3)</pre><b>In a Jupyter environment, please rerun this cell to show the HTML representation or trust the notebook. <br />On GitHub, the HTML representation is unable to render, please try loading this page with nbviewer.org.</b></div><div class=\"sk-container\" hidden><div class=\"sk-item\"><div class=\"sk-estimator sk-toggleable\"><input class=\"sk-toggleable__control sk-hidden--visually\" id=\"sk-estimator-id-1\" type=\"checkbox\" checked><label for=\"sk-estimator-id-1\" class=\"sk-toggleable__label sk-toggleable__label-arrow\">KMeans</label><div class=\"sk-toggleable__content\"><pre>KMeans(max_iter=50, n_clusters=3)</pre></div></div></div></div></div>"
      ],
      "text/plain": [
       "KMeans(max_iter=50, n_clusters=3)"
      ]
     },
     "execution_count": 45,
     "metadata": {},
     "output_type": "execute_result"
    }
   ],
   "source": [
    "# k-means with some arbitrary k\n",
    "\n",
    "kmeans = KMeans(n_clusters=3, max_iter=50)\n",
    "kmeans.fit(rfm_df_scaled)"
   ]
  },
  {
   "cell_type": "code",
   "execution_count": 46,
   "metadata": {},
   "outputs": [
    {
     "data": {
      "text/plain": [
       "array([2, 0, 0, ..., 0, 2, 1])"
      ]
     },
     "execution_count": 46,
     "metadata": {},
     "output_type": "execute_result"
    }
   ],
   "source": [
    "kmeans.labels_"
   ]
  },
  {
   "cell_type": "code",
   "execution_count": 47,
   "metadata": {},
   "outputs": [
    {
     "data": {
      "text/html": [
       "<div>\n",
       "<style scoped>\n",
       "    .dataframe tbody tr th:only-of-type {\n",
       "        vertical-align: middle;\n",
       "    }\n",
       "\n",
       "    .dataframe tbody tr th {\n",
       "        vertical-align: top;\n",
       "    }\n",
       "\n",
       "    .dataframe thead th {\n",
       "        text-align: right;\n",
       "    }\n",
       "</style>\n",
       "<table border=\"1\" class=\"dataframe\">\n",
       "  <thead>\n",
       "    <tr style=\"text-align: right;\">\n",
       "      <th></th>\n",
       "      <th>user_id</th>\n",
       "      <th>Monetary</th>\n",
       "      <th>Frequency</th>\n",
       "      <th>Recency</th>\n",
       "      <th>Length</th>\n",
       "      <th>Periodicity_day</th>\n",
       "      <th>Periodicity_hour</th>\n",
       "      <th>Cluster_Id</th>\n",
       "    </tr>\n",
       "  </thead>\n",
       "  <tbody>\n",
       "    <tr>\n",
       "      <th>7</th>\n",
       "      <td>++aFMHHDKluZF2DJXQ4VVg==</td>\n",
       "      <td>880000</td>\n",
       "      <td>2</td>\n",
       "      <td>5</td>\n",
       "      <td>2</td>\n",
       "      <td>0.0</td>\n",
       "      <td>0.000000</td>\n",
       "      <td>2</td>\n",
       "    </tr>\n",
       "    <tr>\n",
       "      <th>8</th>\n",
       "      <td>++fz+vTHQnkgPIU4nFLwqg==</td>\n",
       "      <td>7021000</td>\n",
       "      <td>2</td>\n",
       "      <td>0</td>\n",
       "      <td>0</td>\n",
       "      <td>0.0</td>\n",
       "      <td>0.000000</td>\n",
       "      <td>0</td>\n",
       "    </tr>\n",
       "    <tr>\n",
       "      <th>14</th>\n",
       "      <td>+/4x52C5GE58tU5a4oiIoA==</td>\n",
       "      <td>19120000</td>\n",
       "      <td>3</td>\n",
       "      <td>1</td>\n",
       "      <td>3</td>\n",
       "      <td>0.0</td>\n",
       "      <td>7.071068</td>\n",
       "      <td>0</td>\n",
       "    </tr>\n",
       "    <tr>\n",
       "      <th>38</th>\n",
       "      <td>+0NLplvuXBK8B57SSP/BPw==</td>\n",
       "      <td>7290000</td>\n",
       "      <td>2</td>\n",
       "      <td>0</td>\n",
       "      <td>0</td>\n",
       "      <td>0.0</td>\n",
       "      <td>0.000000</td>\n",
       "      <td>0</td>\n",
       "    </tr>\n",
       "    <tr>\n",
       "      <th>39</th>\n",
       "      <td>+0PlX9fbkOLljCIpz6XPLw==</td>\n",
       "      <td>1528800</td>\n",
       "      <td>2</td>\n",
       "      <td>3</td>\n",
       "      <td>4</td>\n",
       "      <td>0.0</td>\n",
       "      <td>0.000000</td>\n",
       "      <td>0</td>\n",
       "    </tr>\n",
       "  </tbody>\n",
       "</table>\n",
       "</div>"
      ],
      "text/plain": [
       "                     user_id  Monetary  Frequency  Recency  Length  \\\n",
       "7   ++aFMHHDKluZF2DJXQ4VVg==    880000          2        5       2   \n",
       "8   ++fz+vTHQnkgPIU4nFLwqg==   7021000          2        0       0   \n",
       "14  +/4x52C5GE58tU5a4oiIoA==  19120000          3        1       3   \n",
       "38  +0NLplvuXBK8B57SSP/BPw==   7290000          2        0       0   \n",
       "39  +0PlX9fbkOLljCIpz6XPLw==   1528800          2        3       4   \n",
       "\n",
       "    Periodicity_day  Periodicity_hour  Cluster_Id  \n",
       "7               0.0          0.000000           2  \n",
       "8               0.0          0.000000           0  \n",
       "14              0.0          7.071068           0  \n",
       "38              0.0          0.000000           0  \n",
       "39              0.0          0.000000           0  "
      ]
     },
     "execution_count": 47,
     "metadata": {},
     "output_type": "execute_result"
    }
   ],
   "source": [
    "rfm['Cluster_Id'] = kmeans.labels_\n",
    "rfm.head()"
   ]
  },
  {
   "cell_type": "code",
   "execution_count": 48,
   "metadata": {},
   "outputs": [
    {
     "data": {
      "image/png": "[encoded data removed]",
      "text/plain": [
       "<Figure size 576x396 with 1 Axes>"
      ]
     },
     "metadata": {},
     "output_type": "display_data"
    }
   ],
   "source": [
    "# Box plot to visualize Cluster Id vs Monetary\n",
    "\n",
    "# fig, ax = plt.subplots(2, 1, figsize=(15,8))\n",
    "ax[0] = sns.boxplot(x='Cluster_Id', y='Monetary', data=rfm)\n",
    "\n"
   ]
  },
  {
   "cell_type": "code",
   "execution_count": 49,
   "metadata": {},
   "outputs": [
    {
     "data": {
      "text/plain": [
       "<AxesSubplot:xlabel='Cluster_Id', ylabel='Monetary'>"
      ]
     },
     "execution_count": 49,
     "metadata": {},
     "output_type": "execute_result"
    },
    {
     "data": {
      "image/png": "[encoded data removed]",
      "text/plain": [
       "<Figure size 576x396 with 1 Axes>"
      ]
     },
     "metadata": {},
     "output_type": "display_data"
    }
   ],
   "source": [
    "sns.set_style('whitegrid')\n",
    "sns.boxplot(x='Cluster_Id',y='Monetary',data=rfm )\n",
    "sns.stripplot(x=\"Cluster_Id\", y=\"Monetary\",data=rfm,   alpha=0.2 )"
   ]
  },
  {
   "cell_type": "code",
   "execution_count": 50,
   "metadata": {},
   "outputs": [
    {
     "data": {
      "text/plain": [
       "<AxesSubplot:xlabel='Cluster_Id', ylabel='Frequency'>"
      ]
     },
     "execution_count": 50,
     "metadata": {},
     "output_type": "execute_result"
    },
    {
     "data": {
      "image/png": "[encoded data removed]",
      "text/plain": [
       "<Figure size 576x396 with 1 Axes>"
      ]
     },
     "metadata": {},
     "output_type": "display_data"
    }
   ],
   "source": [
    "# Box plot to visualize Cluster Id vs Frequency\n",
    "# fig, ax = plt.subplots(1, 2, figsize=(15,8))\n",
    "sns.boxplot(x='Cluster_Id', y='Frequency', data=rfm )"
   ]
  },
  {
   "cell_type": "code",
   "execution_count": 51,
   "metadata": {},
   "outputs": [
    {
     "data": {
      "image/png": "[encoded data removed]",
      "text/plain": [
       "<Figure size 576x396 with 1 Axes>"
      ]
     },
     "metadata": {},
     "output_type": "display_data"
    }
   ],
   "source": [
    "sns.set_style('whitegrid')\n",
    "ax[1]= sns.boxplot(x='Cluster_Id',y='Frequency',data=rfm )\n",
    "ax[1]= sns.stripplot(x=\"Cluster_Id\", y=\"Frequency\",data=rfm, alpha=0.2)"
   ]
  },
  {
   "cell_type": "code",
   "execution_count": 52,
   "metadata": {},
   "outputs": [
    {
     "data": {
      "image/png": "[encoded data removed]",
      "text/plain": [
       "<Figure size 1080x576 with 2 Axes>"
      ]
     },
     "metadata": {},
     "output_type": "display_data"
    }
   ],
   "source": [
    "# Box plot to visualize Cluster Id vs Length\n",
    "fig, ax = plt.subplots(1, 2, figsize=(15,8))\n",
    "\n",
    "sns.boxplot(x='Cluster_Id', y='Length', data=rfm, ax=ax[0])\n",
    "\n",
    "sns.set_style('whitegrid')\n",
    "ax[1]= sns.boxplot(x='Cluster_Id',y='Length',data=rfm ,ax=ax[1])\n",
    "ax[1]= sns.stripplot(x=\"Cluster_Id\", y=\"Length\",data=rfm, ax=ax[1],alpha=0.2)"
   ]
  },
  {
   "cell_type": "code",
   "execution_count": 53,
   "metadata": {},
   "outputs": [
    {
     "data": {
      "image/png": "[encoded data removed]",
      "text/plain": [
       "<Figure size 576x396 with 1 Axes>"
      ]
     },
     "metadata": {},
     "output_type": "display_data"
    }
   ],
   "source": [
    "sns.set_style('whitegrid')\n",
    "ax[1]= sns.boxplot(x='Cluster_Id',y='Length',data=rfm )\n",
    "ax[1]= sns.stripplot(x=\"Cluster_Id\", y=\"Length\",data=rfm, alpha=0.2)"
   ]
  },
  {
   "cell_type": "code",
   "execution_count": null,
   "metadata": {},
   "outputs": [],
   "source": []
  },
  {
   "cell_type": "code",
   "execution_count": 54,
   "metadata": {},
   "outputs": [
    {
     "data": {
      "image/png": "[encoded data removed]",
      "text/plain": [
       "<Figure size 1080x576 with 2 Axes>"
      ]
     },
     "metadata": {},
     "output_type": "display_data"
    }
   ],
   "source": [
    "# Box plot to visualize Cluster Id vs Periodicity_day\n",
    "fig, ax = plt.subplots(1, 2, figsize=(15,8))\n",
    "\n",
    "sns.boxplot(x='Cluster_Id', y='Periodicity_day', data=rfm, ax=ax[0])\n",
    "\n",
    "sns.set_style('whitegrid')\n",
    "ax[1]= sns.boxplot(x='Cluster_Id',y='Periodicity_day',data=rfm ,ax=ax[1])\n",
    "ax[1]= sns.stripplot(x=\"Cluster_Id\", y=\"Periodicity_day\",data=rfm, ax=ax[1],alpha=0.2)"
   ]
  },
  {
   "cell_type": "code",
   "execution_count": 55,
   "metadata": {},
   "outputs": [
    {
     "data": {
      "image/png": "[encoded data removed]",
      "text/plain": [
       "<Figure size 576x396 with 1 Axes>"
      ]
     },
     "metadata": {},
     "output_type": "display_data"
    }
   ],
   "source": [
    "sns.set_style('whitegrid')\n",
    "ax[1]= sns.boxplot(x='Cluster_Id',y='Periodicity_day',data=rfm ,)\n",
    "ax[1]= sns.stripplot(x=\"Cluster_Id\", y=\"Periodicity_day\",data=rfm, alpha=0.2)"
   ]
  },
  {
   "cell_type": "code",
   "execution_count": 56,
   "metadata": {},
   "outputs": [
    {
     "data": {
      "image/png": "[encoded data removed]",
      "text/plain": [
       "<Figure size 1080x576 with 2 Axes>"
      ]
     },
     "metadata": {},
     "output_type": "display_data"
    }
   ],
   "source": [
    "# Box plot to visualize Cluster Id vs Recency\n",
    "fig, ax = plt.subplots(1, 2, figsize=(15,8))\n",
    "\n",
    "sns.boxplot(x='Cluster_Id', y='Recency', data=rfm, ax=ax[0])\n",
    "\n",
    "sns.set_style('whitegrid')\n",
    "ax[1]= sns.boxplot(x='Cluster_Id',y='Recency',data=rfm ,ax=ax[1])\n",
    "ax[1]= sns.stripplot(x=\"Cluster_Id\", y=\"Recency\",data=rfm, ax=ax[1],alpha=0.2)"
   ]
  },
  {
   "cell_type": "code",
   "execution_count": 57,
   "metadata": {},
   "outputs": [
    {
     "data": {
      "image/png": "[encoded data removed]",
      "text/plain": [
       "<Figure size 576x396 with 1 Axes>"
      ]
     },
     "metadata": {},
     "output_type": "display_data"
    }
   ],
   "source": [
    "sns.set_style('whitegrid')\n",
    "ax[1]= sns.boxplot(x='Cluster_Id',y='Recency',data=rfm )\n",
    "ax[1]= sns.stripplot(x=\"Cluster_Id\", y=\"Recency\",data=rfm, alpha=0.2)"
   ]
  },
  {
   "cell_type": "markdown",
   "metadata": {},
   "source": [
    "# HMM CLUSTERING"
   ]
  },
  {
   "cell_type": "code",
   "execution_count": 58,
   "metadata": {},
   "outputs": [],
   "source": [
    "from hmmlearn import hmm\n"
   ]
  },
  {
   "cell_type": "code",
   "execution_count": 59,
   "metadata": {},
   "outputs": [],
   "source": [
    "lrfmp = rfm[['Monetary','Frequency','Recency','Length','Periodicity_day']]"
   ]
  },
  {
   "cell_type": "code",
   "execution_count": 60,
   "metadata": {},
   "outputs": [
    {
     "name": "stderr",
     "output_type": "stream",
     "text": [
      "Even though the 'startprob_' attribute is set, it will be overwritten during initialization because 'init_params' contains 's'\n",
      "Fitting a model with 1062200003 free scalar parameters with only 51260 data points will result in a degenerate solution.\n"
     ]
    },
    {
     "ename": "MemoryError",
     "evalue": "Unable to allocate 7.91 GiB for an array with shape (2, 531100001) and data type float64",
     "output_type": "error",
     "traceback": [
      "\u001b[1;31m---------------------------------------------------------------------------\u001b[0m",
      "\u001b[1;31mMemoryError\u001b[0m                               Traceback (most recent call last)",
      "\u001b[1;32m<ipython-input-60-ec17a7668f23>\u001b[0m in \u001b[0;36m<module>\u001b[1;34m\u001b[0m\n\u001b[0;32m      1\u001b[0m \u001b[0mmodel\u001b[0m \u001b[1;33m=\u001b[0m \u001b[0mhmm\u001b[0m\u001b[1;33m.\u001b[0m\u001b[0mMultinomialHMM\u001b[0m\u001b[1;33m(\u001b[0m\u001b[0mn_components\u001b[0m\u001b[1;33m=\u001b[0m\u001b[1;36m2\u001b[0m\u001b[1;33m,\u001b[0m \u001b[0mn_iter\u001b[0m\u001b[1;33m=\u001b[0m\u001b[1;36m50\u001b[0m\u001b[1;33m,\u001b[0m \u001b[0mtol\u001b[0m\u001b[1;33m=\u001b[0m\u001b[1;36m0.001\u001b[0m\u001b[1;33m)\u001b[0m\u001b[1;33m\u001b[0m\u001b[1;33m\u001b[0m\u001b[0m\n\u001b[0;32m      2\u001b[0m \u001b[0mmodel\u001b[0m\u001b[1;33m.\u001b[0m\u001b[0mstartprob_\u001b[0m\u001b[1;33m=\u001b[0m\u001b[0mnp\u001b[0m\u001b[1;33m.\u001b[0m\u001b[0marray\u001b[0m\u001b[1;33m(\u001b[0m\u001b[1;33m[\u001b[0m\u001b[1;36m0.5\u001b[0m\u001b[1;33m,\u001b[0m \u001b[1;36m0.5\u001b[0m\u001b[1;33m]\u001b[0m\u001b[1;33m)\u001b[0m\u001b[1;33m\u001b[0m\u001b[1;33m\u001b[0m\u001b[0m\n\u001b[1;32m----> 3\u001b[1;33m \u001b[0mmodel\u001b[0m\u001b[1;33m.\u001b[0m\u001b[0mfit\u001b[0m\u001b[1;33m(\u001b[0m\u001b[0mnp\u001b[0m\u001b[1;33m.\u001b[0m\u001b[0marray\u001b[0m\u001b[1;33m(\u001b[0m\u001b[0mlrfmp\u001b[0m\u001b[1;33m.\u001b[0m\u001b[0mastype\u001b[0m\u001b[1;33m(\u001b[0m\u001b[1;34m'int'\u001b[0m\u001b[1;33m)\u001b[0m\u001b[1;33m)\u001b[0m\u001b[1;33m)\u001b[0m\u001b[1;33m\u001b[0m\u001b[1;33m\u001b[0m\u001b[0m\n\u001b[0m",
      "\u001b[1;32m~\\anaconda3\\lib\\site-packages\\hmmlearn\\hmm.py\u001b[0m in \u001b[0;36m<lambda>\u001b[1;34m(*args, **kwargs)\u001b[0m\n\u001b[0;32m    325\u001b[0m     \u001b[1;32melse\u001b[0m\u001b[1;33m:\u001b[0m\u001b[1;33m\u001b[0m\u001b[1;33m\u001b[0m\u001b[0m\n\u001b[0;32m    326\u001b[0m         wrapper = functools.wraps(func)(\n\u001b[1;32m--> 327\u001b[1;33m             lambda *args, **kwargs: func(*args, **kwargs))\n\u001b[0m\u001b[0;32m    328\u001b[0m         wrapper.__doc__ = (\n\u001b[0;32m    329\u001b[0m             \u001b[0mdoc\u001b[0m\u001b[1;33m.\u001b[0m\u001b[0mreplace\u001b[0m\u001b[1;33m(\u001b[0m\u001b[1;34m\"(n_samples, n_features)\"\u001b[0m\u001b[1;33m,\u001b[0m \u001b[1;34m\"(n_samples, 1)\"\u001b[0m\u001b[1;33m)\u001b[0m\u001b[1;33m\u001b[0m\u001b[1;33m\u001b[0m\u001b[0m\n",
      "\u001b[1;32m~\\anaconda3\\lib\\site-packages\\hmmlearn\\base.py\u001b[0m in \u001b[0;36mfit\u001b[1;34m(self, X, lengths)\u001b[0m\n\u001b[0;32m    506\u001b[0m             \u001b[1;32mfor\u001b[0m \u001b[0msub_X\u001b[0m \u001b[1;32min\u001b[0m \u001b[0m_utils\u001b[0m\u001b[1;33m.\u001b[0m\u001b[0msplit_X_lengths\u001b[0m\u001b[1;33m(\u001b[0m\u001b[0mX\u001b[0m\u001b[1;33m,\u001b[0m \u001b[0mlengths\u001b[0m\u001b[1;33m)\u001b[0m\u001b[1;33m:\u001b[0m\u001b[1;33m\u001b[0m\u001b[1;33m\u001b[0m\u001b[0m\n\u001b[0;32m    507\u001b[0m                 \u001b[0mlattice\u001b[0m\u001b[1;33m,\u001b[0m \u001b[0mlog_prob\u001b[0m\u001b[1;33m,\u001b[0m \u001b[0mposteriors\u001b[0m\u001b[1;33m,\u001b[0m \u001b[0mfwdlattice\u001b[0m\u001b[1;33m,\u001b[0m \u001b[0mbwdlattice\u001b[0m \u001b[1;33m=\u001b[0m\u001b[0;31m \u001b[0m\u001b[0;31m\\\u001b[0m\u001b[1;33m\u001b[0m\u001b[1;33m\u001b[0m\u001b[0m\n\u001b[1;32m--> 508\u001b[1;33m                         \u001b[0mimpl\u001b[0m\u001b[1;33m(\u001b[0m\u001b[0msub_X\u001b[0m\u001b[1;33m)\u001b[0m\u001b[1;33m\u001b[0m\u001b[1;33m\u001b[0m\u001b[0m\n\u001b[0m\u001b[0;32m    509\u001b[0m                 \u001b[1;31m# Derived HMM classes will implement the following method to\u001b[0m\u001b[1;33m\u001b[0m\u001b[1;33m\u001b[0m\u001b[1;33m\u001b[0m\u001b[0m\n\u001b[0;32m    510\u001b[0m                 \u001b[1;31m# update their probability distributions, so keep\u001b[0m\u001b[1;33m\u001b[0m\u001b[1;33m\u001b[0m\u001b[1;33m\u001b[0m\u001b[0m\n",
      "\u001b[1;32m~\\anaconda3\\lib\\site-packages\\hmmlearn\\base.py\u001b[0m in \u001b[0;36m_fit_log\u001b[1;34m(self, X)\u001b[0m\n\u001b[0;32m    538\u001b[0m \u001b[1;33m\u001b[0m\u001b[0m\n\u001b[0;32m    539\u001b[0m     \u001b[1;32mdef\u001b[0m \u001b[0m_fit_log\u001b[0m\u001b[1;33m(\u001b[0m\u001b[0mself\u001b[0m\u001b[1;33m,\u001b[0m \u001b[0mX\u001b[0m\u001b[1;33m)\u001b[0m\u001b[1;33m:\u001b[0m\u001b[1;33m\u001b[0m\u001b[1;33m\u001b[0m\u001b[0m\n\u001b[1;32m--> 540\u001b[1;33m         \u001b[0mlog_frameprob\u001b[0m \u001b[1;33m=\u001b[0m \u001b[0mself\u001b[0m\u001b[1;33m.\u001b[0m\u001b[0m_compute_log_likelihood\u001b[0m\u001b[1;33m(\u001b[0m\u001b[0mX\u001b[0m\u001b[1;33m)\u001b[0m\u001b[1;33m\u001b[0m\u001b[1;33m\u001b[0m\u001b[0m\n\u001b[0m\u001b[0;32m    541\u001b[0m         \u001b[0mlog_prob\u001b[0m\u001b[1;33m,\u001b[0m \u001b[0mfwdlattice\u001b[0m \u001b[1;33m=\u001b[0m \u001b[0mself\u001b[0m\u001b[1;33m.\u001b[0m\u001b[0m_do_forward_log_pass\u001b[0m\u001b[1;33m(\u001b[0m\u001b[0mlog_frameprob\u001b[0m\u001b[1;33m)\u001b[0m\u001b[1;33m\u001b[0m\u001b[1;33m\u001b[0m\u001b[0m\n\u001b[0;32m    542\u001b[0m         \u001b[0mbwdlattice\u001b[0m \u001b[1;33m=\u001b[0m \u001b[0mself\u001b[0m\u001b[1;33m.\u001b[0m\u001b[0m_do_backward_log_pass\u001b[0m\u001b[1;33m(\u001b[0m\u001b[0mlog_frameprob\u001b[0m\u001b[1;33m)\u001b[0m\u001b[1;33m\u001b[0m\u001b[1;33m\u001b[0m\u001b[0m\n",
      "\u001b[1;32m~\\anaconda3\\lib\\site-packages\\hmmlearn\\hmm.py\u001b[0m in \u001b[0;36m_compute_log_likelihood\u001b[1;34m(self, X)\u001b[0m\n\u001b[0;32m    461\u001b[0m \u001b[1;33m\u001b[0m\u001b[0m\n\u001b[0;32m    462\u001b[0m     \u001b[1;32mdef\u001b[0m \u001b[0m_compute_log_likelihood\u001b[0m\u001b[1;33m(\u001b[0m\u001b[0mself\u001b[0m\u001b[1;33m,\u001b[0m \u001b[0mX\u001b[0m\u001b[1;33m)\u001b[0m\u001b[1;33m:\u001b[0m\u001b[1;33m\u001b[0m\u001b[1;33m\u001b[0m\u001b[0m\n\u001b[1;32m--> 463\u001b[1;33m         \u001b[1;32mreturn\u001b[0m \u001b[0mlog_mask_zero\u001b[0m\u001b[1;33m(\u001b[0m\u001b[0mself\u001b[0m\u001b[1;33m.\u001b[0m\u001b[0memissionprob_\u001b[0m\u001b[1;33m)\u001b[0m\u001b[1;33m[\u001b[0m\u001b[1;33m:\u001b[0m\u001b[1;33m,\u001b[0m \u001b[0mnp\u001b[0m\u001b[1;33m.\u001b[0m\u001b[0mconcatenate\u001b[0m\u001b[1;33m(\u001b[0m\u001b[0mX\u001b[0m\u001b[1;33m)\u001b[0m\u001b[1;33m]\u001b[0m\u001b[1;33m.\u001b[0m\u001b[0mT\u001b[0m\u001b[1;33m\u001b[0m\u001b[1;33m\u001b[0m\u001b[0m\n\u001b[0m\u001b[0;32m    464\u001b[0m \u001b[1;33m\u001b[0m\u001b[0m\n\u001b[0;32m    465\u001b[0m     \u001b[1;32mdef\u001b[0m \u001b[0m_compute_likelihood\u001b[0m\u001b[1;33m(\u001b[0m\u001b[0mself\u001b[0m\u001b[1;33m,\u001b[0m \u001b[0mX\u001b[0m\u001b[1;33m)\u001b[0m\u001b[1;33m:\u001b[0m\u001b[1;33m\u001b[0m\u001b[1;33m\u001b[0m\u001b[0m\n",
      "\u001b[1;32m~\\anaconda3\\lib\\site-packages\\hmmlearn\\utils.py\u001b[0m in \u001b[0;36mlog_mask_zero\u001b[1;34m(a)\u001b[0m\n\u001b[0;32m     89\u001b[0m     \u001b[0ma\u001b[0m \u001b[1;33m=\u001b[0m \u001b[0mnp\u001b[0m\u001b[1;33m.\u001b[0m\u001b[0masarray\u001b[0m\u001b[1;33m(\u001b[0m\u001b[0ma\u001b[0m\u001b[1;33m)\u001b[0m\u001b[1;33m\u001b[0m\u001b[1;33m\u001b[0m\u001b[0m\n\u001b[0;32m     90\u001b[0m     \u001b[1;32mwith\u001b[0m \u001b[0mnp\u001b[0m\u001b[1;33m.\u001b[0m\u001b[0merrstate\u001b[0m\u001b[1;33m(\u001b[0m\u001b[0mdivide\u001b[0m\u001b[1;33m=\u001b[0m\u001b[1;34m\"ignore\"\u001b[0m\u001b[1;33m)\u001b[0m\u001b[1;33m:\u001b[0m\u001b[1;33m\u001b[0m\u001b[1;33m\u001b[0m\u001b[0m\n\u001b[1;32m---> 91\u001b[1;33m         \u001b[1;32mreturn\u001b[0m \u001b[0mnp\u001b[0m\u001b[1;33m.\u001b[0m\u001b[0mlog\u001b[0m\u001b[1;33m(\u001b[0m\u001b[0ma\u001b[0m\u001b[1;33m)\u001b[0m\u001b[1;33m\u001b[0m\u001b[1;33m\u001b[0m\u001b[0m\n\u001b[0m\u001b[0;32m     92\u001b[0m \u001b[1;33m\u001b[0m\u001b[0m\n\u001b[0;32m     93\u001b[0m \u001b[1;33m\u001b[0m\u001b[0m\n",
      "\u001b[1;31mMemoryError\u001b[0m: Unable to allocate 7.91 GiB for an array with shape (2, 531100001) and data type float64"
     ]
    }
   ],
   "source": [
    "model = hmm.MultinomialHMM(n_components=2, n_iter=50, tol=0.001)\n",
    "model.startprob_=np.array([0.5, 0.5])\n",
    "model.fit(np.array(lrfmp.astype('int')))"
   ]
  },
  {
   "cell_type": "code",
   "execution_count": null,
   "metadata": {},
   "outputs": [],
   "source": [
    "print('startprob', np.round(model.startprob_,3))\n",
    "print('transmat', np.round(model.transmat_,3))\n",
    "print('emissionprob', np.round(model.emissionprob_,3))\n"
   ]
  },
  {
   "cell_type": "code",
   "execution_count": null,
   "metadata": {},
   "outputs": [],
   "source": [
    "print('score', model.score(np.array(lrfmp.astype('int'))))"
   ]
  },
  {
   "cell_type": "code",
   "execution_count": null,
   "metadata": {
    "scrolled": true
   },
   "outputs": [],
   "source": [
    "lrfmp['Frequency'].value_counts()"
   ]
  },
  {
   "cell_type": "code",
   "execution_count": null,
   "metadata": {},
   "outputs": [],
   "source": [
    "from sklearn.preprocessing import StandardScaler\n",
    "scaler = StandardScaler()\n",
    "\n",
    "# fit_transform\n",
    "lrfmp_df_scaled = scaler.fit_transform(lrfmp)\n",
    "lrfmp_df_scaled.shape"
   ]
  },
  {
   "cell_type": "code",
   "execution_count": null,
   "metadata": {},
   "outputs": [],
   "source": [
    "lrfmp_df_scaled = pd.DataFrame(lrfmp_df_scaled)\n",
    "lrfmp_df_scaled.columns = ['Monetary', 'Frequency', 'Recency','Length','Periodicity_day']\n",
    "lrfmp_df_scaled.head()"
   ]
  },
  {
   "cell_type": "code",
   "execution_count": null,
   "metadata": {},
   "outputs": [],
   "source": [
    "from sklearn.metrics import silhouette_score\n",
    "from scipy.cluster.hierarchy import linkage\n",
    "from scipy.cluster.hierarchy import dendrogram\n",
    "mergings = linkage(lrfmp_df_scaled, method=\"complete\", metric='euclidean')\n",
    "# dendrogram(mergings)\n",
    "# plt.show()\n"
   ]
  },
  {
   "cell_type": "code",
   "execution_count": null,
   "metadata": {},
   "outputs": [],
   "source": [
    "from matplotlib import pyplot as plt\n",
    "from sklearn.cluster import AgglomerativeClustering\n",
    "import scipy.cluster.hierarchy as sch\n",
    "model = AgglomerativeClustering(n_clusters=3, affinity='euclidean', linkage='ward')\n",
    "model.fit(lrfmp_df_scaled)\n",
    "labels = model.labels_"
   ]
  },
  {
   "cell_type": "code",
   "execution_count": null,
   "metadata": {},
   "outputs": [],
   "source": [
    "from sklearn.metrics import silhouette_samples, silhouette_score\n",
    "silhouette_avg = silhouette_score(lrfmp_df_scaled, labels)\n",
    "silhouette_avg"
   ]
  },
  {
   "cell_type": "code",
   "execution_count": null,
   "metadata": {},
   "outputs": [],
   "source": [
    "#  #! pip install yellowbrick\n",
    "# from yellowbrick.cluster import SilhouetteVisualizer\n",
    "\n",
    "\n",
    "# fig, ax = plt.subplots(2, 2, figsize=(15,8))\n",
    "# for i in [2, 3, 4, 5]:\n",
    "#     '''\n",
    "#     Create KMeans instance for different number of clusters\n",
    "#     '''\n",
    "#     model = AgglomerativeClustering(n_clusters=3, affinity='euclidean', linkage='ward')\n",
    "#     q, mod = divmod(i, 2)\n",
    "#     '''\n",
    "#     Create SilhouetteVisualizer instance with KMeans instance\n",
    "#     Fit the visualizer\n",
    "#     '''\n",
    "#     visualizer = SilhouetteVisualizer(model, colors='yellowbrick', ax=ax[q-1][mod])\n",
    "#     visualizer.fit_predict(lrfmp_df_scaled)"
   ]
  },
  {
   "cell_type": "code",
   "execution_count": null,
   "metadata": {},
   "outputs": [],
   "source": [
    "from sklearn.metrics import silhouette_samples, silhouette_score\n",
    "import matplotlib.pyplot as plt\n",
    "import matplotlib.cm as cm\n",
    "from mpl_toolkits.mplot3d import Axes3D\n",
    "from sklearn.neighbors import NearestCentroid\n"
   ]
  },
  {
   "cell_type": "code",
   "execution_count": null,
   "metadata": {},
   "outputs": [],
   "source": [
    "def clustering(df1):\n",
    "    X = df1.iloc[:].values\n",
    "    range_n_clusters = [2,3,4,6,8]\n",
    "    for n_clusters in range_n_clusters:\n",
    "        # Create a subplot with 1 row and 2 columns\n",
    "        clusterer = AgglomerativeClustering(n_clusters=n_clusters, linkage='ward')\n",
    "        y_predict = clusterer.fit_predict(X)\n",
    "        cluster_labels = clusterer.labels_\n",
    "\n",
    "        clf = NearestCentroid()\n",
    "        clf.fit(X, y_predict)\n",
    "        print(\"Centroids:\")\n",
    "        print(clf.centroids_)\n",
    "\n",
    "        silhouette_avg = silhouette_score(X, cluster_labels)\n",
    "#         if silhouette_avg > 0.4:\n",
    "        print(\"For n_clusters =\", n_clusters,\n",
    "              \"The average silhouette_score is :\", silhouette_avg)\n",
    "        fig, (ax1,ax2) = plt.subplots(1, 2)\n",
    "\n",
    "        fig.set_size_inches(15, 5)\n",
    "\n",
    "        ax1.set_xlim([-0.1, 1])\n",
    "        ax1.set_ylim([0, len(X) + (n_clusters + 1) * 10])\n",
    "\n",
    "        sample_silhouette_values = silhouette_samples(X, cluster_labels)\n",
    "\n",
    "        y_lower = 10\n",
    "        for i in range(n_clusters):\n",
    "            ith_cluster_silhouette_values = \\\n",
    "                sample_silhouette_values[cluster_labels == i]\n",
    "\n",
    "            ith_cluster_silhouette_values.sort()\n",
    "\n",
    "            size_cluster_i = ith_cluster_silhouette_values.shape[0]\n",
    "            y_upper = y_lower + size_cluster_i\n",
    "\n",
    "            color = cm.nipy_spectral(float(i) / n_clusters)\n",
    "            ax1.fill_betweenx(np.arange(y_lower, y_upper),\n",
    "                              0, ith_cluster_silhouette_values,\n",
    "                              facecolor=color, edgecolor=color, alpha=0.7)\n",
    "            ax1.text(-0.05, y_lower + 0.5 * size_cluster_i, str(i))\n",
    "            y_lower = y_upper + 10  # 10 for the 0 samples\n",
    "\n",
    "            ax1.set_title(\"The silhouette plot for the various clusters.\")\n",
    "            ax1.set_xlabel(\"The silhouette coefficient values\")\n",
    "            ax1.set_ylabel(\"Cluster label\")\n",
    "            ax1.axvline(x=silhouette_avg, color=\"red\", linestyle=\"--\")\n",
    "\n",
    "            ax1.set_yticks([])  # Clear the yaxis labels / ticks\n",
    "            ax1.set_xticks([-0.1, 0, 0.2, 0.4, 0.6, 0.8, 1])\n",
    "#             ax = Axes3D(fig)\n",
    "#             colors = cm.nipy_spectral(cluster_labels.astype(float) / n_clusters)\n",
    "#             ax.scatter(X[:, 1], X[:, 2], X[:, 0],marker='o', s=20, lw=0, alpha=0.7,\n",
    "#                         c=colors, edgecolor='k')\n",
    "\n",
    "            plt.suptitle((\"Silhouette analysis for HAC-ward clustering on sample data \"\n",
    "                          \"with n_clusters = %d\" % n_clusters),\n",
    "                         fontsize=14, fontweight='bold')\n",
    "    plt.show()\n",
    "\n",
    "    return"
   ]
  },
  {
   "cell_type": "code",
   "execution_count": null,
   "metadata": {},
   "outputs": [],
   "source": [
    "clustering(lrfmp_df_scaled)\n",
    "# refrence   \n",
    "# https://dzone.com/articles/kmeans-silhouette-score-explained-with-python-exam\n",
    "# https://gist.github.com/bitsnaps/12415200fc62539fff852a1b46168d0a"
   ]
  },
  {
   "cell_type": "code",
   "execution_count": null,
   "metadata": {},
   "outputs": [],
   "source": []
  },
  {
   "cell_type": "code",
   "execution_count": null,
   "metadata": {},
   "outputs": [],
   "source": []
  },
  {
   "cell_type": "code",
   "execution_count": null,
   "metadata": {},
   "outputs": [],
   "source": []
  },
  {
   "cell_type": "code",
   "execution_count": null,
   "metadata": {},
   "outputs": [],
   "source": []
  },
  {
   "cell_type": "code",
   "execution_count": null,
   "metadata": {},
   "outputs": [],
   "source": []
  },
  {
   "cell_type": "code",
   "execution_count": null,
   "metadata": {},
   "outputs": [],
   "source": []
  },
  {
   "cell_type": "code",
   "execution_count": null,
   "metadata": {},
   "outputs": [],
   "source": []
  },
  {
   "cell_type": "code",
   "execution_count": null,
   "metadata": {},
   "outputs": [],
   "source": [
    "from sklearn.metrics import pairwise_distances\n",
    "# Your method to calculate distance between two samples\n",
    "def sim(x, y): \n",
    "    return np.sum(np.equal(np.array(x), np.array(y)))/len(x)\n",
    "\n",
    "\n",
    "# Method to calculate distances between all sample pairs\n",
    "\n",
    "def sim_affinity(X):\n",
    "    return pairwise_distances(X, metric=sim)\n",
    "\n",
    "# cluster = AgglomerativeClustering(n_clusters=3, affinity=sim_affinity, linkage='average')\n",
    "# cluster.fit(lrfmp_df_scaled)"
   ]
  },
  {
   "cell_type": "code",
   "execution_count": null,
   "metadata": {},
   "outputs": [],
   "source": []
  },
  {
   "cell_type": "code",
   "execution_count": null,
   "metadata": {},
   "outputs": [],
   "source": [
    "from scipy.spatial import distance\n",
    "def dtw(a, b):   \n",
    "    an = a.size\n",
    "    bn = b.size\n",
    "    pointwise_distance = distance.cdist(a.reshape(-1,1),b.reshape(-1,1))\n",
    "    cumdist = np.matrix(np.ones((an+1,bn+1)) * np.inf)\n",
    "    cumdist[0,0] = 0\n",
    "    \n",
    "    for ai in range(an):\n",
    "        for bi in range(bn):\n",
    "            minimum_cost = np.min([cumdist[ai, bi+1],\n",
    "                                   cumdist[ai+1, bi],\n",
    "                                   cumdist[ai, bi]])\n",
    "            cumdist[ai+1, bi+1] = pointwise_distance[ai,bi] + minimum_cost\n",
    "\n",
    "    return cumdist[an, bn]\n",
    "\n",
    "def dtw_affinity(X):\n",
    "    return pairwise_distances(X, metric=dtw)\n",
    "\n",
    "# cluster = AgglomerativeClustering(n_clusters=3, affinity='precomputed', linkage='average')\n",
    "# cluster.fit(lrfmp_df_scaled)\n"
   ]
  },
  {
   "cell_type": "code",
   "execution_count": null,
   "metadata": {},
   "outputs": [],
   "source": [
    "# # Test symmetric matrix\n",
    "# N = 4\n",
    "# # b = np.random.randint(0,5,size=(N,N))\n",
    "# b_symm = (lrfmp_df_scaled + lrfmp_df_scaled.T)/2\n",
    "# # np.fill_diagonal(b_symm,np.zeros(lrfmp_df_scaled.shape))\n",
    "# model = AgglomerativeClustering(n_clusters=3, affinity='precomputed', linkage='average')\n",
    "# y = model.fit_predict(b_symm)"
   ]
  },
  {
   "cell_type": "code",
   "execution_count": null,
   "metadata": {},
   "outputs": [],
   "source": []
  }
 ],
 "metadata": {
  "kernelspec": {
   "display_name": "Python 3",
   "language": "python",
   "name": "python3"
  },
  "language_info": {
   "codemirror_mode": {
    "name": "ipython",
    "version": 3
   },
   "file_extension": ".py",
   "mimetype": "text/x-python",
   "name": "python",
   "nbconvert_exporter": "python",
   "pygments_lexer": "ipython3",
   "version": "3.8.5"
  }
 },
 "nbformat": 4,
 "nbformat_minor": 4
}
